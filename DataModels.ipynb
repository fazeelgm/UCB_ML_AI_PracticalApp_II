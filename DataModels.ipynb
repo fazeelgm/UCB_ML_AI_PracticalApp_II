{
 "cells": [
  {
   "cell_type": "code",
   "execution_count": 1,
   "id": "7a73b111-2233-443b-8bbd-dcb7a25d9141",
   "metadata": {},
   "outputs": [],
   "source": [
    "import matplotlib.pyplot as plt\n",
    "import seaborn as sns\n",
    "import numpy as np\n",
    "import pandas as pd\n",
    "\n",
    "sns.set_theme(style='darkgrid')\n",
    "\n",
    "import time\n",
    "\n",
    "# import my utility methods for this project\n",
    "import utils_practical_2 as my_utils\n",
    "\n",
    "# Configure logging\n",
    "import logging\n",
    "logging.basicConfig(level=logging.INFO, format='%(levelname)s: %(message)s')"
   ]
  },
  {
   "cell_type": "markdown",
   "id": "ce56df00-e340-42e6-855d-0df5e3e265af",
   "metadata": {},
   "source": [
    "# On to Modeling ...\n",
    "\n",
    "**This notebook picks up from the Data Investigation (see ```DataInvestigation.ipynb```)**\n",
    "\n",
    "[Local file](DataInvestigation.ipynb)\n",
    "[Github](https://github.com/fazeelgm/UCB_ML_AI_PracticalApp_II/blob/main/DataInvestigation.ipynb)"
   ]
  },
  {
   "cell_type": "markdown",
   "id": "a42a564e-b12a-439c-a15d-342c0054f9ed",
   "metadata": {},
   "source": [
    "## Data Cleanup"
   ]
  },
  {
   "cell_type": "markdown",
   "id": "8ccd992b-4eb6-494d-ba4d-c575bef1297c",
   "metadata": {},
   "source": [
    "The data cleansing results are as follows:"
   ]
  },
  {
   "cell_type": "code",
   "execution_count": 5,
   "id": "5bf7ae0c-5f0b-4bf6-8211-ff40a719cf78",
   "metadata": {},
   "outputs": [
    {
     "name": "stdout",
     "output_type": "stream",
     "text": [
      "Reading data/vehicles.csv ... Done: (426880, 18)\n",
      "\n",
      "Cleansing price column ... \n",
      "... Removing price outliers using ModZ method ... \n",
      "... ModZ: 9450.0, med: 13950.0, const: 0.6745\n",
      "... Time: 0.13445091247558594\n",
      "... Removed 5,790 outliers\n",
      "... Removing cars with price = 0 ...  Removed 32,895 rows\n",
      "Done: (421090, 19) -> (388195, 19)\n",
      "\n",
      "DropNA from columns: \n",
      "... year: 1,029 rows (0.27% of total): 388,195 -> 387,166\n",
      "... manufacturer: 16,609 rows (4.28% of total): 388,195 -> 371,586\n",
      "... fuel: 19,173 rows (4.94% of total): 388,195 -> 369,022\n",
      "... title_status: 26,730 rows (6.89% of total): 388,195 -> 361,465\n",
      "... odometer: 28,960 rows (7.46% of total): 388,195 -> 359,235\n",
      "... transmission: 30,742 rows (7.92% of total): 388,195 -> 357,453\n",
      "Done: (388195, 19) -> (360700, 19)\n",
      "\n",
      "Dropping columns: ['mod_zscore', 'id', 'model']\n",
      "... mod_zscore\n",
      "... id\n",
      "... model\n",
      "Done: (360700, 19) -> (360700, 16)\n",
      "\n",
      "Data Transformations:\n",
      "... year float -> int: Done\n",
      "... odometer float -> int: Done\n",
      "\n",
      "Category Transformations:\n",
      "... Converting column \"condition\" -> Category: Done\n",
      "... Converting column \"manufacturer\" -> Category: Done\n",
      "... Converting column \"cylinders\" -> Category: Done\n",
      "... Converting column \"fuel\" -> Category: Done\n",
      "... Converting column \"title_status\" -> Category: Done\n",
      "... Converting column \"state\" -> Category: Done\n",
      "... Converting column \"transmission\" -> Category: Done\n",
      "... Converting column \"drive\" -> Category: Done\n",
      "... Converting column \"size\" -> Category: Done\n",
      "... Converting column \"type\" -> Category: Done\n",
      "... Converting column \"paint_color\" -> Category: Done\n",
      "\n",
      "Returned Raw(426,880x19) and Cleansed(360,700x16) data\n",
      "Dataset reduced by 66,180 rows (preserved 84.50% of total)\n"
     ]
    }
   ],
   "source": [
    "vehicles_raw, vehicles_cleansed = my_utils.get_cleansed_data()"
   ]
  },
  {
   "cell_type": "code",
   "execution_count": 6,
   "id": "bfee5084-49bb-40b1-aa09-a29e63d87c4a",
   "metadata": {},
   "outputs": [
    {
     "name": "stdout",
     "output_type": "stream",
     "text": [
      "<class 'pandas.core.frame.DataFrame'>\n",
      "Index: 360700 entries, 27 to 426879\n",
      "Data columns (total 16 columns):\n",
      " #   Column        Non-Null Count   Dtype   \n",
      "---  ------        --------------   -----   \n",
      " 0   region        360700 non-null  object  \n",
      " 1   price         360700 non-null  int64   \n",
      " 2   year          360700 non-null  int64   \n",
      " 3   manufacturer  360700 non-null  category\n",
      " 4   condition     223668 non-null  category\n",
      " 5   cylinders     213522 non-null  category\n",
      " 6   fuel          360700 non-null  category\n",
      " 7   odometer      360700 non-null  int64   \n",
      " 8   title_status  360700 non-null  category\n",
      " 9   transmission  360700 non-null  category\n",
      " 10  VIN           219818 non-null  object  \n",
      " 11  drive         252582 non-null  category\n",
      " 12  size          104338 non-null  category\n",
      " 13  type          282300 non-null  category\n",
      " 14  paint_color   257706 non-null  category\n",
      " 15  state         360700 non-null  category\n",
      "dtypes: category(11), int64(3), object(2)\n",
      "memory usage: 20.3+ MB\n"
     ]
    }
   ],
   "source": [
    "vehicles_cleansed.info()"
   ]
  },
  {
   "cell_type": "markdown",
   "id": "82496735-dab0-4dae-b489-06e0f21cbeec",
   "metadata": {},
   "source": [
    "# On to Modeling ...\n",
    "\n",
    "While investigating the different features of our dataset during the data investigation, I learned two things:\n",
    "\n",
    "1. The data is very noisy with extreme outliers - I removed null data and outliers as much as possible\n",
    "   * 66,180 samples were dropped, preserving 84.50% of the original data\n",
    "3. To aid in this effort, I researched the used car marketplace to get some idea of pricing, important features that drive price and potential inventory segments"
   ]
  },
  {
   "cell_type": "markdown",
   "id": "d0e233e8-2531-4fef-af0b-6d1d9586e512",
   "metadata": {},
   "source": [
    "## Initial Hypothesis\n",
    "\n",
    "Based on Price inspection, a potential hypothesis arose that the used car inventory is _segmented_ based on the following price bands:\n",
    "\n",
    "![](images/candidate-price-segments.png)\n",
    "\n",
    "In addition, market research suggested that typical used cars can be categoriezed into price ranges like Budget, Mid, Luxury, etc. that will be based on feature groups. I looked at ```<price, year, condition, odometer>``` combinations and saw that there was clustering behavior as shown by the scatter plots below:\n",
    "\n",
    "![](images/scatter-price-odo-condition-budget.png)\n",
    "![](images/scatter-price-odo-year-entry.png)\n",
    "\n",
    "So, I will now use clustering techniques to see if we can observe natural clustering of features in our sample population."
   ]
  },
  {
   "cell_type": "markdown",
   "id": "024a230d-e322-43ee-a76c-62a914619bcf",
   "metadata": {},
   "source": [
    "## Data Preparation"
   ]
  },
  {
   "cell_type": "code",
   "execution_count": 10,
   "id": "a9f871a2-c164-41df-835f-fe553ad05a1b",
   "metadata": {},
   "outputs": [],
   "source": [
    "from sklearn.compose import make_column_selector, make_column_transformer\n",
    "from sklearn.preprocessing import OneHotEncoder, StandardScaler, PolynomialFeatures, OrdinalEncoder\n",
    "\n",
    "from sklearn.linear_model import LinearRegression, LogisticRegression, Ridge, Lasso\n",
    "from sklearn.metrics import mean_squared_error, mean_absolute_error, r2_score\n",
    "\n",
    "from sklearn.feature_selection import SelectFromModel\n",
    "from sklearn.pipeline import Pipeline\n",
    "from sklearn.model_selection import train_test_split, GridSearchCV\n",
    "from sklearn.metrics import ConfusionMatrixDisplay, RocCurveDisplay\n",
    "from sklearn.metrics import confusion_matrix, roc_curve, auc\n",
    "from sklearn.metrics import auc as auc_temp"
   ]
  },
  {
   "cell_type": "markdown",
   "id": "c181fda8-a624-4f2b-a3f1-afe621cfa86e",
   "metadata": {},
   "source": [
    "### Data Transformation & Scaling"
   ]
  },
  {
   "cell_type": "code",
   "execution_count": 12,
   "id": "dad328aa-9890-4838-966b-8ebb180b0a4f",
   "metadata": {},
   "outputs": [
    {
     "data": {
      "text/plain": [
       "['region',\n",
       " 'manufacturer',\n",
       " 'condition',\n",
       " 'cylinders',\n",
       " 'fuel',\n",
       " 'title_status',\n",
       " 'transmission',\n",
       " 'VIN',\n",
       " 'drive',\n",
       " 'size',\n",
       " 'type',\n",
       " 'paint_color',\n",
       " 'state']"
      ]
     },
     "execution_count": 12,
     "metadata": {},
     "output_type": "execute_result"
    }
   ],
   "source": [
    "vehicles_cleansed.select_dtypes(include=['object', 'category']).columns.tolist()"
   ]
  },
  {
   "cell_type": "code",
   "execution_count": 13,
   "id": "7ecac21f-f7e4-48fa-b066-7e38f7dc37c7",
   "metadata": {},
   "outputs": [],
   "source": [
    "selector = make_column_selector(dtype_include=['object', 'category'])"
   ]
  },
  {
   "cell_type": "code",
   "execution_count": 14,
   "id": "f9c4e758-070d-496a-93aa-f96b868ffb08",
   "metadata": {},
   "outputs": [
    {
     "data": {
      "text/plain": [
       "Index(['region', 'manufacturer', 'condition', 'cylinders', 'fuel',\n",
       "       'title_status', 'transmission', 'VIN', 'drive', 'size', 'type',\n",
       "       'paint_color', 'state'],\n",
       "      dtype='object')"
      ]
     },
     "execution_count": 14,
     "metadata": {},
     "output_type": "execute_result"
    }
   ],
   "source": [
    "vehicles_cleansed.select_dtypes(include=['object', 'category']).columns"
   ]
  },
  {
   "cell_type": "code",
   "execution_count": 15,
   "id": "2446ea68-e22c-4464-b40e-3eb0c43c8fdb",
   "metadata": {},
   "outputs": [
    {
     "data": {
      "text/html": [
       "<style>#sk-container-id-1 {\n",
       "  /* Definition of color scheme common for light and dark mode */\n",
       "  --sklearn-color-text: black;\n",
       "  --sklearn-color-line: gray;\n",
       "  /* Definition of color scheme for unfitted estimators */\n",
       "  --sklearn-color-unfitted-level-0: #fff5e6;\n",
       "  --sklearn-color-unfitted-level-1: #f6e4d2;\n",
       "  --sklearn-color-unfitted-level-2: #ffe0b3;\n",
       "  --sklearn-color-unfitted-level-3: chocolate;\n",
       "  /* Definition of color scheme for fitted estimators */\n",
       "  --sklearn-color-fitted-level-0: #f0f8ff;\n",
       "  --sklearn-color-fitted-level-1: #d4ebff;\n",
       "  --sklearn-color-fitted-level-2: #b3dbfd;\n",
       "  --sklearn-color-fitted-level-3: cornflowerblue;\n",
       "\n",
       "  /* Specific color for light theme */\n",
       "  --sklearn-color-text-on-default-background: var(--sg-text-color, var(--theme-code-foreground, var(--jp-content-font-color1, black)));\n",
       "  --sklearn-color-background: var(--sg-background-color, var(--theme-background, var(--jp-layout-color0, white)));\n",
       "  --sklearn-color-border-box: var(--sg-text-color, var(--theme-code-foreground, var(--jp-content-font-color1, black)));\n",
       "  --sklearn-color-icon: #696969;\n",
       "\n",
       "  @media (prefers-color-scheme: dark) {\n",
       "    /* Redefinition of color scheme for dark theme */\n",
       "    --sklearn-color-text-on-default-background: var(--sg-text-color, var(--theme-code-foreground, var(--jp-content-font-color1, white)));\n",
       "    --sklearn-color-background: var(--sg-background-color, var(--theme-background, var(--jp-layout-color0, #111)));\n",
       "    --sklearn-color-border-box: var(--sg-text-color, var(--theme-code-foreground, var(--jp-content-font-color1, white)));\n",
       "    --sklearn-color-icon: #878787;\n",
       "  }\n",
       "}\n",
       "\n",
       "#sk-container-id-1 {\n",
       "  color: var(--sklearn-color-text);\n",
       "}\n",
       "\n",
       "#sk-container-id-1 pre {\n",
       "  padding: 0;\n",
       "}\n",
       "\n",
       "#sk-container-id-1 input.sk-hidden--visually {\n",
       "  border: 0;\n",
       "  clip: rect(1px 1px 1px 1px);\n",
       "  clip: rect(1px, 1px, 1px, 1px);\n",
       "  height: 1px;\n",
       "  margin: -1px;\n",
       "  overflow: hidden;\n",
       "  padding: 0;\n",
       "  position: absolute;\n",
       "  width: 1px;\n",
       "}\n",
       "\n",
       "#sk-container-id-1 div.sk-dashed-wrapped {\n",
       "  border: 1px dashed var(--sklearn-color-line);\n",
       "  margin: 0 0.4em 0.5em 0.4em;\n",
       "  box-sizing: border-box;\n",
       "  padding-bottom: 0.4em;\n",
       "  background-color: var(--sklearn-color-background);\n",
       "}\n",
       "\n",
       "#sk-container-id-1 div.sk-container {\n",
       "  /* jupyter's `normalize.less` sets `[hidden] { display: none; }`\n",
       "     but bootstrap.min.css set `[hidden] { display: none !important; }`\n",
       "     so we also need the `!important` here to be able to override the\n",
       "     default hidden behavior on the sphinx rendered scikit-learn.org.\n",
       "     See: https://github.com/scikit-learn/scikit-learn/issues/21755 */\n",
       "  display: inline-block !important;\n",
       "  position: relative;\n",
       "}\n",
       "\n",
       "#sk-container-id-1 div.sk-text-repr-fallback {\n",
       "  display: none;\n",
       "}\n",
       "\n",
       "div.sk-parallel-item,\n",
       "div.sk-serial,\n",
       "div.sk-item {\n",
       "  /* draw centered vertical line to link estimators */\n",
       "  background-image: linear-gradient(var(--sklearn-color-text-on-default-background), var(--sklearn-color-text-on-default-background));\n",
       "  background-size: 2px 100%;\n",
       "  background-repeat: no-repeat;\n",
       "  background-position: center center;\n",
       "}\n",
       "\n",
       "/* Parallel-specific style estimator block */\n",
       "\n",
       "#sk-container-id-1 div.sk-parallel-item::after {\n",
       "  content: \"\";\n",
       "  width: 100%;\n",
       "  border-bottom: 2px solid var(--sklearn-color-text-on-default-background);\n",
       "  flex-grow: 1;\n",
       "}\n",
       "\n",
       "#sk-container-id-1 div.sk-parallel {\n",
       "  display: flex;\n",
       "  align-items: stretch;\n",
       "  justify-content: center;\n",
       "  background-color: var(--sklearn-color-background);\n",
       "  position: relative;\n",
       "}\n",
       "\n",
       "#sk-container-id-1 div.sk-parallel-item {\n",
       "  display: flex;\n",
       "  flex-direction: column;\n",
       "}\n",
       "\n",
       "#sk-container-id-1 div.sk-parallel-item:first-child::after {\n",
       "  align-self: flex-end;\n",
       "  width: 50%;\n",
       "}\n",
       "\n",
       "#sk-container-id-1 div.sk-parallel-item:last-child::after {\n",
       "  align-self: flex-start;\n",
       "  width: 50%;\n",
       "}\n",
       "\n",
       "#sk-container-id-1 div.sk-parallel-item:only-child::after {\n",
       "  width: 0;\n",
       "}\n",
       "\n",
       "/* Serial-specific style estimator block */\n",
       "\n",
       "#sk-container-id-1 div.sk-serial {\n",
       "  display: flex;\n",
       "  flex-direction: column;\n",
       "  align-items: center;\n",
       "  background-color: var(--sklearn-color-background);\n",
       "  padding-right: 1em;\n",
       "  padding-left: 1em;\n",
       "}\n",
       "\n",
       "\n",
       "/* Toggleable style: style used for estimator/Pipeline/ColumnTransformer box that is\n",
       "clickable and can be expanded/collapsed.\n",
       "- Pipeline and ColumnTransformer use this feature and define the default style\n",
       "- Estimators will overwrite some part of the style using the `sk-estimator` class\n",
       "*/\n",
       "\n",
       "/* Pipeline and ColumnTransformer style (default) */\n",
       "\n",
       "#sk-container-id-1 div.sk-toggleable {\n",
       "  /* Default theme specific background. It is overwritten whether we have a\n",
       "  specific estimator or a Pipeline/ColumnTransformer */\n",
       "  background-color: var(--sklearn-color-background);\n",
       "}\n",
       "\n",
       "/* Toggleable label */\n",
       "#sk-container-id-1 label.sk-toggleable__label {\n",
       "  cursor: pointer;\n",
       "  display: block;\n",
       "  width: 100%;\n",
       "  margin-bottom: 0;\n",
       "  padding: 0.5em;\n",
       "  box-sizing: border-box;\n",
       "  text-align: center;\n",
       "}\n",
       "\n",
       "#sk-container-id-1 label.sk-toggleable__label-arrow:before {\n",
       "  /* Arrow on the left of the label */\n",
       "  content: \"▸\";\n",
       "  float: left;\n",
       "  margin-right: 0.25em;\n",
       "  color: var(--sklearn-color-icon);\n",
       "}\n",
       "\n",
       "#sk-container-id-1 label.sk-toggleable__label-arrow:hover:before {\n",
       "  color: var(--sklearn-color-text);\n",
       "}\n",
       "\n",
       "/* Toggleable content - dropdown */\n",
       "\n",
       "#sk-container-id-1 div.sk-toggleable__content {\n",
       "  max-height: 0;\n",
       "  max-width: 0;\n",
       "  overflow: hidden;\n",
       "  text-align: left;\n",
       "  /* unfitted */\n",
       "  background-color: var(--sklearn-color-unfitted-level-0);\n",
       "}\n",
       "\n",
       "#sk-container-id-1 div.sk-toggleable__content.fitted {\n",
       "  /* fitted */\n",
       "  background-color: var(--sklearn-color-fitted-level-0);\n",
       "}\n",
       "\n",
       "#sk-container-id-1 div.sk-toggleable__content pre {\n",
       "  margin: 0.2em;\n",
       "  border-radius: 0.25em;\n",
       "  color: var(--sklearn-color-text);\n",
       "  /* unfitted */\n",
       "  background-color: var(--sklearn-color-unfitted-level-0);\n",
       "}\n",
       "\n",
       "#sk-container-id-1 div.sk-toggleable__content.fitted pre {\n",
       "  /* unfitted */\n",
       "  background-color: var(--sklearn-color-fitted-level-0);\n",
       "}\n",
       "\n",
       "#sk-container-id-1 input.sk-toggleable__control:checked~div.sk-toggleable__content {\n",
       "  /* Expand drop-down */\n",
       "  max-height: 200px;\n",
       "  max-width: 100%;\n",
       "  overflow: auto;\n",
       "}\n",
       "\n",
       "#sk-container-id-1 input.sk-toggleable__control:checked~label.sk-toggleable__label-arrow:before {\n",
       "  content: \"▾\";\n",
       "}\n",
       "\n",
       "/* Pipeline/ColumnTransformer-specific style */\n",
       "\n",
       "#sk-container-id-1 div.sk-label input.sk-toggleable__control:checked~label.sk-toggleable__label {\n",
       "  color: var(--sklearn-color-text);\n",
       "  background-color: var(--sklearn-color-unfitted-level-2);\n",
       "}\n",
       "\n",
       "#sk-container-id-1 div.sk-label.fitted input.sk-toggleable__control:checked~label.sk-toggleable__label {\n",
       "  background-color: var(--sklearn-color-fitted-level-2);\n",
       "}\n",
       "\n",
       "/* Estimator-specific style */\n",
       "\n",
       "/* Colorize estimator box */\n",
       "#sk-container-id-1 div.sk-estimator input.sk-toggleable__control:checked~label.sk-toggleable__label {\n",
       "  /* unfitted */\n",
       "  background-color: var(--sklearn-color-unfitted-level-2);\n",
       "}\n",
       "\n",
       "#sk-container-id-1 div.sk-estimator.fitted input.sk-toggleable__control:checked~label.sk-toggleable__label {\n",
       "  /* fitted */\n",
       "  background-color: var(--sklearn-color-fitted-level-2);\n",
       "}\n",
       "\n",
       "#sk-container-id-1 div.sk-label label.sk-toggleable__label,\n",
       "#sk-container-id-1 div.sk-label label {\n",
       "  /* The background is the default theme color */\n",
       "  color: var(--sklearn-color-text-on-default-background);\n",
       "}\n",
       "\n",
       "/* On hover, darken the color of the background */\n",
       "#sk-container-id-1 div.sk-label:hover label.sk-toggleable__label {\n",
       "  color: var(--sklearn-color-text);\n",
       "  background-color: var(--sklearn-color-unfitted-level-2);\n",
       "}\n",
       "\n",
       "/* Label box, darken color on hover, fitted */\n",
       "#sk-container-id-1 div.sk-label.fitted:hover label.sk-toggleable__label.fitted {\n",
       "  color: var(--sklearn-color-text);\n",
       "  background-color: var(--sklearn-color-fitted-level-2);\n",
       "}\n",
       "\n",
       "/* Estimator label */\n",
       "\n",
       "#sk-container-id-1 div.sk-label label {\n",
       "  font-family: monospace;\n",
       "  font-weight: bold;\n",
       "  display: inline-block;\n",
       "  line-height: 1.2em;\n",
       "}\n",
       "\n",
       "#sk-container-id-1 div.sk-label-container {\n",
       "  text-align: center;\n",
       "}\n",
       "\n",
       "/* Estimator-specific */\n",
       "#sk-container-id-1 div.sk-estimator {\n",
       "  font-family: monospace;\n",
       "  border: 1px dotted var(--sklearn-color-border-box);\n",
       "  border-radius: 0.25em;\n",
       "  box-sizing: border-box;\n",
       "  margin-bottom: 0.5em;\n",
       "  /* unfitted */\n",
       "  background-color: var(--sklearn-color-unfitted-level-0);\n",
       "}\n",
       "\n",
       "#sk-container-id-1 div.sk-estimator.fitted {\n",
       "  /* fitted */\n",
       "  background-color: var(--sklearn-color-fitted-level-0);\n",
       "}\n",
       "\n",
       "/* on hover */\n",
       "#sk-container-id-1 div.sk-estimator:hover {\n",
       "  /* unfitted */\n",
       "  background-color: var(--sklearn-color-unfitted-level-2);\n",
       "}\n",
       "\n",
       "#sk-container-id-1 div.sk-estimator.fitted:hover {\n",
       "  /* fitted */\n",
       "  background-color: var(--sklearn-color-fitted-level-2);\n",
       "}\n",
       "\n",
       "/* Specification for estimator info (e.g. \"i\" and \"?\") */\n",
       "\n",
       "/* Common style for \"i\" and \"?\" */\n",
       "\n",
       ".sk-estimator-doc-link,\n",
       "a:link.sk-estimator-doc-link,\n",
       "a:visited.sk-estimator-doc-link {\n",
       "  float: right;\n",
       "  font-size: smaller;\n",
       "  line-height: 1em;\n",
       "  font-family: monospace;\n",
       "  background-color: var(--sklearn-color-background);\n",
       "  border-radius: 1em;\n",
       "  height: 1em;\n",
       "  width: 1em;\n",
       "  text-decoration: none !important;\n",
       "  margin-left: 1ex;\n",
       "  /* unfitted */\n",
       "  border: var(--sklearn-color-unfitted-level-1) 1pt solid;\n",
       "  color: var(--sklearn-color-unfitted-level-1);\n",
       "}\n",
       "\n",
       ".sk-estimator-doc-link.fitted,\n",
       "a:link.sk-estimator-doc-link.fitted,\n",
       "a:visited.sk-estimator-doc-link.fitted {\n",
       "  /* fitted */\n",
       "  border: var(--sklearn-color-fitted-level-1) 1pt solid;\n",
       "  color: var(--sklearn-color-fitted-level-1);\n",
       "}\n",
       "\n",
       "/* On hover */\n",
       "div.sk-estimator:hover .sk-estimator-doc-link:hover,\n",
       ".sk-estimator-doc-link:hover,\n",
       "div.sk-label-container:hover .sk-estimator-doc-link:hover,\n",
       ".sk-estimator-doc-link:hover {\n",
       "  /* unfitted */\n",
       "  background-color: var(--sklearn-color-unfitted-level-3);\n",
       "  color: var(--sklearn-color-background);\n",
       "  text-decoration: none;\n",
       "}\n",
       "\n",
       "div.sk-estimator.fitted:hover .sk-estimator-doc-link.fitted:hover,\n",
       ".sk-estimator-doc-link.fitted:hover,\n",
       "div.sk-label-container:hover .sk-estimator-doc-link.fitted:hover,\n",
       ".sk-estimator-doc-link.fitted:hover {\n",
       "  /* fitted */\n",
       "  background-color: var(--sklearn-color-fitted-level-3);\n",
       "  color: var(--sklearn-color-background);\n",
       "  text-decoration: none;\n",
       "}\n",
       "\n",
       "/* Span, style for the box shown on hovering the info icon */\n",
       ".sk-estimator-doc-link span {\n",
       "  display: none;\n",
       "  z-index: 9999;\n",
       "  position: relative;\n",
       "  font-weight: normal;\n",
       "  right: .2ex;\n",
       "  padding: .5ex;\n",
       "  margin: .5ex;\n",
       "  width: min-content;\n",
       "  min-width: 20ex;\n",
       "  max-width: 50ex;\n",
       "  color: var(--sklearn-color-text);\n",
       "  box-shadow: 2pt 2pt 4pt #999;\n",
       "  /* unfitted */\n",
       "  background: var(--sklearn-color-unfitted-level-0);\n",
       "  border: .5pt solid var(--sklearn-color-unfitted-level-3);\n",
       "}\n",
       "\n",
       ".sk-estimator-doc-link.fitted span {\n",
       "  /* fitted */\n",
       "  background: var(--sklearn-color-fitted-level-0);\n",
       "  border: var(--sklearn-color-fitted-level-3);\n",
       "}\n",
       "\n",
       ".sk-estimator-doc-link:hover span {\n",
       "  display: block;\n",
       "}\n",
       "\n",
       "/* \"?\"-specific style due to the `<a>` HTML tag */\n",
       "\n",
       "#sk-container-id-1 a.estimator_doc_link {\n",
       "  float: right;\n",
       "  font-size: 1rem;\n",
       "  line-height: 1em;\n",
       "  font-family: monospace;\n",
       "  background-color: var(--sklearn-color-background);\n",
       "  border-radius: 1rem;\n",
       "  height: 1rem;\n",
       "  width: 1rem;\n",
       "  text-decoration: none;\n",
       "  /* unfitted */\n",
       "  color: var(--sklearn-color-unfitted-level-1);\n",
       "  border: var(--sklearn-color-unfitted-level-1) 1pt solid;\n",
       "}\n",
       "\n",
       "#sk-container-id-1 a.estimator_doc_link.fitted {\n",
       "  /* fitted */\n",
       "  border: var(--sklearn-color-fitted-level-1) 1pt solid;\n",
       "  color: var(--sklearn-color-fitted-level-1);\n",
       "}\n",
       "\n",
       "/* On hover */\n",
       "#sk-container-id-1 a.estimator_doc_link:hover {\n",
       "  /* unfitted */\n",
       "  background-color: var(--sklearn-color-unfitted-level-3);\n",
       "  color: var(--sklearn-color-background);\n",
       "  text-decoration: none;\n",
       "}\n",
       "\n",
       "#sk-container-id-1 a.estimator_doc_link.fitted:hover {\n",
       "  /* fitted */\n",
       "  background-color: var(--sklearn-color-fitted-level-3);\n",
       "}\n",
       "</style><div id=\"sk-container-id-1\" class=\"sk-top-container\"><div class=\"sk-text-repr-fallback\"><pre>ColumnTransformer(remainder=StandardScaler(),\n",
       "                  transformers=[(&#x27;onehotencoder&#x27;, OneHotEncoder(drop=&#x27;first&#x27;),\n",
       "                                 &lt;sklearn.compose._column_transformer.make_column_selector object at 0x12a9c9a90&gt;)])</pre><b>In a Jupyter environment, please rerun this cell to show the HTML representation or trust the notebook. <br />On GitHub, the HTML representation is unable to render, please try loading this page with nbviewer.org.</b></div><div class=\"sk-container\" hidden><div class=\"sk-item sk-dashed-wrapped\"><div class=\"sk-label-container\"><div class=\"sk-label  sk-toggleable\"><input class=\"sk-toggleable__control sk-hidden--visually\" id=\"sk-estimator-id-1\" type=\"checkbox\" ><label for=\"sk-estimator-id-1\" class=\"sk-toggleable__label  sk-toggleable__label-arrow \">&nbsp;&nbsp;ColumnTransformer<a class=\"sk-estimator-doc-link \" rel=\"noreferrer\" target=\"_blank\" href=\"https://scikit-learn.org/1.5/modules/generated/sklearn.compose.ColumnTransformer.html\">?<span>Documentation for ColumnTransformer</span></a><span class=\"sk-estimator-doc-link \">i<span>Not fitted</span></span></label><div class=\"sk-toggleable__content \"><pre>ColumnTransformer(remainder=StandardScaler(),\n",
       "                  transformers=[(&#x27;onehotencoder&#x27;, OneHotEncoder(drop=&#x27;first&#x27;),\n",
       "                                 &lt;sklearn.compose._column_transformer.make_column_selector object at 0x12a9c9a90&gt;)])</pre></div> </div></div><div class=\"sk-parallel\"><div class=\"sk-parallel-item\"><div class=\"sk-item\"><div class=\"sk-label-container\"><div class=\"sk-label  sk-toggleable\"><input class=\"sk-toggleable__control sk-hidden--visually\" id=\"sk-estimator-id-2\" type=\"checkbox\" ><label for=\"sk-estimator-id-2\" class=\"sk-toggleable__label  sk-toggleable__label-arrow \">onehotencoder</label><div class=\"sk-toggleable__content \"><pre>&lt;sklearn.compose._column_transformer.make_column_selector object at 0x12a9c9a90&gt;</pre></div> </div></div><div class=\"sk-serial\"><div class=\"sk-item\"><div class=\"sk-estimator  sk-toggleable\"><input class=\"sk-toggleable__control sk-hidden--visually\" id=\"sk-estimator-id-3\" type=\"checkbox\" ><label for=\"sk-estimator-id-3\" class=\"sk-toggleable__label  sk-toggleable__label-arrow \">&nbsp;OneHotEncoder<a class=\"sk-estimator-doc-link \" rel=\"noreferrer\" target=\"_blank\" href=\"https://scikit-learn.org/1.5/modules/generated/sklearn.preprocessing.OneHotEncoder.html\">?<span>Documentation for OneHotEncoder</span></a></label><div class=\"sk-toggleable__content \"><pre>OneHotEncoder(drop=&#x27;first&#x27;)</pre></div> </div></div></div></div></div><div class=\"sk-parallel-item\"><div class=\"sk-item\"><div class=\"sk-label-container\"><div class=\"sk-label  sk-toggleable\"><input class=\"sk-toggleable__control sk-hidden--visually\" id=\"sk-estimator-id-4\" type=\"checkbox\" ><label for=\"sk-estimator-id-4\" class=\"sk-toggleable__label  sk-toggleable__label-arrow \">remainder</label><div class=\"sk-toggleable__content \"><pre></pre></div> </div></div><div class=\"sk-serial\"><div class=\"sk-item\"><div class=\"sk-estimator  sk-toggleable\"><input class=\"sk-toggleable__control sk-hidden--visually\" id=\"sk-estimator-id-5\" type=\"checkbox\" ><label for=\"sk-estimator-id-5\" class=\"sk-toggleable__label  sk-toggleable__label-arrow \">&nbsp;StandardScaler<a class=\"sk-estimator-doc-link \" rel=\"noreferrer\" target=\"_blank\" href=\"https://scikit-learn.org/1.5/modules/generated/sklearn.preprocessing.StandardScaler.html\">?<span>Documentation for StandardScaler</span></a></label><div class=\"sk-toggleable__content \"><pre>StandardScaler()</pre></div> </div></div></div></div></div></div></div></div></div>"
      ],
      "text/plain": [
       "ColumnTransformer(remainder=StandardScaler(),\n",
       "                  transformers=[('onehotencoder', OneHotEncoder(drop='first'),\n",
       "                                 <sklearn.compose._column_transformer.make_column_selector object at 0x12a9c9a90>)])"
      ]
     },
     "execution_count": 15,
     "metadata": {},
     "output_type": "execute_result"
    }
   ],
   "source": [
    "transformer = make_column_transformer(\n",
    "    (OneHotEncoder(drop = 'first'), selector),\n",
    "    remainder= StandardScaler()\n",
    ")\n",
    "transformer"
   ]
  },
  {
   "cell_type": "code",
   "execution_count": 16,
   "id": "d3524bde-006c-49d7-a7ca-f7e2592e4757",
   "metadata": {},
   "outputs": [],
   "source": [
    "# transformer = make_column_transformer(\n",
    "#     (OrdinalEncoder(categories='auto'), ['condition']),\n",
    "#     (OrdinalEncoder(categories='auto'), ['cylinders']),\n",
    "#     (OrdinalEncoder(categories='auto'), ['manufacturer']),\n",
    "#     (OrdinalEncoder(categories='auto'), ['fuel']),\n",
    "#     (OrdinalEncoder(categories='auto'), ['title_status']),\n",
    "#     (OrdinalEncoder(categories='auto'), ['transmission']),\n",
    "#     (OrdinalEncoder(categories='auto'), ['drive']),\n",
    "#     (OrdinalEncoder(categories='auto'), ['size']),\n",
    "#     (OrdinalEncoder(categories='auto'), ['type']),\n",
    "#     (OrdinalEncoder(categories='auto'), ['paint_color']),\n",
    "#     (OrdinalEncoder(categories='auto'), ['state']),\n",
    "#     remainder= 'passthrough'\n",
    "# )\n",
    "# transformer"
   ]
  },
  {
   "cell_type": "markdown",
   "id": "17851850-a53b-4423-891d-e338681b48b7",
   "metadata": {},
   "source": [
    "# Clustering"
   ]
  },
  {
   "cell_type": "markdown",
   "id": "710cec01-6a60-421d-9650-b95b090cdcae",
   "metadata": {},
   "source": [
    "## PCA"
   ]
  },
  {
   "cell_type": "code",
   "execution_count": 19,
   "id": "21ab982b-4409-4db6-8d71-b88f6d94298a",
   "metadata": {},
   "outputs": [],
   "source": [
    "from sklearn.decomposition import PCA"
   ]
  },
  {
   "cell_type": "code",
   "execution_count": 20,
   "id": "8afd2b3f-48aa-43ca-a862-aee7b48176c1",
   "metadata": {
    "scrolled": true
   },
   "outputs": [
    {
     "data": {
      "text/plain": [
       "Index(['region', 'price', 'year', 'manufacturer', 'condition', 'cylinders',\n",
       "       'fuel', 'odometer', 'title_status', 'transmission', 'VIN', 'drive',\n",
       "       'size', 'type', 'paint_color', 'state'],\n",
       "      dtype='object')"
      ]
     },
     "execution_count": 20,
     "metadata": {},
     "output_type": "execute_result"
    }
   ],
   "source": [
    "vehicles_cleansed.columns"
   ]
  },
  {
   "cell_type": "code",
   "execution_count": 21,
   "id": "59f83955-d0fc-4c09-b531-6d089879ffc5",
   "metadata": {},
   "outputs": [],
   "source": [
    "pca_cols = ['price', 'year',  'condition', 'odometer', 'cylinders', 'title_status',\n",
    "            'manufacturer', 'fuel', 'transmission', 'drive',\n",
    "            'size', 'type', 'paint_color', 'state']"
   ]
  },
  {
   "cell_type": "code",
   "execution_count": 22,
   "id": "ee4e071c-8727-4599-b325-8f9a6cc37cb8",
   "metadata": {},
   "outputs": [
    {
     "data": {
      "text/html": [
       "<div>\n",
       "<style scoped>\n",
       "    .dataframe tbody tr th:only-of-type {\n",
       "        vertical-align: middle;\n",
       "    }\n",
       "\n",
       "    .dataframe tbody tr th {\n",
       "        vertical-align: top;\n",
       "    }\n",
       "\n",
       "    .dataframe thead th {\n",
       "        text-align: right;\n",
       "    }\n",
       "</style>\n",
       "<table border=\"1\" class=\"dataframe\">\n",
       "  <thead>\n",
       "    <tr style=\"text-align: right;\">\n",
       "      <th></th>\n",
       "      <th>price</th>\n",
       "      <th>year</th>\n",
       "      <th>condition</th>\n",
       "      <th>odometer</th>\n",
       "      <th>cylinders</th>\n",
       "      <th>title_status</th>\n",
       "      <th>manufacturer</th>\n",
       "      <th>fuel</th>\n",
       "      <th>transmission</th>\n",
       "      <th>drive</th>\n",
       "      <th>size</th>\n",
       "      <th>type</th>\n",
       "      <th>paint_color</th>\n",
       "      <th>state</th>\n",
       "    </tr>\n",
       "  </thead>\n",
       "  <tbody>\n",
       "    <tr>\n",
       "      <th>27</th>\n",
       "      <td>33590</td>\n",
       "      <td>2014</td>\n",
       "      <td>good</td>\n",
       "      <td>57923</td>\n",
       "      <td>8 cylinders</td>\n",
       "      <td>clean</td>\n",
       "      <td>gmc</td>\n",
       "      <td>gas</td>\n",
       "      <td>other</td>\n",
       "      <td>NaN</td>\n",
       "      <td>NaN</td>\n",
       "      <td>pickup</td>\n",
       "      <td>white</td>\n",
       "      <td>al</td>\n",
       "    </tr>\n",
       "    <tr>\n",
       "      <th>28</th>\n",
       "      <td>22590</td>\n",
       "      <td>2010</td>\n",
       "      <td>good</td>\n",
       "      <td>71229</td>\n",
       "      <td>8 cylinders</td>\n",
       "      <td>clean</td>\n",
       "      <td>chevrolet</td>\n",
       "      <td>gas</td>\n",
       "      <td>other</td>\n",
       "      <td>NaN</td>\n",
       "      <td>NaN</td>\n",
       "      <td>pickup</td>\n",
       "      <td>blue</td>\n",
       "      <td>al</td>\n",
       "    </tr>\n",
       "  </tbody>\n",
       "</table>\n",
       "</div>"
      ],
      "text/plain": [
       "    price  year condition  odometer    cylinders title_status manufacturer  \\\n",
       "27  33590  2014      good     57923  8 cylinders        clean          gmc   \n",
       "28  22590  2010      good     71229  8 cylinders        clean    chevrolet   \n",
       "\n",
       "   fuel transmission drive size    type paint_color state  \n",
       "27  gas        other   NaN  NaN  pickup       white    al  \n",
       "28  gas        other   NaN  NaN  pickup        blue    al  "
      ]
     },
     "execution_count": 22,
     "metadata": {},
     "output_type": "execute_result"
    }
   ],
   "source": [
    "data = vehicles_cleansed[pca_cols].copy()\n",
    "data.head(2)"
   ]
  },
  {
   "cell_type": "code",
   "execution_count": 23,
   "id": "4bf1b7ef-413b-4952-9b66-ac7f59d070ec",
   "metadata": {},
   "outputs": [
    {
     "name": "stdout",
     "output_type": "stream",
     "text": [
      "<class 'pandas.core.frame.DataFrame'>\n",
      "Index: 360700 entries, 27 to 426879\n",
      "Data columns (total 14 columns):\n",
      " #   Column        Non-Null Count   Dtype   \n",
      "---  ------        --------------   -----   \n",
      " 0   price         360700 non-null  int64   \n",
      " 1   year          360700 non-null  int64   \n",
      " 2   condition     223668 non-null  category\n",
      " 3   odometer      360700 non-null  int64   \n",
      " 4   cylinders     213522 non-null  category\n",
      " 5   title_status  360700 non-null  category\n",
      " 6   manufacturer  360700 non-null  category\n",
      " 7   fuel          360700 non-null  category\n",
      " 8   transmission  360700 non-null  category\n",
      " 9   drive         252582 non-null  category\n",
      " 10  size          104338 non-null  category\n",
      " 11  type          282300 non-null  category\n",
      " 12  paint_color   257706 non-null  category\n",
      " 13  state         360700 non-null  category\n",
      "dtypes: category(11), int64(3)\n",
      "memory usage: 14.8 MB\n"
     ]
    }
   ],
   "source": [
    "data.info()"
   ]
  },
  {
   "cell_type": "code",
   "execution_count": 24,
   "id": "49797321-b856-4d55-adcb-966dd1b22c04",
   "metadata": {},
   "outputs": [
    {
     "data": {
      "text/plain": [
       "(76137, 14)"
      ]
     },
     "execution_count": 24,
     "metadata": {},
     "output_type": "execute_result"
    }
   ],
   "source": [
    "# remove nulls for the PCA analysis\n",
    "data.dropna(subset=['condition', 'cylinders', 'drive', 'size', 'type', 'paint_color'], axis='index', inplace=True)\n",
    "data.shape"
   ]
  },
  {
   "cell_type": "code",
   "execution_count": 25,
   "id": "3a14259c-5a08-45e1-9852-3fa52fb2f67c",
   "metadata": {},
   "outputs": [],
   "source": [
    "# # Sample some data for testing\n",
    "# data = vehicles_cleansed[pca_cols].sample(frac=0.2, replace=False, random_state=42)\n",
    "# print('veh_cleansed.shape: {}, data.shape: {}', vehicles_cleansed.shape, data.shape)"
   ]
  },
  {
   "cell_type": "code",
   "execution_count": 26,
   "id": "78cf7f08-3a09-462b-b076-97aa78ba6a6e",
   "metadata": {},
   "outputs": [],
   "source": [
    "# # export subset\n",
    "# data = data[pca_cols].sample(frac=0.2, replace=False, random_state=42)\n",
    "# data.to_csv('/tmp/autos.csv')"
   ]
  },
  {
   "cell_type": "code",
   "execution_count": 27,
   "id": "d0305005-49e3-428a-8c68-07ae9bed95db",
   "metadata": {},
   "outputs": [
    {
     "name": "stdout",
     "output_type": "stream",
     "text": [
      "data_trans.shape: {} (76137, 144)\n"
     ]
    }
   ],
   "source": [
    "data_trans = transformer.fit_transform(data)\n",
    "print('data_trans.shape: {}', data_trans.shape)"
   ]
  },
  {
   "cell_type": "code",
   "execution_count": 28,
   "id": "26ffc284-3894-4b6e-8e2d-8b696febe5f0",
   "metadata": {
    "scrolled": true
   },
   "outputs": [
    {
     "data": {
      "text/plain": [
       "<bound method ColumnTransformer.get_feature_names_out of ColumnTransformer(remainder=StandardScaler(),\n",
       "                  transformers=[('onehotencoder', OneHotEncoder(drop='first'),\n",
       "                                 <sklearn.compose._column_transformer.make_column_selector object at 0x12a9c9a90>)])>"
      ]
     },
     "execution_count": 28,
     "metadata": {},
     "output_type": "execute_result"
    }
   ],
   "source": [
    "transformer.get_feature_names_out"
   ]
  },
  {
   "cell_type": "code",
   "execution_count": 29,
   "id": "bd9886c0-2346-40ea-a766-0d95d8365f3d",
   "metadata": {},
   "outputs": [
    {
     "name": "stdout",
     "output_type": "stream",
     "text": [
      "  (0, 9)\t1.0\n",
      "  (0, 29)\t1.0\n",
      "  (0, 58)\t1.0\n",
      "  (0, 64)\t1.0\n",
      "  (0, 65)\t1.0\n",
      "  (0, 77)\t1.0\n",
      "  (0, 91)\t1.0\n",
      "  (0, 141)\t0.15786009686785366\n",
      "  (0, 142)\t0.4775668361157643\n",
      "  (0, 143)\t0.016317589083210324\n"
     ]
    }
   ],
   "source": [
    "print(data_trans[0])"
   ]
  },
  {
   "cell_type": "code",
   "execution_count": 30,
   "id": "e56beafb-e5ab-423d-b968-d5e3bfbd57ed",
   "metadata": {},
   "outputs": [],
   "source": [
    "# Which set of data to use?\n",
    "candidate_data = data_trans\n",
    "# candidate_data = data"
   ]
  },
  {
   "cell_type": "code",
   "execution_count": 31,
   "id": "fc910841-4892-4891-bf90-2a9b9283c96c",
   "metadata": {},
   "outputs": [
    {
     "name": "stdout",
     "output_type": "stream",
     "text": [
      "Explained variance ratio of the principal components: [1.69224356e-01 1.29095346e-01 1.09546983e-01 4.99720714e-02\n",
      " 4.21139623e-02 3.12440721e-02 2.64670682e-02 2.46052550e-02\n",
      " 2.10468563e-02 1.91180388e-02 1.81532487e-02 1.61481845e-02\n",
      " 1.41179445e-02 1.38204208e-02 1.32864581e-02 1.23656881e-02\n",
      " 1.20095023e-02 1.15465306e-02 1.08246668e-02 9.84361229e-03\n",
      " 8.81307291e-03 8.31157908e-03 7.86880961e-03 6.77827142e-03\n",
      " 6.65272028e-03 6.45173706e-03 6.11015315e-03 5.87136650e-03\n",
      " 5.59933249e-03 5.49487431e-03 5.35467479e-03 5.06177338e-03\n",
      " 4.50278302e-03 4.38192195e-03 4.31556703e-03 4.22287680e-03\n",
      " 4.13534632e-03 4.06913932e-03 4.04332590e-03 3.93055057e-03\n",
      " 3.81471094e-03 3.76060553e-03 3.67943421e-03 3.57369490e-03\n",
      " 3.35480195e-03 3.30098986e-03 3.20058470e-03 3.13332723e-03\n",
      " 3.05129792e-03 2.96595456e-03 2.92047018e-03 2.81845573e-03\n",
      " 2.76265661e-03 2.70162657e-03 2.60626561e-03 2.58339929e-03\n",
      " 2.54498632e-03 2.51917397e-03 2.48254766e-03 2.45076293e-03\n",
      " 2.27051046e-03 2.18180377e-03 2.15379679e-03 2.11439562e-03\n",
      " 2.01652840e-03 1.93395444e-03 1.89358245e-03 1.87117030e-03\n",
      " 1.86196541e-03 1.82945974e-03 1.79873772e-03 1.74605088e-03\n",
      " 1.72650554e-03 1.70569850e-03 1.66943761e-03 1.62833143e-03\n",
      " 1.61185803e-03 1.52520997e-03 1.47760172e-03 1.45274087e-03\n",
      " 1.42949372e-03 1.38893118e-03 1.37788000e-03 1.31647117e-03\n",
      " 1.28529942e-03 1.21542333e-03 1.16455556e-03 1.14469038e-03\n",
      " 1.11618408e-03 1.04410334e-03 1.03239629e-03 1.01771169e-03\n",
      " 9.89417709e-04 9.68290166e-04 9.47488590e-04 9.12524783e-04\n",
      " 8.97861347e-04 8.93038627e-04 8.74552448e-04 8.38501572e-04\n",
      " 7.96678424e-04 7.69626606e-04 7.64880300e-04 7.07625737e-04\n",
      " 6.85962539e-04 6.59327710e-04 6.43770716e-04 6.39079002e-04\n",
      " 6.04949478e-04 5.83364786e-04 5.65364878e-04 5.36430638e-04\n",
      " 5.01541673e-04 4.99975841e-04 4.94360011e-04 4.38941184e-04\n",
      " 3.84565698e-04 3.75139554e-04 3.72743186e-04 3.60887918e-04\n",
      " 3.51018572e-04 3.37386538e-04 3.32310952e-04 3.28916010e-04\n",
      " 2.98473984e-04 2.89667100e-04 2.28633850e-04 2.20855532e-04\n",
      " 1.98305098e-04 1.95166044e-04 1.53563228e-04 1.47816458e-04\n",
      " 1.10061720e-04 6.77463814e-05 6.26173427e-05 5.52855752e-05\n",
      " 4.59055343e-05 3.50863140e-05 2.68470866e-05 2.03003188e-05\n",
      " 1.88637264e-05 1.22880771e-05 4.53777126e-06]\n",
      "CumSum of Explained variance ratio of the principal components: [0.16922436 0.2983197  0.40786668 0.45783876 0.49995272 0.53119679\n",
      " 0.55766386 0.58226911 0.60331597 0.62243401 0.64058726 0.65673544\n",
      " 0.67085339 0.68467381 0.69796027 0.71032595 0.72233546 0.73388199\n",
      " 0.74470665 0.75455027 0.76336334 0.77167492 0.77954373 0.786322\n",
      " 0.79297472 0.79942646 0.80553661 0.81140798 0.81700731 0.82250218\n",
      " 0.82785686 0.83291863 0.83742141 0.84180334 0.8461189  0.85034178\n",
      " 0.85447713 0.85854626 0.86258959 0.86652014 0.87033485 0.87409546\n",
      " 0.87777489 0.88134859 0.88470339 0.88800438 0.89120496 0.89433829\n",
      " 0.89738959 0.90035554 0.90327601 0.90609447 0.90885713 0.91155875\n",
      " 0.91416502 0.91674842 0.9192934  0.92181258 0.92429513 0.92674589\n",
      " 0.9290164  0.9311982  0.933352   0.93546639 0.93748292 0.93941688\n",
      " 0.94131046 0.94318163 0.9450436  0.94687306 0.94867179 0.95041784\n",
      " 0.95214435 0.95385005 0.95551949 0.95714782 0.95875968 0.96028489\n",
      " 0.96176249 0.96321523 0.96464472 0.96603365 0.96741153 0.968728\n",
      " 0.9700133  0.97122873 0.97239328 0.97353797 0.97465416 0.97569826\n",
      " 0.97673066 0.97774837 0.97873779 0.97970608 0.98065356 0.98156609\n",
      " 0.98246395 0.98335699 0.98423154 0.98507004 0.98586672 0.98663635\n",
      " 0.98740123 0.98810885 0.98879482 0.98945414 0.99009792 0.99073699\n",
      " 0.99134194 0.99192531 0.99249067 0.9930271  0.99352865 0.99402862\n",
      " 0.99452298 0.99496192 0.99534649 0.99572163 0.99609437 0.99645526\n",
      " 0.99680628 0.99714366 0.99747598 0.99780489 0.99810337 0.99839303\n",
      " 0.99862167 0.99884252 0.99904083 0.99923599 0.99938956 0.99953737\n",
      " 0.99964743 0.99971518 0.9997778  0.99983308 0.99987899 0.99991408\n",
      " 0.99994092 0.99996122 0.99998009 0.99999237 0.99999691]\n",
      "PCA Data shape: (76137, 143)\n"
     ]
    }
   ],
   "source": [
    "n_components=candidate_data.shape[1] - 1\n",
    "pca = PCA(n_components)\n",
    "principal_components = pca.fit_transform(candidate_data)\n",
    "data_pca = pd.DataFrame(data=principal_components,\n",
    "                        columns=[f'PC{i}' for i in range(1, n_components + 1)])\n",
    "\n",
    "print('Explained variance ratio of the principal components: {}'\n",
    "     .format(pca.explained_variance_ratio_))\n",
    "print('CumSum of Explained variance ratio of the principal components: {}'\n",
    "     .format(np.cumsum(pca.explained_variance_ratio_)))\n",
    "print('PCA Data shape: {}'.format(data_pca.shape))"
   ]
  },
  {
   "cell_type": "code",
   "execution_count": 32,
   "id": "ea04d6f8-ad86-493e-94d4-e47bc0691e6a",
   "metadata": {},
   "outputs": [
    {
     "data": {
      "text/html": [
       "<div>\n",
       "<style scoped>\n",
       "    .dataframe tbody tr th:only-of-type {\n",
       "        vertical-align: middle;\n",
       "    }\n",
       "\n",
       "    .dataframe tbody tr th {\n",
       "        vertical-align: top;\n",
       "    }\n",
       "\n",
       "    .dataframe thead th {\n",
       "        text-align: right;\n",
       "    }\n",
       "</style>\n",
       "<table border=\"1\" class=\"dataframe\">\n",
       "  <thead>\n",
       "    <tr style=\"text-align: right;\">\n",
       "      <th></th>\n",
       "      <th>PC1</th>\n",
       "      <th>PC2</th>\n",
       "      <th>PC3</th>\n",
       "      <th>PC4</th>\n",
       "      <th>PC5</th>\n",
       "      <th>PC6</th>\n",
       "      <th>PC7</th>\n",
       "      <th>PC8</th>\n",
       "      <th>PC9</th>\n",
       "      <th>PC10</th>\n",
       "      <th>...</th>\n",
       "      <th>PC134</th>\n",
       "      <th>PC135</th>\n",
       "      <th>PC136</th>\n",
       "      <th>PC137</th>\n",
       "      <th>PC138</th>\n",
       "      <th>PC139</th>\n",
       "      <th>PC140</th>\n",
       "      <th>PC141</th>\n",
       "      <th>PC142</th>\n",
       "      <th>PC143</th>\n",
       "    </tr>\n",
       "  </thead>\n",
       "  <tbody>\n",
       "    <tr>\n",
       "      <th>0</th>\n",
       "      <td>0.581165</td>\n",
       "      <td>-0.393364</td>\n",
       "      <td>0.219756</td>\n",
       "      <td>-0.752675</td>\n",
       "      <td>0.661102</td>\n",
       "      <td>0.075448</td>\n",
       "      <td>-0.161862</td>\n",
       "      <td>0.348610</td>\n",
       "      <td>-0.458330</td>\n",
       "      <td>0.612918</td>\n",
       "      <td>...</td>\n",
       "      <td>-0.001362</td>\n",
       "      <td>0.005031</td>\n",
       "      <td>-0.003793</td>\n",
       "      <td>0.000579</td>\n",
       "      <td>-0.000082</td>\n",
       "      <td>0.000393</td>\n",
       "      <td>0.000068</td>\n",
       "      <td>0.000860</td>\n",
       "      <td>0.000599</td>\n",
       "      <td>0.000052</td>\n",
       "    </tr>\n",
       "    <tr>\n",
       "      <th>1</th>\n",
       "      <td>0.452334</td>\n",
       "      <td>-1.147289</td>\n",
       "      <td>-0.336466</td>\n",
       "      <td>-0.343650</td>\n",
       "      <td>-0.468281</td>\n",
       "      <td>0.187126</td>\n",
       "      <td>0.561800</td>\n",
       "      <td>-0.301264</td>\n",
       "      <td>-0.575794</td>\n",
       "      <td>0.559212</td>\n",
       "      <td>...</td>\n",
       "      <td>-0.001062</td>\n",
       "      <td>0.000533</td>\n",
       "      <td>-0.000893</td>\n",
       "      <td>0.001187</td>\n",
       "      <td>0.002526</td>\n",
       "      <td>-0.000369</td>\n",
       "      <td>0.000364</td>\n",
       "      <td>0.001036</td>\n",
       "      <td>0.000094</td>\n",
       "      <td>0.000161</td>\n",
       "    </tr>\n",
       "    <tr>\n",
       "      <th>2</th>\n",
       "      <td>0.284886</td>\n",
       "      <td>0.427609</td>\n",
       "      <td>0.150229</td>\n",
       "      <td>-0.392035</td>\n",
       "      <td>0.625168</td>\n",
       "      <td>-0.938535</td>\n",
       "      <td>0.143192</td>\n",
       "      <td>-0.228857</td>\n",
       "      <td>-0.168363</td>\n",
       "      <td>-0.180698</td>\n",
       "      <td>...</td>\n",
       "      <td>-0.000973</td>\n",
       "      <td>0.000387</td>\n",
       "      <td>-0.000256</td>\n",
       "      <td>-0.000292</td>\n",
       "      <td>0.000063</td>\n",
       "      <td>-0.000152</td>\n",
       "      <td>-0.000132</td>\n",
       "      <td>0.001953</td>\n",
       "      <td>0.000251</td>\n",
       "      <td>-0.000076</td>\n",
       "    </tr>\n",
       "    <tr>\n",
       "      <th>3</th>\n",
       "      <td>0.459151</td>\n",
       "      <td>-1.837893</td>\n",
       "      <td>-0.289075</td>\n",
       "      <td>-0.230372</td>\n",
       "      <td>-0.520050</td>\n",
       "      <td>0.701949</td>\n",
       "      <td>0.706184</td>\n",
       "      <td>0.767054</td>\n",
       "      <td>-0.130226</td>\n",
       "      <td>0.349691</td>\n",
       "      <td>...</td>\n",
       "      <td>-0.001076</td>\n",
       "      <td>0.002140</td>\n",
       "      <td>-0.000890</td>\n",
       "      <td>0.000541</td>\n",
       "      <td>0.002548</td>\n",
       "      <td>-0.000518</td>\n",
       "      <td>-0.001399</td>\n",
       "      <td>-0.000322</td>\n",
       "      <td>-0.000221</td>\n",
       "      <td>0.000173</td>\n",
       "    </tr>\n",
       "    <tr>\n",
       "      <th>4</th>\n",
       "      <td>0.550266</td>\n",
       "      <td>0.436320</td>\n",
       "      <td>0.173026</td>\n",
       "      <td>0.259754</td>\n",
       "      <td>-0.006115</td>\n",
       "      <td>0.703853</td>\n",
       "      <td>-0.824594</td>\n",
       "      <td>-0.241040</td>\n",
       "      <td>0.891206</td>\n",
       "      <td>0.936779</td>\n",
       "      <td>...</td>\n",
       "      <td>-0.000734</td>\n",
       "      <td>0.000739</td>\n",
       "      <td>-0.002169</td>\n",
       "      <td>-0.001123</td>\n",
       "      <td>-0.001918</td>\n",
       "      <td>0.000123</td>\n",
       "      <td>0.001108</td>\n",
       "      <td>0.004269</td>\n",
       "      <td>-0.000080</td>\n",
       "      <td>-0.000087</td>\n",
       "    </tr>\n",
       "  </tbody>\n",
       "</table>\n",
       "<p>5 rows × 143 columns</p>\n",
       "</div>"
      ],
      "text/plain": [
       "        PC1       PC2       PC3       PC4       PC5       PC6       PC7  \\\n",
       "0  0.581165 -0.393364  0.219756 -0.752675  0.661102  0.075448 -0.161862   \n",
       "1  0.452334 -1.147289 -0.336466 -0.343650 -0.468281  0.187126  0.561800   \n",
       "2  0.284886  0.427609  0.150229 -0.392035  0.625168 -0.938535  0.143192   \n",
       "3  0.459151 -1.837893 -0.289075 -0.230372 -0.520050  0.701949  0.706184   \n",
       "4  0.550266  0.436320  0.173026  0.259754 -0.006115  0.703853 -0.824594   \n",
       "\n",
       "        PC8       PC9      PC10  ...     PC134     PC135     PC136     PC137  \\\n",
       "0  0.348610 -0.458330  0.612918  ... -0.001362  0.005031 -0.003793  0.000579   \n",
       "1 -0.301264 -0.575794  0.559212  ... -0.001062  0.000533 -0.000893  0.001187   \n",
       "2 -0.228857 -0.168363 -0.180698  ... -0.000973  0.000387 -0.000256 -0.000292   \n",
       "3  0.767054 -0.130226  0.349691  ... -0.001076  0.002140 -0.000890  0.000541   \n",
       "4 -0.241040  0.891206  0.936779  ... -0.000734  0.000739 -0.002169 -0.001123   \n",
       "\n",
       "      PC138     PC139     PC140     PC141     PC142     PC143  \n",
       "0 -0.000082  0.000393  0.000068  0.000860  0.000599  0.000052  \n",
       "1  0.002526 -0.000369  0.000364  0.001036  0.000094  0.000161  \n",
       "2  0.000063 -0.000152 -0.000132  0.001953  0.000251 -0.000076  \n",
       "3  0.002548 -0.000518 -0.001399 -0.000322 -0.000221  0.000173  \n",
       "4 -0.001918  0.000123  0.001108  0.004269 -0.000080 -0.000087  \n",
       "\n",
       "[5 rows x 143 columns]"
      ]
     },
     "execution_count": 32,
     "metadata": {},
     "output_type": "execute_result"
    }
   ],
   "source": [
    "data_pca.head()"
   ]
  },
  {
   "cell_type": "code",
   "execution_count": 33,
   "id": "6220cbf6-4f35-4984-8820-d1509c044317",
   "metadata": {},
   "outputs": [
    {
     "data": {
      "image/png": "[encoded data removed]",
      "text/plain": [
       "<Figure size 640x480 with 1 Axes>"
      ]
     },
     "metadata": {},
     "output_type": "display_data"
    }
   ],
   "source": [
    "plt.plot(np.cumsum(pca.explained_variance_ratio_),linewidth=3,marker='o')\n",
    "plt.grid()\n",
    "plt.title('Features in Cleaned Data: Cumulative Percent of Variance Explained')\n",
    "plt.savefig('images/PercentVarExplained.png')\n",
    "plt.show()"
   ]
  },
  {
   "cell_type": "code",
   "execution_count": 34,
   "id": "21c373a9-cb30-47be-bb9b-383038041145",
   "metadata": {},
   "outputs": [
    {
     "data": {
      "text/plain": [
       "array(['pca0', 'pca1', 'pca2', 'pca3', 'pca4', 'pca5', 'pca6', 'pca7',\n",
       "       'pca8', 'pca9', 'pca10', 'pca11', 'pca12', 'pca13', 'pca14',\n",
       "       'pca15', 'pca16', 'pca17', 'pca18', 'pca19', 'pca20', 'pca21',\n",
       "       'pca22', 'pca23', 'pca24', 'pca25', 'pca26', 'pca27', 'pca28',\n",
       "       'pca29', 'pca30', 'pca31', 'pca32', 'pca33', 'pca34', 'pca35',\n",
       "       'pca36', 'pca37', 'pca38', 'pca39', 'pca40', 'pca41', 'pca42',\n",
       "       'pca43', 'pca44', 'pca45', 'pca46', 'pca47', 'pca48', 'pca49',\n",
       "       'pca50', 'pca51', 'pca52', 'pca53', 'pca54', 'pca55', 'pca56',\n",
       "       'pca57', 'pca58', 'pca59', 'pca60', 'pca61', 'pca62', 'pca63',\n",
       "       'pca64', 'pca65', 'pca66', 'pca67', 'pca68', 'pca69', 'pca70',\n",
       "       'pca71', 'pca72', 'pca73', 'pca74', 'pca75', 'pca76', 'pca77',\n",
       "       'pca78', 'pca79', 'pca80', 'pca81', 'pca82', 'pca83', 'pca84',\n",
       "       'pca85', 'pca86', 'pca87', 'pca88', 'pca89', 'pca90', 'pca91',\n",
       "       'pca92', 'pca93', 'pca94', 'pca95', 'pca96', 'pca97', 'pca98',\n",
       "       'pca99', 'pca100', 'pca101', 'pca102', 'pca103', 'pca104',\n",
       "       'pca105', 'pca106', 'pca107', 'pca108', 'pca109', 'pca110',\n",
       "       'pca111', 'pca112', 'pca113', 'pca114', 'pca115', 'pca116',\n",
       "       'pca117', 'pca118', 'pca119', 'pca120', 'pca121', 'pca122',\n",
       "       'pca123', 'pca124', 'pca125', 'pca126', 'pca127', 'pca128',\n",
       "       'pca129', 'pca130', 'pca131', 'pca132', 'pca133', 'pca134',\n",
       "       'pca135', 'pca136', 'pca137', 'pca138', 'pca139', 'pca140',\n",
       "       'pca141', 'pca142'], dtype=object)"
      ]
     },
     "execution_count": 34,
     "metadata": {},
     "output_type": "execute_result"
    }
   ],
   "source": [
    "pca.get_feature_names_out()"
   ]
  },
  {
   "cell_type": "code",
   "execution_count": 35,
   "id": "2703970e-7228-4fa8-88e5-fd9efdd5ce04",
   "metadata": {},
   "outputs": [
    {
     "data": {
      "text/plain": [
       "[('onehotencoder',\n",
       "  OneHotEncoder(drop='first'),\n",
       "  ['condition',\n",
       "   'cylinders',\n",
       "   'title_status',\n",
       "   'manufacturer',\n",
       "   'fuel',\n",
       "   'transmission',\n",
       "   'drive',\n",
       "   'size',\n",
       "   'type',\n",
       "   'paint_color',\n",
       "   'state']),\n",
       " ('remainder', StandardScaler(), [0, 1, 3])]"
      ]
     },
     "execution_count": 35,
     "metadata": {},
     "output_type": "execute_result"
    }
   ],
   "source": [
    "transformer.transformers_"
   ]
  },
  {
   "cell_type": "markdown",
   "id": "3322c5a3-c970-4e68-a66a-da5c99bc3720",
   "metadata": {},
   "source": [
    "## DBSCAN"
   ]
  },
  {
   "cell_type": "code",
   "execution_count": 37,
   "id": "8e6a2dc7-17c9-4a41-bef5-30145b6694ca",
   "metadata": {},
   "outputs": [
    {
     "data": {
      "text/plain": [
       "140882"
      ]
     },
     "execution_count": 37,
     "metadata": {},
     "output_type": "execute_result"
    }
   ],
   "source": [
    "vehicles_cleansed.VIN.isnull().sum()"
   ]
  },
  {
   "cell_type": "code",
   "execution_count": 38,
   "id": "f92216eb-636d-4d61-87bf-b6d90ae7e14a",
   "metadata": {},
   "outputs": [
    {
     "name": "stdout",
     "output_type": "stream",
     "text": [
      "vehicles_cleansed.shape: {} (360700, 16)\n",
      "vehicles_dedupe_vin.shape: {} (360700, 16)\n",
      "data.shape: {} (72140, 16)\n"
     ]
    }
   ],
   "source": [
    "print('vehicles_cleansed.shape: {}', vehicles_cleansed.shape)\n",
    "vehicles_dedupe_vin = vehicles_cleansed#.drop_duplicates(subset=['VIN'], keep='first', inplace=False)\n",
    "print('vehicles_dedupe_vin.shape: {}', vehicles_dedupe_vin.shape)\n",
    "data = vehicles_dedupe_vin.sample(frac=0.2, replace=False, random_state=42)\n",
    "print('data.shape: {}', data.shape)"
   ]
  },
  {
   "cell_type": "markdown",
   "id": "807cae82-4742-4ee8-9f6e-4fb43677981b",
   "metadata": {},
   "source": [
    "Let's reduce the number of columns"
   ]
  },
  {
   "cell_type": "code",
   "execution_count": 40,
   "id": "0674bbf1-37b3-47ee-a617-fae77da45f12",
   "metadata": {},
   "outputs": [],
   "source": [
    "# data_cols = [\n",
    "#     'price', 'year', 'manufacturer', 'condition', 'cylinders',\n",
    "#     'fuel', 'odometer', 'title_status', 'transmission', 'VIN', 'drive',\n",
    "#     'size', 'type', 'paint_color'\n",
    "# ]\n",
    "data_cols = ['price', 'year', 'condition', 'odometer']\n",
    "# data[data_cols].info()"
   ]
  },
  {
   "cell_type": "code",
   "execution_count": 41,
   "id": "703f0767-f308-455e-be33-d3ab01dfc200",
   "metadata": {
    "scrolled": true
   },
   "outputs": [
    {
     "name": "stdout",
     "output_type": "stream",
     "text": [
      "data_trans.shape: {} (72140, 9)\n"
     ]
    }
   ],
   "source": [
    "data_trans = transformer.fit_transform(data[data_cols])\n",
    "print('data_trans.shape: {}', data_trans.shape)"
   ]
  },
  {
   "cell_type": "code",
   "execution_count": 42,
   "id": "a7a7db9d-037d-4f40-a83e-9be500e23d0c",
   "metadata": {},
   "outputs": [
    {
     "data": {
      "text/plain": [
       "array([[ 1.        ,  0.        ,  0.        , ..., -1.11564801,\n",
       "        -1.33413612,  0.69207073],\n",
       "       [ 0.        ,  1.        ,  0.        , ...,  0.06686771,\n",
       "         0.74918669, -0.36470482],\n",
       "       [ 0.        ,  0.        ,  0.        , ...,  0.75454373,\n",
       "         0.63953812,  0.15986559],\n",
       "       ...,\n",
       "       [ 0.        ,  0.        ,  0.        , ...,  2.1284453 ,\n",
       "         0.63953812, -0.24087042],\n",
       "       [ 0.        ,  0.        ,  0.        , ...,  0.29596581,\n",
       "         0.63953812, -0.26219471],\n",
       "       [ 0.        ,  1.        ,  0.        , ..., -1.03930742,\n",
       "        -0.23765043,  0.17290882]])"
      ]
     },
     "execution_count": 42,
     "metadata": {},
     "output_type": "execute_result"
    }
   ],
   "source": [
    "data_trans"
   ]
  },
  {
   "cell_type": "code",
   "execution_count": 43,
   "id": "036460a7-98e0-406f-9d2e-f748a40336d4",
   "metadata": {},
   "outputs": [
    {
     "name": "stdout",
     "output_type": "stream",
     "text": [
      "Starting DBSCAN\n",
      "Execution time: 94.64 seconds\n",
      "Estimated number of clusters: 4\n",
      "Estimated number of noise points: 176\n"
     ]
    }
   ],
   "source": [
    "from sklearn import metrics\n",
    "from sklearn.cluster import DBSCAN\n",
    "\n",
    "print('Starting DBSCAN')\n",
    "start_time = time.time()\n",
    "\n",
    "db = DBSCAN(eps=1.0, min_samples=10).fit(data_trans)\n",
    "labels = db.labels_\n",
    "\n",
    "print('Execution time: {:.2f} seconds'.format(time.time() - start_time))\n",
    "\n",
    "# Number of clusters in labels, ignoring noise if present.\n",
    "n_clusters_ = len(set(labels)) - (1 if -1 in labels else 0)\n",
    "n_noise_ = list(labels).count(-1)\n",
    "\n",
    "print(\"Estimated number of clusters: %d\" % n_clusters_)\n",
    "print(\"Estimated number of noise points: %d\" % n_noise_)"
   ]
  },
  {
   "cell_type": "code",
   "execution_count": 44,
   "id": "7d57d635-6870-4d83-8b30-b21af9ffa7f4",
   "metadata": {},
   "outputs": [
    {
     "data": {
      "text/plain": [
       "(array([-1,  0,  1,  2,  3]),\n",
       " array([  34,    0,  316, 1171, 1668]),\n",
       " array([  176, 71837,    15,    23,    89]))"
      ]
     },
     "execution_count": 44,
     "metadata": {},
     "output_type": "execute_result"
    }
   ],
   "source": [
    "labels, indices, counts = np.unique(db.labels_, return_index=True, return_counts=True)\n",
    "labels, indices, counts"
   ]
  },
  {
   "cell_type": "code",
   "execution_count": 45,
   "id": "d45e8f9e-7e5f-4f91-a9ee-9dd5613de427",
   "metadata": {},
   "outputs": [],
   "source": [
    "data['cluster'] = db.labels_"
   ]
  },
  {
   "cell_type": "code",
   "execution_count": 46,
   "id": "68578aef-d420-4cc9-a7fd-c050c4f45624",
   "metadata": {},
   "outputs": [
    {
     "data": {
      "text/plain": [
       "cluster\n",
       " 0    71837\n",
       "-1      176\n",
       " 3       89\n",
       " 2       23\n",
       " 1       15\n",
       "Name: count, dtype: int64"
      ]
     },
     "execution_count": 46,
     "metadata": {},
     "output_type": "execute_result"
    }
   ],
   "source": [
    "data.cluster.value_counts()"
   ]
  },
  {
   "cell_type": "code",
   "execution_count": 47,
   "id": "22709dcb-dcb4-412a-ae8e-f18a55764331",
   "metadata": {},
   "outputs": [
    {
     "data": {
      "text/plain": [
       "condition\n",
       "good         22948\n",
       "excellent    16809\n",
       "like new      3736\n",
       "fair          1166\n",
       "new            186\n",
       "salvage        100\n",
       "Name: count, dtype: int64"
      ]
     },
     "execution_count": 47,
     "metadata": {},
     "output_type": "execute_result"
    }
   ],
   "source": [
    "data.condition.value_counts()"
   ]
  },
  {
   "cell_type": "code",
   "execution_count": 48,
   "id": "7d2f0ed0-557e-4610-bc4a-ea4904570115",
   "metadata": {},
   "outputs": [
    {
     "data": {
      "text/plain": [
       "cluster  cluster\n",
       "-1       -1            62\n",
       " 0        0         12350\n",
       " 1        1             5\n",
       " 2        2             7\n",
       " 3        3            11\n",
       "Name: count, dtype: int64"
      ]
     },
     "execution_count": 48,
     "metadata": {},
     "output_type": "execute_result"
    }
   ],
   "source": [
    "data.query('manufacturer == \"ford\"').groupby(data.cluster)[['cluster']].value_counts()"
   ]
  },
  {
   "cell_type": "code",
   "execution_count": 49,
   "id": "7d3f43b4-4c34-41de-a342-4d1d47505314",
   "metadata": {},
   "outputs": [
    {
     "data": {
      "text/html": [
       "<div>\n",
       "<style scoped>\n",
       "    .dataframe tbody tr th:only-of-type {\n",
       "        vertical-align: middle;\n",
       "    }\n",
       "\n",
       "    .dataframe tbody tr th {\n",
       "        vertical-align: top;\n",
       "    }\n",
       "\n",
       "    .dataframe thead th {\n",
       "        text-align: right;\n",
       "    }\n",
       "</style>\n",
       "<table border=\"1\" class=\"dataframe\">\n",
       "  <thead>\n",
       "    <tr style=\"text-align: right;\">\n",
       "      <th></th>\n",
       "      <th>region</th>\n",
       "      <th>price</th>\n",
       "      <th>year</th>\n",
       "      <th>manufacturer</th>\n",
       "      <th>condition</th>\n",
       "      <th>cylinders</th>\n",
       "      <th>fuel</th>\n",
       "      <th>odometer</th>\n",
       "      <th>title_status</th>\n",
       "      <th>transmission</th>\n",
       "      <th>VIN</th>\n",
       "      <th>drive</th>\n",
       "      <th>size</th>\n",
       "      <th>type</th>\n",
       "      <th>paint_color</th>\n",
       "      <th>state</th>\n",
       "      <th>cluster</th>\n",
       "    </tr>\n",
       "  </thead>\n",
       "  <tbody>\n",
       "    <tr>\n",
       "      <th>152707</th>\n",
       "      <td>indianapolis</td>\n",
       "      <td>3500</td>\n",
       "      <td>1999</td>\n",
       "      <td>lincoln</td>\n",
       "      <td>fair</td>\n",
       "      <td>6 cylinders</td>\n",
       "      <td>gas</td>\n",
       "      <td>254000</td>\n",
       "      <td>clean</td>\n",
       "      <td>automatic</td>\n",
       "      <td>NaN</td>\n",
       "      <td>rwd</td>\n",
       "      <td>NaN</td>\n",
       "      <td>NaN</td>\n",
       "      <td>white</td>\n",
       "      <td>in</td>\n",
       "      <td>0</td>\n",
       "    </tr>\n",
       "    <tr>\n",
       "      <th>357124</th>\n",
       "      <td>memphis</td>\n",
       "      <td>18990</td>\n",
       "      <td>2018</td>\n",
       "      <td>mazda</td>\n",
       "      <td>good</td>\n",
       "      <td>NaN</td>\n",
       "      <td>gas</td>\n",
       "      <td>18553</td>\n",
       "      <td>clean</td>\n",
       "      <td>other</td>\n",
       "      <td>3MZBN1V35JM256052</td>\n",
       "      <td>fwd</td>\n",
       "      <td>NaN</td>\n",
       "      <td>sedan</td>\n",
       "      <td>white</td>\n",
       "      <td>tn</td>\n",
       "      <td>0</td>\n",
       "    </tr>\n",
       "    <tr>\n",
       "      <th>300032</th>\n",
       "      <td>lima / findlay</td>\n",
       "      <td>27998</td>\n",
       "      <td>2017</td>\n",
       "      <td>ford</td>\n",
       "      <td>excellent</td>\n",
       "      <td>NaN</td>\n",
       "      <td>gas</td>\n",
       "      <td>135426</td>\n",
       "      <td>clean</td>\n",
       "      <td>automatic</td>\n",
       "      <td>1FTFW1EG0HFB55080</td>\n",
       "      <td>4wd</td>\n",
       "      <td>NaN</td>\n",
       "      <td>pickup</td>\n",
       "      <td>white</td>\n",
       "      <td>oh</td>\n",
       "      <td>0</td>\n",
       "    </tr>\n",
       "    <tr>\n",
       "      <th>384419</th>\n",
       "      <td>waco</td>\n",
       "      <td>23980</td>\n",
       "      <td>2019</td>\n",
       "      <td>hyundai</td>\n",
       "      <td>NaN</td>\n",
       "      <td>4 cylinders</td>\n",
       "      <td>gas</td>\n",
       "      <td>23636</td>\n",
       "      <td>clean</td>\n",
       "      <td>automatic</td>\n",
       "      <td>NaN</td>\n",
       "      <td>fwd</td>\n",
       "      <td>mid-size</td>\n",
       "      <td>SUV</td>\n",
       "      <td>custom</td>\n",
       "      <td>tx</td>\n",
       "      <td>0</td>\n",
       "    </tr>\n",
       "    <tr>\n",
       "      <th>76118</th>\n",
       "      <td>denver</td>\n",
       "      <td>28990</td>\n",
       "      <td>2017</td>\n",
       "      <td>lincoln</td>\n",
       "      <td>good</td>\n",
       "      <td>6 cylinders</td>\n",
       "      <td>gas</td>\n",
       "      <td>33327</td>\n",
       "      <td>clean</td>\n",
       "      <td>other</td>\n",
       "      <td>1LN6L9PK1H5634652</td>\n",
       "      <td>fwd</td>\n",
       "      <td>NaN</td>\n",
       "      <td>sedan</td>\n",
       "      <td>white</td>\n",
       "      <td>co</td>\n",
       "      <td>0</td>\n",
       "    </tr>\n",
       "    <tr>\n",
       "      <th>...</th>\n",
       "      <td>...</td>\n",
       "      <td>...</td>\n",
       "      <td>...</td>\n",
       "      <td>...</td>\n",
       "      <td>...</td>\n",
       "      <td>...</td>\n",
       "      <td>...</td>\n",
       "      <td>...</td>\n",
       "      <td>...</td>\n",
       "      <td>...</td>\n",
       "      <td>...</td>\n",
       "      <td>...</td>\n",
       "      <td>...</td>\n",
       "      <td>...</td>\n",
       "      <td>...</td>\n",
       "      <td>...</td>\n",
       "      <td>...</td>\n",
       "    </tr>\n",
       "    <tr>\n",
       "      <th>367097</th>\n",
       "      <td>college station</td>\n",
       "      <td>33990</td>\n",
       "      <td>2011</td>\n",
       "      <td>chevrolet</td>\n",
       "      <td>good</td>\n",
       "      <td>8 cylinders</td>\n",
       "      <td>gas</td>\n",
       "      <td>70976</td>\n",
       "      <td>clean</td>\n",
       "      <td>other</td>\n",
       "      <td>1G1YW3DW5B5111532</td>\n",
       "      <td>rwd</td>\n",
       "      <td>NaN</td>\n",
       "      <td>other</td>\n",
       "      <td>yellow</td>\n",
       "      <td>tx</td>\n",
       "      <td>0</td>\n",
       "    </tr>\n",
       "    <tr>\n",
       "      <th>263228</th>\n",
       "      <td>santa fe / taos</td>\n",
       "      <td>16950</td>\n",
       "      <td>2010</td>\n",
       "      <td>mercedes-benz</td>\n",
       "      <td>excellent</td>\n",
       "      <td>6 cylinders</td>\n",
       "      <td>gas</td>\n",
       "      <td>49956</td>\n",
       "      <td>clean</td>\n",
       "      <td>automatic</td>\n",
       "      <td>WDDHF8HB7AA099312</td>\n",
       "      <td>4wd</td>\n",
       "      <td>mid-size</td>\n",
       "      <td>sedan</td>\n",
       "      <td>custom</td>\n",
       "      <td>nm</td>\n",
       "      <td>0</td>\n",
       "    </tr>\n",
       "    <tr>\n",
       "      <th>275038</th>\n",
       "      <td>new york city</td>\n",
       "      <td>45995</td>\n",
       "      <td>2017</td>\n",
       "      <td>mercedes-benz</td>\n",
       "      <td>NaN</td>\n",
       "      <td>NaN</td>\n",
       "      <td>gas</td>\n",
       "      <td>46143</td>\n",
       "      <td>clean</td>\n",
       "      <td>automatic</td>\n",
       "      <td>WDDZF6EBXHA193739</td>\n",
       "      <td>NaN</td>\n",
       "      <td>NaN</td>\n",
       "      <td>sedan</td>\n",
       "      <td>white</td>\n",
       "      <td>ny</td>\n",
       "      <td>0</td>\n",
       "    </tr>\n",
       "    <tr>\n",
       "      <th>316643</th>\n",
       "      <td>eugene</td>\n",
       "      <td>21991</td>\n",
       "      <td>2017</td>\n",
       "      <td>subaru</td>\n",
       "      <td>NaN</td>\n",
       "      <td>NaN</td>\n",
       "      <td>gas</td>\n",
       "      <td>41392</td>\n",
       "      <td>clean</td>\n",
       "      <td>manual</td>\n",
       "      <td>NaN</td>\n",
       "      <td>NaN</td>\n",
       "      <td>NaN</td>\n",
       "      <td>sedan</td>\n",
       "      <td>grey</td>\n",
       "      <td>or</td>\n",
       "      <td>0</td>\n",
       "    </tr>\n",
       "    <tr>\n",
       "      <th>363580</th>\n",
       "      <td>austin</td>\n",
       "      <td>4500</td>\n",
       "      <td>2009</td>\n",
       "      <td>hyundai</td>\n",
       "      <td>good</td>\n",
       "      <td>4 cylinders</td>\n",
       "      <td>gas</td>\n",
       "      <td>138332</td>\n",
       "      <td>clean</td>\n",
       "      <td>automatic</td>\n",
       "      <td>NaN</td>\n",
       "      <td>fwd</td>\n",
       "      <td>mid-size</td>\n",
       "      <td>sedan</td>\n",
       "      <td>blue</td>\n",
       "      <td>tx</td>\n",
       "      <td>0</td>\n",
       "    </tr>\n",
       "  </tbody>\n",
       "</table>\n",
       "<p>71837 rows × 17 columns</p>\n",
       "</div>"
      ],
      "text/plain": [
       "                 region  price  year   manufacturer  condition    cylinders  \\\n",
       "152707     indianapolis   3500  1999        lincoln       fair  6 cylinders   \n",
       "357124          memphis  18990  2018          mazda       good          NaN   \n",
       "300032   lima / findlay  27998  2017           ford  excellent          NaN   \n",
       "384419             waco  23980  2019        hyundai        NaN  4 cylinders   \n",
       "76118            denver  28990  2017        lincoln       good  6 cylinders   \n",
       "...                 ...    ...   ...            ...        ...          ...   \n",
       "367097  college station  33990  2011      chevrolet       good  8 cylinders   \n",
       "263228  santa fe / taos  16950  2010  mercedes-benz  excellent  6 cylinders   \n",
       "275038    new york city  45995  2017  mercedes-benz        NaN          NaN   \n",
       "316643           eugene  21991  2017         subaru        NaN          NaN   \n",
       "363580           austin   4500  2009        hyundai       good  4 cylinders   \n",
       "\n",
       "       fuel  odometer title_status transmission                VIN drive  \\\n",
       "152707  gas    254000        clean    automatic                NaN   rwd   \n",
       "357124  gas     18553        clean        other  3MZBN1V35JM256052   fwd   \n",
       "300032  gas    135426        clean    automatic  1FTFW1EG0HFB55080   4wd   \n",
       "384419  gas     23636        clean    automatic                NaN   fwd   \n",
       "76118   gas     33327        clean        other  1LN6L9PK1H5634652   fwd   \n",
       "...     ...       ...          ...          ...                ...   ...   \n",
       "367097  gas     70976        clean        other  1G1YW3DW5B5111532   rwd   \n",
       "263228  gas     49956        clean    automatic  WDDHF8HB7AA099312   4wd   \n",
       "275038  gas     46143        clean    automatic  WDDZF6EBXHA193739   NaN   \n",
       "316643  gas     41392        clean       manual                NaN   NaN   \n",
       "363580  gas    138332        clean    automatic                NaN   fwd   \n",
       "\n",
       "            size    type paint_color state  cluster  \n",
       "152707       NaN     NaN       white    in        0  \n",
       "357124       NaN   sedan       white    tn        0  \n",
       "300032       NaN  pickup       white    oh        0  \n",
       "384419  mid-size     SUV      custom    tx        0  \n",
       "76118        NaN   sedan       white    co        0  \n",
       "...          ...     ...         ...   ...      ...  \n",
       "367097       NaN   other      yellow    tx        0  \n",
       "263228  mid-size   sedan      custom    nm        0  \n",
       "275038       NaN   sedan       white    ny        0  \n",
       "316643       NaN   sedan        grey    or        0  \n",
       "363580  mid-size   sedan        blue    tx        0  \n",
       "\n",
       "[71837 rows x 17 columns]"
      ]
     },
     "execution_count": 49,
     "metadata": {},
     "output_type": "execute_result"
    }
   ],
   "source": [
    "data.query('cluster == 0')"
   ]
  },
  {
   "cell_type": "markdown",
   "id": "7c19aa65-5336-4569-9a98-cdd4c8a9b35d",
   "metadata": {},
   "source": [
    "# Regression Models"
   ]
  },
  {
   "cell_type": "markdown",
   "id": "7138b4c5-d29a-4215-a69e-f6766e30e1eb",
   "metadata": {},
   "source": [
    "#### Train/Test datasets for modeling"
   ]
  },
  {
   "cell_type": "code",
   "execution_count": 52,
   "id": "d292b2ae-531f-4333-9367-b3a97c0992e2",
   "metadata": {},
   "outputs": [
    {
     "data": {
      "text/plain": [
       "Index(['region', 'price', 'year', 'manufacturer', 'condition', 'cylinders',\n",
       "       'fuel', 'odometer', 'title_status', 'transmission', 'VIN', 'drive',\n",
       "       'size', 'type', 'paint_color', 'state'],\n",
       "      dtype='object')"
      ]
     },
     "execution_count": 52,
     "metadata": {},
     "output_type": "execute_result"
    }
   ],
   "source": [
    "vehicles_cleansed.columns"
   ]
  },
  {
   "cell_type": "code",
   "execution_count": 53,
   "id": "b2463a26-3d58-4287-9b71-023b018e366e",
   "metadata": {},
   "outputs": [
    {
     "name": "stdout",
     "output_type": "stream",
     "text": [
      "<class 'pandas.core.frame.DataFrame'>\n",
      "Index: 360700 entries, 27 to 426879\n",
      "Data columns (total 16 columns):\n",
      " #   Column        Non-Null Count   Dtype   \n",
      "---  ------        --------------   -----   \n",
      " 0   region        360700 non-null  object  \n",
      " 1   price         360700 non-null  int64   \n",
      " 2   year          360700 non-null  int64   \n",
      " 3   manufacturer  360700 non-null  category\n",
      " 4   condition     223668 non-null  category\n",
      " 5   cylinders     213522 non-null  category\n",
      " 6   fuel          360700 non-null  category\n",
      " 7   odometer      360700 non-null  int64   \n",
      " 8   title_status  360700 non-null  category\n",
      " 9   transmission  360700 non-null  category\n",
      " 10  VIN           219818 non-null  object  \n",
      " 11  drive         252582 non-null  category\n",
      " 12  size          104338 non-null  category\n",
      " 13  type          282300 non-null  category\n",
      " 14  paint_color   257706 non-null  category\n",
      " 15  state         360700 non-null  category\n",
      "dtypes: category(11), int64(3), object(2)\n",
      "memory usage: 20.3+ MB\n"
     ]
    }
   ],
   "source": [
    "vehicles_cleansed.info()"
   ]
  },
  {
   "cell_type": "code",
   "execution_count": 54,
   "id": "c5c4d06b-fa7f-433c-aa3c-a02d6946920a",
   "metadata": {},
   "outputs": [],
   "source": [
    "# removed cols: region, VIN\n",
    "data_cols=['price', 'year', 'manufacturer', 'condition', 'cylinders',\n",
    "       'fuel', 'odometer', 'title_status', 'transmission', 'drive',\n",
    "       'size', 'type', 'paint_color', 'state']"
   ]
  },
  {
   "cell_type": "code",
   "execution_count": 55,
   "id": "85c8ceaf-36bb-412e-b2a6-e5fa8628f242",
   "metadata": {},
   "outputs": [
    {
     "data": {
      "text/html": [
       "<div>\n",
       "<style scoped>\n",
       "    .dataframe tbody tr th:only-of-type {\n",
       "        vertical-align: middle;\n",
       "    }\n",
       "\n",
       "    .dataframe tbody tr th {\n",
       "        vertical-align: top;\n",
       "    }\n",
       "\n",
       "    .dataframe thead th {\n",
       "        text-align: right;\n",
       "    }\n",
       "</style>\n",
       "<table border=\"1\" class=\"dataframe\">\n",
       "  <thead>\n",
       "    <tr style=\"text-align: right;\">\n",
       "      <th></th>\n",
       "      <th>price</th>\n",
       "      <th>year</th>\n",
       "      <th>manufacturer</th>\n",
       "      <th>condition</th>\n",
       "      <th>cylinders</th>\n",
       "      <th>fuel</th>\n",
       "      <th>odometer</th>\n",
       "      <th>title_status</th>\n",
       "      <th>transmission</th>\n",
       "      <th>drive</th>\n",
       "      <th>size</th>\n",
       "      <th>type</th>\n",
       "      <th>paint_color</th>\n",
       "      <th>state</th>\n",
       "    </tr>\n",
       "  </thead>\n",
       "  <tbody>\n",
       "    <tr>\n",
       "      <th>27</th>\n",
       "      <td>33590</td>\n",
       "      <td>2014</td>\n",
       "      <td>gmc</td>\n",
       "      <td>good</td>\n",
       "      <td>8 cylinders</td>\n",
       "      <td>gas</td>\n",
       "      <td>57923</td>\n",
       "      <td>clean</td>\n",
       "      <td>other</td>\n",
       "      <td>NaN</td>\n",
       "      <td>NaN</td>\n",
       "      <td>pickup</td>\n",
       "      <td>white</td>\n",
       "      <td>al</td>\n",
       "    </tr>\n",
       "    <tr>\n",
       "      <th>28</th>\n",
       "      <td>22590</td>\n",
       "      <td>2010</td>\n",
       "      <td>chevrolet</td>\n",
       "      <td>good</td>\n",
       "      <td>8 cylinders</td>\n",
       "      <td>gas</td>\n",
       "      <td>71229</td>\n",
       "      <td>clean</td>\n",
       "      <td>other</td>\n",
       "      <td>NaN</td>\n",
       "      <td>NaN</td>\n",
       "      <td>pickup</td>\n",
       "      <td>blue</td>\n",
       "      <td>al</td>\n",
       "    </tr>\n",
       "  </tbody>\n",
       "</table>\n",
       "</div>"
      ],
      "text/plain": [
       "    price  year manufacturer condition    cylinders fuel  odometer  \\\n",
       "27  33590  2014          gmc      good  8 cylinders  gas     57923   \n",
       "28  22590  2010    chevrolet      good  8 cylinders  gas     71229   \n",
       "\n",
       "   title_status transmission drive size    type paint_color state  \n",
       "27        clean        other   NaN  NaN  pickup       white    al  \n",
       "28        clean        other   NaN  NaN  pickup        blue    al  "
      ]
     },
     "execution_count": 55,
     "metadata": {},
     "output_type": "execute_result"
    }
   ],
   "source": [
    "data = vehicles_cleansed[data_cols].copy()\n",
    "data.head(2)"
   ]
  },
  {
   "cell_type": "code",
   "execution_count": 56,
   "id": "541ae28a-53d0-4251-8b6d-65ba133b9c70",
   "metadata": {},
   "outputs": [
    {
     "data": {
      "text/plain": [
       "(76137, 14)"
      ]
     },
     "execution_count": 56,
     "metadata": {},
     "output_type": "execute_result"
    }
   ],
   "source": [
    "# remove nulls for the PCA analysis\n",
    "data.dropna(subset=['condition', 'cylinders', 'drive', 'size', 'type', 'paint_color'], axis='index', inplace=True)\n",
    "data.shape"
   ]
  },
  {
   "cell_type": "code",
   "execution_count": 57,
   "id": "5d0b6c8c-6ba2-473e-8d65-1a172ceaba1b",
   "metadata": {},
   "outputs": [],
   "source": [
    "data.to_csv('data/samples.csv')"
   ]
  },
  {
   "cell_type": "code",
   "execution_count": 58,
   "id": "d757834a-739f-41b9-af30-dc01caacfea8",
   "metadata": {},
   "outputs": [],
   "source": [
    "# data_trans = transformer.fit_transform(data)\n",
    "# print('data_trans.shape: {}', data_trans.shape)"
   ]
  },
  {
   "cell_type": "code",
   "execution_count": 59,
   "id": "f29f8949-934d-4d2c-b669-ed054fde1340",
   "metadata": {},
   "outputs": [],
   "source": [
    "X = data.drop('price', axis='columns')\n",
    "y = data['price']\n",
    "\n",
    "X_train, X_test, y_train, y_test = train_test_split(X, y, random_state=42)"
   ]
  },
  {
   "cell_type": "markdown",
   "id": "65593a4d-64dd-458a-93a9-105a363ed9ed",
   "metadata": {},
   "source": [
    "### LinearRegression"
   ]
  },
  {
   "cell_type": "code",
   "execution_count": 61,
   "id": "dce199ed-4e66-4160-910b-fcf285363e69",
   "metadata": {},
   "outputs": [],
   "source": [
    "models = [\n",
    "    LinearRegression(),\n",
    "    Ridge(),\n",
    "    Lasso()\n",
    "]"
   ]
  },
  {
   "cell_type": "code",
   "execution_count": 62,
   "id": "908ed926-80fb-4c8b-b436-8f0da0b6e49e",
   "metadata": {},
   "outputs": [
    {
     "name": "stdout",
     "output_type": "stream",
     "text": [
      "Working on LinearRegression ... Done\n",
      "LinearRegression: MSE: 65,046,230.4471, RMSE: 8,065.1243, R2: -0.1746, Score: 0.4594, fit_time: 0.0000\n",
      "Working on Ridge ... Done\n",
      "Ridge: MSE: 64,994,791.3063, RMSE: 8,061.9347, R2: -0.1778, Score: 0.4598, fit_time: 0.0000\n",
      "Working on Lasso ... Done\n",
      "Lasso: MSE: 65,104,206.5810, RMSE: 8,068.7178, R2: -0.1952, Score: 0.4589, fit_time: 0.0000\n"
     ]
    }
   ],
   "source": [
    "fit_time = 0\n",
    "for model in models:\n",
    "    clf = Pipeline([\n",
    "        ('transformer', transformer),\n",
    "        ('model', model)\n",
    "    ])\n",
    "    model_name = clf.get_params()['model'].__class__.__name__\n",
    "    print(\"Working on {} ... \".format(model_name), end='')\n",
    "    \n",
    "    clf.fit(X_train, y_train)\n",
    "    preds = clf.predict(X_test)\n",
    "    mse = mean_squared_error(preds, y_test)\n",
    "    rmse = np.sqrt(mse)\n",
    "    r2 = r2_score(preds, y_test)\n",
    "    score = clf.score(X_test, y_test)\n",
    "    # fit_time = clf.cv_results_['mean_fit_time']\n",
    "    \n",
    "    print('Done')\n",
    "    print('{}: MSE: {:,.4f}, RMSE: {:,.4f}, R2: {:,.4f}, Score: {:,.4f}, fit_time: {:,.4f}'\n",
    "          .format(model_name, mse, rmse, r2, score, fit_time))"
   ]
  },
  {
   "cell_type": "code",
   "execution_count": 63,
   "id": "3896dcc4-871b-4464-9b6d-410accbdacff",
   "metadata": {},
   "outputs": [
    {
     "data": {
      "text/plain": [
       "{'memory': None,\n",
       " 'steps': [('transformer',\n",
       "   ColumnTransformer(remainder=StandardScaler(),\n",
       "                     transformers=[('onehotencoder', OneHotEncoder(drop='first'),\n",
       "                                    <sklearn.compose._column_transformer.make_column_selector object at 0x12a9c9a90>)])),\n",
       "  ('model', Lasso())],\n",
       " 'verbose': False,\n",
       " 'transformer': ColumnTransformer(remainder=StandardScaler(),\n",
       "                   transformers=[('onehotencoder', OneHotEncoder(drop='first'),\n",
       "                                  <sklearn.compose._column_transformer.make_column_selector object at 0x12a9c9a90>)]),\n",
       " 'model': Lasso(),\n",
       " 'transformer__force_int_remainder_cols': True,\n",
       " 'transformer__n_jobs': None,\n",
       " 'transformer__remainder__copy': True,\n",
       " 'transformer__remainder__with_mean': True,\n",
       " 'transformer__remainder__with_std': True,\n",
       " 'transformer__remainder': StandardScaler(),\n",
       " 'transformer__sparse_threshold': 0.3,\n",
       " 'transformer__transformer_weights': None,\n",
       " 'transformer__transformers': [('onehotencoder',\n",
       "   OneHotEncoder(drop='first'),\n",
       "   <sklearn.compose._column_transformer.make_column_selector at 0x12a9c9a90>)],\n",
       " 'transformer__verbose': False,\n",
       " 'transformer__verbose_feature_names_out': True,\n",
       " 'transformer__onehotencoder': OneHotEncoder(drop='first'),\n",
       " 'transformer__onehotencoder__categories': 'auto',\n",
       " 'transformer__onehotencoder__drop': 'first',\n",
       " 'transformer__onehotencoder__dtype': numpy.float64,\n",
       " 'transformer__onehotencoder__feature_name_combiner': 'concat',\n",
       " 'transformer__onehotencoder__handle_unknown': 'error',\n",
       " 'transformer__onehotencoder__max_categories': None,\n",
       " 'transformer__onehotencoder__min_frequency': None,\n",
       " 'transformer__onehotencoder__sparse_output': True,\n",
       " 'model__alpha': 1.0,\n",
       " 'model__copy_X': True,\n",
       " 'model__fit_intercept': True,\n",
       " 'model__max_iter': 1000,\n",
       " 'model__positive': False,\n",
       " 'model__precompute': False,\n",
       " 'model__random_state': None,\n",
       " 'model__selection': 'cyclic',\n",
       " 'model__tol': 0.0001,\n",
       " 'model__warm_start': False}"
      ]
     },
     "execution_count": 63,
     "metadata": {},
     "output_type": "execute_result"
    }
   ],
   "source": [
    "clf.get_params()"
   ]
  },
  {
   "cell_type": "markdown",
   "id": "c54a9e63-0dae-45a9-a9f8-f2875be36cd1",
   "metadata": {},
   "source": [
    "# Final Modeling"
   ]
  },
  {
   "cell_type": "markdown",
   "id": "2a074eed-a8f0-47dc-8dfa-14c96314a85d",
   "metadata": {},
   "source": [
    "## Data Cleaning"
   ]
  },
  {
   "cell_type": "code",
   "execution_count": 66,
   "id": "e9ab1651-5568-4403-8d34-c106732d5680",
   "metadata": {},
   "outputs": [
    {
     "name": "stdout",
     "output_type": "stream",
     "text": [
      "Reading data/vehicles.csv ... Done: (426880, 18)\n",
      "\n",
      "Cleansing price column ... \n",
      "... Removing price outliers using ModZ method ... \n",
      "... ModZ: 9450.0, med: 13950.0, const: 0.6745\n",
      "... Time: 0.12202787399291992\n",
      "... Removed 5,790 outliers\n",
      "... Removing cars with price = 0 ...  Removed 32,895 rows\n",
      "Done: (421090, 19) -> (388195, 19)\n",
      "\n",
      "DropNA from columns: \n",
      "... year: 1,029 rows (0.27% of total): 388,195 -> 387,166\n",
      "... manufacturer: 16,609 rows (4.28% of total): 388,195 -> 371,586\n",
      "... fuel: 19,173 rows (4.94% of total): 388,195 -> 369,022\n",
      "... title_status: 26,730 rows (6.89% of total): 388,195 -> 361,465\n",
      "... odometer: 28,960 rows (7.46% of total): 388,195 -> 359,235\n",
      "... transmission: 30,742 rows (7.92% of total): 388,195 -> 357,453\n",
      "Done: (388195, 19) -> (360700, 19)\n",
      "\n",
      "Dropping columns: ['mod_zscore', 'id', 'model']\n",
      "... mod_zscore\n",
      "... id\n",
      "... model\n",
      "Done: (360700, 19) -> (360700, 16)\n",
      "\n",
      "Data Transformations:\n",
      "... year float -> int: Done\n",
      "... odometer float -> int: Done\n",
      "\n",
      "Category Transformations:\n",
      "... Converting column \"condition\" -> Category: Done\n",
      "... Converting column \"manufacturer\" -> Category: Done\n",
      "... Converting column \"cylinders\" -> Category: Done\n",
      "... Converting column \"fuel\" -> Category: Done\n",
      "... Converting column \"title_status\" -> Category: Done\n",
      "... Converting column \"state\" -> Category: Done\n",
      "... Converting column \"transmission\" -> Category: Done\n",
      "... Converting column \"drive\" -> Category: Done\n",
      "... Converting column \"size\" -> Category: Done\n",
      "... Converting column \"type\" -> Category: Done\n",
      "... Converting column \"paint_color\" -> Category: Done\n",
      "\n",
      "Returned Raw(426,880x19) and Cleansed(360,700x16) data\n",
      "Dataset reduced by 66,180 rows (preserved 84.50% of total)\n"
     ]
    }
   ],
   "source": [
    "vehicles_raw, vehicles_cleansed = my_utils.get_cleansed_data()"
   ]
  },
  {
   "cell_type": "code",
   "execution_count": 67,
   "id": "80a0eb11-fb70-44ec-8cbe-dbc291a4b28c",
   "metadata": {},
   "outputs": [
    {
     "name": "stdout",
     "output_type": "stream",
     "text": [
      "<class 'pandas.core.frame.DataFrame'>\n",
      "Index: 360700 entries, 27 to 426879\n",
      "Data columns (total 16 columns):\n",
      " #   Column        Non-Null Count   Dtype   \n",
      "---  ------        --------------   -----   \n",
      " 0   region        360700 non-null  object  \n",
      " 1   price         360700 non-null  int64   \n",
      " 2   year          360700 non-null  int64   \n",
      " 3   manufacturer  360700 non-null  category\n",
      " 4   condition     223668 non-null  category\n",
      " 5   cylinders     213522 non-null  category\n",
      " 6   fuel          360700 non-null  category\n",
      " 7   odometer      360700 non-null  int64   \n",
      " 8   title_status  360700 non-null  category\n",
      " 9   transmission  360700 non-null  category\n",
      " 10  VIN           219818 non-null  object  \n",
      " 11  drive         252582 non-null  category\n",
      " 12  size          104338 non-null  category\n",
      " 13  type          282300 non-null  category\n",
      " 14  paint_color   257706 non-null  category\n",
      " 15  state         360700 non-null  category\n",
      "dtypes: category(11), int64(3), object(2)\n",
      "memory usage: 20.3+ MB\n"
     ]
    }
   ],
   "source": [
    "vehicles_cleansed.info()"
   ]
  },
  {
   "cell_type": "code",
   "execution_count": 68,
   "id": "d2d79a32-2e61-47b6-a236-479b121043a8",
   "metadata": {},
   "outputs": [
    {
     "data": {
      "text/plain": [
       "Index(['region', 'price', 'year', 'manufacturer', 'condition', 'cylinders',\n",
       "       'fuel', 'odometer', 'title_status', 'transmission', 'VIN', 'drive',\n",
       "       'size', 'type', 'paint_color', 'state'],\n",
       "      dtype='object')"
      ]
     },
     "execution_count": 68,
     "metadata": {},
     "output_type": "execute_result"
    }
   ],
   "source": [
    "vehicles_cleansed.columns"
   ]
  },
  {
   "cell_type": "code",
   "execution_count": 69,
   "id": "065d5c1e-08f3-40b0-88b4-6cfb6f6a342d",
   "metadata": {},
   "outputs": [],
   "source": [
    "# removed cols: 'region', 'manufacturer', 'VIN', 'paint_color', 'state'\n",
    "drop_cols = ['region', 'manufacturer', 'VIN', 'paint_color', 'state']\n",
    "features=['year', 'condition', 'cylinders', 'fuel', 'odometer', 'title_status', \n",
    "          'transmission', 'drive', 'size', 'type']"
   ]
  },
  {
   "cell_type": "code",
   "execution_count": 70,
   "id": "59759709-e42e-4fe7-b802-68994da30421",
   "metadata": {},
   "outputs": [],
   "source": [
    "# Create a copy of the clean data and remove unwanted columnss\n",
    "data = vehicles_cleansed.copy()\n",
    "data.drop(columns=drop_cols, inplace=True)"
   ]
  },
  {
   "cell_type": "code",
   "execution_count": 71,
   "id": "c549e347-221b-4476-a120-f89cefc2338b",
   "metadata": {},
   "outputs": [
    {
     "name": "stdout",
     "output_type": "stream",
     "text": [
      "Dropping nulls: (360700, 11) ->  (78626, 11)\n"
     ]
    }
   ],
   "source": [
    "# remove nulls before splitting data\n",
    "print('Dropping nulls: {} -> '.format(data.shape), end='')\n",
    "data.dropna(subset=['condition', 'cylinders', 'drive', 'size', 'type'], axis='index', inplace=True)\n",
    "print(' {}'.format(data.shape))"
   ]
  },
  {
   "cell_type": "code",
   "execution_count": 72,
   "id": "ae860574-3cff-4b83-9a4c-612ef3a10eb0",
   "metadata": {},
   "outputs": [
    {
     "data": {
      "text/plain": [
       "Index(['price', 'year', 'condition', 'cylinders', 'fuel', 'odometer',\n",
       "       'title_status', 'transmission', 'drive', 'size', 'type'],\n",
       "      dtype='object')"
      ]
     },
     "execution_count": 72,
     "metadata": {},
     "output_type": "execute_result"
    }
   ],
   "source": [
    "data.columns"
   ]
  },
  {
   "cell_type": "markdown",
   "id": "d5e3a2d7-bc51-4f7e-835a-a4fb8f249080",
   "metadata": {},
   "source": [
    "## Create Train/Test splits"
   ]
  },
  {
   "cell_type": "code",
   "execution_count": 74,
   "id": "a2376fcd-789f-44ec-abe4-dc556a74d862",
   "metadata": {},
   "outputs": [],
   "source": [
    "X = data[features]\n",
    "y = data['price']"
   ]
  },
  {
   "cell_type": "code",
   "execution_count": 75,
   "id": "71538551-7be5-4729-8721-906f629c1b93",
   "metadata": {},
   "outputs": [],
   "source": [
    "X_train, X_test, y_train, y_test = train_test_split(X, y, test_size=0.2, random_state=42)"
   ]
  },
  {
   "cell_type": "code",
   "execution_count": 76,
   "id": "be3c897e-691a-4954-b786-88ab9e08a3de",
   "metadata": {},
   "outputs": [
    {
     "name": "stdout",
     "output_type": "stream",
     "text": [
      "<class 'pandas.core.frame.DataFrame'>\n",
      "Index: 78626 entries, 31 to 426833\n",
      "Data columns (total 10 columns):\n",
      " #   Column        Non-Null Count  Dtype   \n",
      "---  ------        --------------  -----   \n",
      " 0   year          78626 non-null  int64   \n",
      " 1   condition     78626 non-null  category\n",
      " 2   cylinders     78626 non-null  category\n",
      " 3   fuel          78626 non-null  category\n",
      " 4   odometer      78626 non-null  int64   \n",
      " 5   title_status  78626 non-null  category\n",
      " 6   transmission  78626 non-null  category\n",
      " 7   drive         78626 non-null  category\n",
      " 8   size          78626 non-null  category\n",
      " 9   type          78626 non-null  category\n",
      "dtypes: category(8), int64(2)\n",
      "memory usage: 2.4 MB\n"
     ]
    }
   ],
   "source": [
    "X.info()"
   ]
  },
  {
   "cell_type": "markdown",
   "id": "9d77117c-469c-4bf8-895b-99daeb18db79",
   "metadata": {},
   "source": [
    "## Data Preparation for Modeling"
   ]
  },
  {
   "cell_type": "code",
   "execution_count": 78,
   "id": "bacdf085-36aa-455a-a718-2400d37a6df7",
   "metadata": {},
   "outputs": [
    {
     "data": {
      "text/plain": [
       "Index(['condition', 'cylinders', 'fuel', 'title_status', 'transmission',\n",
       "       'drive', 'size', 'type'],\n",
       "      dtype='object')"
      ]
     },
     "execution_count": 78,
     "metadata": {},
     "output_type": "execute_result"
    }
   ],
   "source": [
    "selector = make_column_selector(dtype_include=['object', 'category'])\n",
    "data.select_dtypes(include=['object', 'category']).columns"
   ]
  },
  {
   "cell_type": "code",
   "execution_count": 79,
   "id": "25eefef3-8e8a-4158-acff-c4af71fe936b",
   "metadata": {},
   "outputs": [
    {
     "data": {
      "text/html": [
       "<style>#sk-container-id-2 {\n",
       "  /* Definition of color scheme common for light and dark mode */\n",
       "  --sklearn-color-text: black;\n",
       "  --sklearn-color-line: gray;\n",
       "  /* Definition of color scheme for unfitted estimators */\n",
       "  --sklearn-color-unfitted-level-0: #fff5e6;\n",
       "  --sklearn-color-unfitted-level-1: #f6e4d2;\n",
       "  --sklearn-color-unfitted-level-2: #ffe0b3;\n",
       "  --sklearn-color-unfitted-level-3: chocolate;\n",
       "  /* Definition of color scheme for fitted estimators */\n",
       "  --sklearn-color-fitted-level-0: #f0f8ff;\n",
       "  --sklearn-color-fitted-level-1: #d4ebff;\n",
       "  --sklearn-color-fitted-level-2: #b3dbfd;\n",
       "  --sklearn-color-fitted-level-3: cornflowerblue;\n",
       "\n",
       "  /* Specific color for light theme */\n",
       "  --sklearn-color-text-on-default-background: var(--sg-text-color, var(--theme-code-foreground, var(--jp-content-font-color1, black)));\n",
       "  --sklearn-color-background: var(--sg-background-color, var(--theme-background, var(--jp-layout-color0, white)));\n",
       "  --sklearn-color-border-box: var(--sg-text-color, var(--theme-code-foreground, var(--jp-content-font-color1, black)));\n",
       "  --sklearn-color-icon: #696969;\n",
       "\n",
       "  @media (prefers-color-scheme: dark) {\n",
       "    /* Redefinition of color scheme for dark theme */\n",
       "    --sklearn-color-text-on-default-background: var(--sg-text-color, var(--theme-code-foreground, var(--jp-content-font-color1, white)));\n",
       "    --sklearn-color-background: var(--sg-background-color, var(--theme-background, var(--jp-layout-color0, #111)));\n",
       "    --sklearn-color-border-box: var(--sg-text-color, var(--theme-code-foreground, var(--jp-content-font-color1, white)));\n",
       "    --sklearn-color-icon: #878787;\n",
       "  }\n",
       "}\n",
       "\n",
       "#sk-container-id-2 {\n",
       "  color: var(--sklearn-color-text);\n",
       "}\n",
       "\n",
       "#sk-container-id-2 pre {\n",
       "  padding: 0;\n",
       "}\n",
       "\n",
       "#sk-container-id-2 input.sk-hidden--visually {\n",
       "  border: 0;\n",
       "  clip: rect(1px 1px 1px 1px);\n",
       "  clip: rect(1px, 1px, 1px, 1px);\n",
       "  height: 1px;\n",
       "  margin: -1px;\n",
       "  overflow: hidden;\n",
       "  padding: 0;\n",
       "  position: absolute;\n",
       "  width: 1px;\n",
       "}\n",
       "\n",
       "#sk-container-id-2 div.sk-dashed-wrapped {\n",
       "  border: 1px dashed var(--sklearn-color-line);\n",
       "  margin: 0 0.4em 0.5em 0.4em;\n",
       "  box-sizing: border-box;\n",
       "  padding-bottom: 0.4em;\n",
       "  background-color: var(--sklearn-color-background);\n",
       "}\n",
       "\n",
       "#sk-container-id-2 div.sk-container {\n",
       "  /* jupyter's `normalize.less` sets `[hidden] { display: none; }`\n",
       "     but bootstrap.min.css set `[hidden] { display: none !important; }`\n",
       "     so we also need the `!important` here to be able to override the\n",
       "     default hidden behavior on the sphinx rendered scikit-learn.org.\n",
       "     See: https://github.com/scikit-learn/scikit-learn/issues/21755 */\n",
       "  display: inline-block !important;\n",
       "  position: relative;\n",
       "}\n",
       "\n",
       "#sk-container-id-2 div.sk-text-repr-fallback {\n",
       "  display: none;\n",
       "}\n",
       "\n",
       "div.sk-parallel-item,\n",
       "div.sk-serial,\n",
       "div.sk-item {\n",
       "  /* draw centered vertical line to link estimators */\n",
       "  background-image: linear-gradient(var(--sklearn-color-text-on-default-background), var(--sklearn-color-text-on-default-background));\n",
       "  background-size: 2px 100%;\n",
       "  background-repeat: no-repeat;\n",
       "  background-position: center center;\n",
       "}\n",
       "\n",
       "/* Parallel-specific style estimator block */\n",
       "\n",
       "#sk-container-id-2 div.sk-parallel-item::after {\n",
       "  content: \"\";\n",
       "  width: 100%;\n",
       "  border-bottom: 2px solid var(--sklearn-color-text-on-default-background);\n",
       "  flex-grow: 1;\n",
       "}\n",
       "\n",
       "#sk-container-id-2 div.sk-parallel {\n",
       "  display: flex;\n",
       "  align-items: stretch;\n",
       "  justify-content: center;\n",
       "  background-color: var(--sklearn-color-background);\n",
       "  position: relative;\n",
       "}\n",
       "\n",
       "#sk-container-id-2 div.sk-parallel-item {\n",
       "  display: flex;\n",
       "  flex-direction: column;\n",
       "}\n",
       "\n",
       "#sk-container-id-2 div.sk-parallel-item:first-child::after {\n",
       "  align-self: flex-end;\n",
       "  width: 50%;\n",
       "}\n",
       "\n",
       "#sk-container-id-2 div.sk-parallel-item:last-child::after {\n",
       "  align-self: flex-start;\n",
       "  width: 50%;\n",
       "}\n",
       "\n",
       "#sk-container-id-2 div.sk-parallel-item:only-child::after {\n",
       "  width: 0;\n",
       "}\n",
       "\n",
       "/* Serial-specific style estimator block */\n",
       "\n",
       "#sk-container-id-2 div.sk-serial {\n",
       "  display: flex;\n",
       "  flex-direction: column;\n",
       "  align-items: center;\n",
       "  background-color: var(--sklearn-color-background);\n",
       "  padding-right: 1em;\n",
       "  padding-left: 1em;\n",
       "}\n",
       "\n",
       "\n",
       "/* Toggleable style: style used for estimator/Pipeline/ColumnTransformer box that is\n",
       "clickable and can be expanded/collapsed.\n",
       "- Pipeline and ColumnTransformer use this feature and define the default style\n",
       "- Estimators will overwrite some part of the style using the `sk-estimator` class\n",
       "*/\n",
       "\n",
       "/* Pipeline and ColumnTransformer style (default) */\n",
       "\n",
       "#sk-container-id-2 div.sk-toggleable {\n",
       "  /* Default theme specific background. It is overwritten whether we have a\n",
       "  specific estimator or a Pipeline/ColumnTransformer */\n",
       "  background-color: var(--sklearn-color-background);\n",
       "}\n",
       "\n",
       "/* Toggleable label */\n",
       "#sk-container-id-2 label.sk-toggleable__label {\n",
       "  cursor: pointer;\n",
       "  display: block;\n",
       "  width: 100%;\n",
       "  margin-bottom: 0;\n",
       "  padding: 0.5em;\n",
       "  box-sizing: border-box;\n",
       "  text-align: center;\n",
       "}\n",
       "\n",
       "#sk-container-id-2 label.sk-toggleable__label-arrow:before {\n",
       "  /* Arrow on the left of the label */\n",
       "  content: \"▸\";\n",
       "  float: left;\n",
       "  margin-right: 0.25em;\n",
       "  color: var(--sklearn-color-icon);\n",
       "}\n",
       "\n",
       "#sk-container-id-2 label.sk-toggleable__label-arrow:hover:before {\n",
       "  color: var(--sklearn-color-text);\n",
       "}\n",
       "\n",
       "/* Toggleable content - dropdown */\n",
       "\n",
       "#sk-container-id-2 div.sk-toggleable__content {\n",
       "  max-height: 0;\n",
       "  max-width: 0;\n",
       "  overflow: hidden;\n",
       "  text-align: left;\n",
       "  /* unfitted */\n",
       "  background-color: var(--sklearn-color-unfitted-level-0);\n",
       "}\n",
       "\n",
       "#sk-container-id-2 div.sk-toggleable__content.fitted {\n",
       "  /* fitted */\n",
       "  background-color: var(--sklearn-color-fitted-level-0);\n",
       "}\n",
       "\n",
       "#sk-container-id-2 div.sk-toggleable__content pre {\n",
       "  margin: 0.2em;\n",
       "  border-radius: 0.25em;\n",
       "  color: var(--sklearn-color-text);\n",
       "  /* unfitted */\n",
       "  background-color: var(--sklearn-color-unfitted-level-0);\n",
       "}\n",
       "\n",
       "#sk-container-id-2 div.sk-toggleable__content.fitted pre {\n",
       "  /* unfitted */\n",
       "  background-color: var(--sklearn-color-fitted-level-0);\n",
       "}\n",
       "\n",
       "#sk-container-id-2 input.sk-toggleable__control:checked~div.sk-toggleable__content {\n",
       "  /* Expand drop-down */\n",
       "  max-height: 200px;\n",
       "  max-width: 100%;\n",
       "  overflow: auto;\n",
       "}\n",
       "\n",
       "#sk-container-id-2 input.sk-toggleable__control:checked~label.sk-toggleable__label-arrow:before {\n",
       "  content: \"▾\";\n",
       "}\n",
       "\n",
       "/* Pipeline/ColumnTransformer-specific style */\n",
       "\n",
       "#sk-container-id-2 div.sk-label input.sk-toggleable__control:checked~label.sk-toggleable__label {\n",
       "  color: var(--sklearn-color-text);\n",
       "  background-color: var(--sklearn-color-unfitted-level-2);\n",
       "}\n",
       "\n",
       "#sk-container-id-2 div.sk-label.fitted input.sk-toggleable__control:checked~label.sk-toggleable__label {\n",
       "  background-color: var(--sklearn-color-fitted-level-2);\n",
       "}\n",
       "\n",
       "/* Estimator-specific style */\n",
       "\n",
       "/* Colorize estimator box */\n",
       "#sk-container-id-2 div.sk-estimator input.sk-toggleable__control:checked~label.sk-toggleable__label {\n",
       "  /* unfitted */\n",
       "  background-color: var(--sklearn-color-unfitted-level-2);\n",
       "}\n",
       "\n",
       "#sk-container-id-2 div.sk-estimator.fitted input.sk-toggleable__control:checked~label.sk-toggleable__label {\n",
       "  /* fitted */\n",
       "  background-color: var(--sklearn-color-fitted-level-2);\n",
       "}\n",
       "\n",
       "#sk-container-id-2 div.sk-label label.sk-toggleable__label,\n",
       "#sk-container-id-2 div.sk-label label {\n",
       "  /* The background is the default theme color */\n",
       "  color: var(--sklearn-color-text-on-default-background);\n",
       "}\n",
       "\n",
       "/* On hover, darken the color of the background */\n",
       "#sk-container-id-2 div.sk-label:hover label.sk-toggleable__label {\n",
       "  color: var(--sklearn-color-text);\n",
       "  background-color: var(--sklearn-color-unfitted-level-2);\n",
       "}\n",
       "\n",
       "/* Label box, darken color on hover, fitted */\n",
       "#sk-container-id-2 div.sk-label.fitted:hover label.sk-toggleable__label.fitted {\n",
       "  color: var(--sklearn-color-text);\n",
       "  background-color: var(--sklearn-color-fitted-level-2);\n",
       "}\n",
       "\n",
       "/* Estimator label */\n",
       "\n",
       "#sk-container-id-2 div.sk-label label {\n",
       "  font-family: monospace;\n",
       "  font-weight: bold;\n",
       "  display: inline-block;\n",
       "  line-height: 1.2em;\n",
       "}\n",
       "\n",
       "#sk-container-id-2 div.sk-label-container {\n",
       "  text-align: center;\n",
       "}\n",
       "\n",
       "/* Estimator-specific */\n",
       "#sk-container-id-2 div.sk-estimator {\n",
       "  font-family: monospace;\n",
       "  border: 1px dotted var(--sklearn-color-border-box);\n",
       "  border-radius: 0.25em;\n",
       "  box-sizing: border-box;\n",
       "  margin-bottom: 0.5em;\n",
       "  /* unfitted */\n",
       "  background-color: var(--sklearn-color-unfitted-level-0);\n",
       "}\n",
       "\n",
       "#sk-container-id-2 div.sk-estimator.fitted {\n",
       "  /* fitted */\n",
       "  background-color: var(--sklearn-color-fitted-level-0);\n",
       "}\n",
       "\n",
       "/* on hover */\n",
       "#sk-container-id-2 div.sk-estimator:hover {\n",
       "  /* unfitted */\n",
       "  background-color: var(--sklearn-color-unfitted-level-2);\n",
       "}\n",
       "\n",
       "#sk-container-id-2 div.sk-estimator.fitted:hover {\n",
       "  /* fitted */\n",
       "  background-color: var(--sklearn-color-fitted-level-2);\n",
       "}\n",
       "\n",
       "/* Specification for estimator info (e.g. \"i\" and \"?\") */\n",
       "\n",
       "/* Common style for \"i\" and \"?\" */\n",
       "\n",
       ".sk-estimator-doc-link,\n",
       "a:link.sk-estimator-doc-link,\n",
       "a:visited.sk-estimator-doc-link {\n",
       "  float: right;\n",
       "  font-size: smaller;\n",
       "  line-height: 1em;\n",
       "  font-family: monospace;\n",
       "  background-color: var(--sklearn-color-background);\n",
       "  border-radius: 1em;\n",
       "  height: 1em;\n",
       "  width: 1em;\n",
       "  text-decoration: none !important;\n",
       "  margin-left: 1ex;\n",
       "  /* unfitted */\n",
       "  border: var(--sklearn-color-unfitted-level-1) 1pt solid;\n",
       "  color: var(--sklearn-color-unfitted-level-1);\n",
       "}\n",
       "\n",
       ".sk-estimator-doc-link.fitted,\n",
       "a:link.sk-estimator-doc-link.fitted,\n",
       "a:visited.sk-estimator-doc-link.fitted {\n",
       "  /* fitted */\n",
       "  border: var(--sklearn-color-fitted-level-1) 1pt solid;\n",
       "  color: var(--sklearn-color-fitted-level-1);\n",
       "}\n",
       "\n",
       "/* On hover */\n",
       "div.sk-estimator:hover .sk-estimator-doc-link:hover,\n",
       ".sk-estimator-doc-link:hover,\n",
       "div.sk-label-container:hover .sk-estimator-doc-link:hover,\n",
       ".sk-estimator-doc-link:hover {\n",
       "  /* unfitted */\n",
       "  background-color: var(--sklearn-color-unfitted-level-3);\n",
       "  color: var(--sklearn-color-background);\n",
       "  text-decoration: none;\n",
       "}\n",
       "\n",
       "div.sk-estimator.fitted:hover .sk-estimator-doc-link.fitted:hover,\n",
       ".sk-estimator-doc-link.fitted:hover,\n",
       "div.sk-label-container:hover .sk-estimator-doc-link.fitted:hover,\n",
       ".sk-estimator-doc-link.fitted:hover {\n",
       "  /* fitted */\n",
       "  background-color: var(--sklearn-color-fitted-level-3);\n",
       "  color: var(--sklearn-color-background);\n",
       "  text-decoration: none;\n",
       "}\n",
       "\n",
       "/* Span, style for the box shown on hovering the info icon */\n",
       ".sk-estimator-doc-link span {\n",
       "  display: none;\n",
       "  z-index: 9999;\n",
       "  position: relative;\n",
       "  font-weight: normal;\n",
       "  right: .2ex;\n",
       "  padding: .5ex;\n",
       "  margin: .5ex;\n",
       "  width: min-content;\n",
       "  min-width: 20ex;\n",
       "  max-width: 50ex;\n",
       "  color: var(--sklearn-color-text);\n",
       "  box-shadow: 2pt 2pt 4pt #999;\n",
       "  /* unfitted */\n",
       "  background: var(--sklearn-color-unfitted-level-0);\n",
       "  border: .5pt solid var(--sklearn-color-unfitted-level-3);\n",
       "}\n",
       "\n",
       ".sk-estimator-doc-link.fitted span {\n",
       "  /* fitted */\n",
       "  background: var(--sklearn-color-fitted-level-0);\n",
       "  border: var(--sklearn-color-fitted-level-3);\n",
       "}\n",
       "\n",
       ".sk-estimator-doc-link:hover span {\n",
       "  display: block;\n",
       "}\n",
       "\n",
       "/* \"?\"-specific style due to the `<a>` HTML tag */\n",
       "\n",
       "#sk-container-id-2 a.estimator_doc_link {\n",
       "  float: right;\n",
       "  font-size: 1rem;\n",
       "  line-height: 1em;\n",
       "  font-family: monospace;\n",
       "  background-color: var(--sklearn-color-background);\n",
       "  border-radius: 1rem;\n",
       "  height: 1rem;\n",
       "  width: 1rem;\n",
       "  text-decoration: none;\n",
       "  /* unfitted */\n",
       "  color: var(--sklearn-color-unfitted-level-1);\n",
       "  border: var(--sklearn-color-unfitted-level-1) 1pt solid;\n",
       "}\n",
       "\n",
       "#sk-container-id-2 a.estimator_doc_link.fitted {\n",
       "  /* fitted */\n",
       "  border: var(--sklearn-color-fitted-level-1) 1pt solid;\n",
       "  color: var(--sklearn-color-fitted-level-1);\n",
       "}\n",
       "\n",
       "/* On hover */\n",
       "#sk-container-id-2 a.estimator_doc_link:hover {\n",
       "  /* unfitted */\n",
       "  background-color: var(--sklearn-color-unfitted-level-3);\n",
       "  color: var(--sklearn-color-background);\n",
       "  text-decoration: none;\n",
       "}\n",
       "\n",
       "#sk-container-id-2 a.estimator_doc_link.fitted:hover {\n",
       "  /* fitted */\n",
       "  background-color: var(--sklearn-color-fitted-level-3);\n",
       "}\n",
       "</style><div id=\"sk-container-id-2\" class=\"sk-top-container\"><div class=\"sk-text-repr-fallback\"><pre>ColumnTransformer(remainder=StandardScaler(),\n",
       "                  transformers=[(&#x27;onehotencoder&#x27;, OneHotEncoder(drop=&#x27;first&#x27;),\n",
       "                                 &lt;sklearn.compose._column_transformer.make_column_selector object at 0x12b267350&gt;)])</pre><b>In a Jupyter environment, please rerun this cell to show the HTML representation or trust the notebook. <br />On GitHub, the HTML representation is unable to render, please try loading this page with nbviewer.org.</b></div><div class=\"sk-container\" hidden><div class=\"sk-item sk-dashed-wrapped\"><div class=\"sk-label-container\"><div class=\"sk-label  sk-toggleable\"><input class=\"sk-toggleable__control sk-hidden--visually\" id=\"sk-estimator-id-6\" type=\"checkbox\" ><label for=\"sk-estimator-id-6\" class=\"sk-toggleable__label  sk-toggleable__label-arrow \">&nbsp;&nbsp;ColumnTransformer<a class=\"sk-estimator-doc-link \" rel=\"noreferrer\" target=\"_blank\" href=\"https://scikit-learn.org/1.5/modules/generated/sklearn.compose.ColumnTransformer.html\">?<span>Documentation for ColumnTransformer</span></a><span class=\"sk-estimator-doc-link \">i<span>Not fitted</span></span></label><div class=\"sk-toggleable__content \"><pre>ColumnTransformer(remainder=StandardScaler(),\n",
       "                  transformers=[(&#x27;onehotencoder&#x27;, OneHotEncoder(drop=&#x27;first&#x27;),\n",
       "                                 &lt;sklearn.compose._column_transformer.make_column_selector object at 0x12b267350&gt;)])</pre></div> </div></div><div class=\"sk-parallel\"><div class=\"sk-parallel-item\"><div class=\"sk-item\"><div class=\"sk-label-container\"><div class=\"sk-label  sk-toggleable\"><input class=\"sk-toggleable__control sk-hidden--visually\" id=\"sk-estimator-id-7\" type=\"checkbox\" ><label for=\"sk-estimator-id-7\" class=\"sk-toggleable__label  sk-toggleable__label-arrow \">onehotencoder</label><div class=\"sk-toggleable__content \"><pre>&lt;sklearn.compose._column_transformer.make_column_selector object at 0x12b267350&gt;</pre></div> </div></div><div class=\"sk-serial\"><div class=\"sk-item\"><div class=\"sk-estimator  sk-toggleable\"><input class=\"sk-toggleable__control sk-hidden--visually\" id=\"sk-estimator-id-8\" type=\"checkbox\" ><label for=\"sk-estimator-id-8\" class=\"sk-toggleable__label  sk-toggleable__label-arrow \">&nbsp;OneHotEncoder<a class=\"sk-estimator-doc-link \" rel=\"noreferrer\" target=\"_blank\" href=\"https://scikit-learn.org/1.5/modules/generated/sklearn.preprocessing.OneHotEncoder.html\">?<span>Documentation for OneHotEncoder</span></a></label><div class=\"sk-toggleable__content \"><pre>OneHotEncoder(drop=&#x27;first&#x27;)</pre></div> </div></div></div></div></div><div class=\"sk-parallel-item\"><div class=\"sk-item\"><div class=\"sk-label-container\"><div class=\"sk-label  sk-toggleable\"><input class=\"sk-toggleable__control sk-hidden--visually\" id=\"sk-estimator-id-9\" type=\"checkbox\" ><label for=\"sk-estimator-id-9\" class=\"sk-toggleable__label  sk-toggleable__label-arrow \">remainder</label><div class=\"sk-toggleable__content \"><pre></pre></div> </div></div><div class=\"sk-serial\"><div class=\"sk-item\"><div class=\"sk-estimator  sk-toggleable\"><input class=\"sk-toggleable__control sk-hidden--visually\" id=\"sk-estimator-id-10\" type=\"checkbox\" ><label for=\"sk-estimator-id-10\" class=\"sk-toggleable__label  sk-toggleable__label-arrow \">&nbsp;StandardScaler<a class=\"sk-estimator-doc-link \" rel=\"noreferrer\" target=\"_blank\" href=\"https://scikit-learn.org/1.5/modules/generated/sklearn.preprocessing.StandardScaler.html\">?<span>Documentation for StandardScaler</span></a></label><div class=\"sk-toggleable__content \"><pre>StandardScaler()</pre></div> </div></div></div></div></div></div></div></div></div>"
      ],
      "text/plain": [
       "ColumnTransformer(remainder=StandardScaler(),\n",
       "                  transformers=[('onehotencoder', OneHotEncoder(drop='first'),\n",
       "                                 <sklearn.compose._column_transformer.make_column_selector object at 0x12b267350>)])"
      ]
     },
     "execution_count": 79,
     "metadata": {},
     "output_type": "execute_result"
    }
   ],
   "source": [
    "# Preprocess the data\n",
    "# One-hot encode the 'condition' categorical features\n",
    "# Scale numeric features\n",
    "transformer = make_column_transformer(\n",
    "    (OneHotEncoder(drop = 'first'), selector),\n",
    "    remainder= StandardScaler()\n",
    ")\n",
    "transformer"
   ]
  },
  {
   "cell_type": "markdown",
   "id": "a7770b4e-e9dd-42c2-9556-c440ab883821",
   "metadata": {},
   "source": [
    "## Baseline Regression Models"
   ]
  },
  {
   "cell_type": "code",
   "execution_count": 81,
   "id": "a59b2fd5-fee4-4d84-a424-8d7b7b0cfb1a",
   "metadata": {},
   "outputs": [],
   "source": [
    "models = [\n",
    "    LinearRegression(),\n",
    "    Ridge(alpha=1.0),\n",
    "    Lasso(alpha=0.1)\n",
    "]"
   ]
  },
  {
   "cell_type": "code",
   "execution_count": 82,
   "id": "862b5a4a-8b2d-47e4-a2f5-9648b38007cb",
   "metadata": {},
   "outputs": [],
   "source": [
    "# Evaluate models\n",
    "def get_model_metrics_as_results(clf_pipe, X_train, y_train, X_test, y_test):\n",
    "    \"\"\"\n",
    "    Build standardized results tabel given the classifire pipeline handle and train/test splits\n",
    "\n",
    "    :param clf_pipe: Classifier pipeline with named 'model' and 'transformer' stages. Will call fit() and predict() to generate metrics\n",
    "    :param X_train: Training X\n",
    "    :param y_train: Training y\n",
    "    :param X_test: Test X\n",
    "    :param y_test: Test y\n",
    "    :return: Returns single row of results summary table containing:\n",
    "    \n",
    "        [model_name, MAE, MSE, RMSE, R2_Score]\n",
    "    \"\"\"\n",
    "\n",
    "    start_time = time.time()\n",
    "\n",
    "    model_name = clf_pipe.get_params()['model'].__class__.__name__\n",
    "    logging.debug(f'Working on {model_name}')\n",
    "\n",
    "    # Call fit, predict\n",
    "    clf_pipe.fit(X_train, y_train)\n",
    "    y_preds = clf_pipe.predict(X_test)\n",
    "\n",
    "    # get metrics\n",
    "    mae = mean_absolute_error(y_preds, y_test)\n",
    "    mse = mean_squared_error(y_preds, y_test)\n",
    "    rmse = np.sqrt(mse)\n",
    "    r2 = r2_score(y_preds, y_test)\n",
    "    score = clf_pipe.score(X_test, y_test)\n",
    "    # time = clf_pipe.cv_results_['mean_fit_time']\n",
    "\n",
    "    lapse = time.time() - start_time\n",
    "    \n",
    "    logging.debug(f'... {model_name}: MAE: {mae:,.4f}, MSE: {mse:,.4f}, RMSE: {rmse:,.4f}, R2: {r2:,.4f}, Score: {score:,.4f}, time: {lapse:,.4f}')\n",
    "\n",
    "    return [model_name, mae, mse, rmse, score]"
   ]
  },
  {
   "cell_type": "code",
   "execution_count": 83,
   "id": "e0abb1b9-c2fb-4c94-a3b6-b008d59ce0d1",
   "metadata": {},
   "outputs": [
    {
     "name": "stderr",
     "output_type": "stream",
     "text": [
      "DEBUG: Working on LinearRegression\n",
      "DEBUG: ... LinearRegression: MAE: 5,946.1381, MSE: 68,680,449.6276, RMSE: 8,287.3669, R2: -0.2866, Score: 0.4277, time: 0.3489\n",
      "DEBUG: Working on Ridge\n",
      "DEBUG: ... Ridge: MAE: 5,946.0982, MSE: 68,679,488.7110, RMSE: 8,287.3089, R2: -0.2871, Score: 0.4277, time: 0.3753\n",
      "DEBUG: Working on Lasso\n",
      "DEBUG: ... Lasso: MAE: 5,946.1342, MSE: 68,680,502.5796, RMSE: 8,287.3701, R2: -0.2872, Score: 0.4277, time: 1.7237\n"
     ]
    }
   ],
   "source": [
    "logging.getLogger().setLevel(logging.DEBUG)\n",
    "\n",
    "results_baseline = []\n",
    "\n",
    "# iterate over the models and build results DF\n",
    "for model in models:\n",
    "    clf = Pipeline([\n",
    "        ('transformer', transformer),\n",
    "        ('model', model)\n",
    "    ])\n",
    "\n",
    "    results_baseline.append(get_model_metrics_as_results(clf, X_train, y_train, X_test, y_test))\n",
    "\n",
    "logging.getLogger().setLevel(logging.INFO)"
   ]
  },
  {
   "cell_type": "code",
   "execution_count": 84,
   "id": "a717be51-d51f-4d0f-abcf-3b42dcae80df",
   "metadata": {},
   "outputs": [
    {
     "data": {
      "text/html": [
       "<style type=\"text/css\">\n",
       "</style>\n",
       "<table id=\"T_02e00\">\n",
       "  <thead>\n",
       "    <tr>\n",
       "      <th class=\"blank level0\" >&nbsp;</th>\n",
       "      <th id=\"T_02e00_level0_col0\" class=\"col_heading level0 col0\" >MAE</th>\n",
       "      <th id=\"T_02e00_level0_col1\" class=\"col_heading level0 col1\" >MSE</th>\n",
       "      <th id=\"T_02e00_level0_col2\" class=\"col_heading level0 col2\" >RMSE</th>\n",
       "      <th id=\"T_02e00_level0_col3\" class=\"col_heading level0 col3\" >Score</th>\n",
       "    </tr>\n",
       "    <tr>\n",
       "      <th class=\"index_name level0\" >Model</th>\n",
       "      <th class=\"blank col0\" >&nbsp;</th>\n",
       "      <th class=\"blank col1\" >&nbsp;</th>\n",
       "      <th class=\"blank col2\" >&nbsp;</th>\n",
       "      <th class=\"blank col3\" >&nbsp;</th>\n",
       "    </tr>\n",
       "  </thead>\n",
       "  <tbody>\n",
       "    <tr>\n",
       "      <th id=\"T_02e00_level0_row0\" class=\"row_heading level0 row0\" >LinearRegression</th>\n",
       "      <td id=\"T_02e00_row0_col0\" class=\"data row0 col0\" >5,946.1381</td>\n",
       "      <td id=\"T_02e00_row0_col1\" class=\"data row0 col1\" >68,680,449.6276</td>\n",
       "      <td id=\"T_02e00_row0_col2\" class=\"data row0 col2\" >8,287.3669</td>\n",
       "      <td id=\"T_02e00_row0_col3\" class=\"data row0 col3\" >0.4277</td>\n",
       "    </tr>\n",
       "    <tr>\n",
       "      <th id=\"T_02e00_level0_row1\" class=\"row_heading level0 row1\" >Ridge</th>\n",
       "      <td id=\"T_02e00_row1_col0\" class=\"data row1 col0\" >5,946.0982</td>\n",
       "      <td id=\"T_02e00_row1_col1\" class=\"data row1 col1\" >68,679,488.7110</td>\n",
       "      <td id=\"T_02e00_row1_col2\" class=\"data row1 col2\" >8,287.3089</td>\n",
       "      <td id=\"T_02e00_row1_col3\" class=\"data row1 col3\" >0.4277</td>\n",
       "    </tr>\n",
       "    <tr>\n",
       "      <th id=\"T_02e00_level0_row2\" class=\"row_heading level0 row2\" >Lasso</th>\n",
       "      <td id=\"T_02e00_row2_col0\" class=\"data row2 col0\" >5,946.1342</td>\n",
       "      <td id=\"T_02e00_row2_col1\" class=\"data row2 col1\" >68,680,502.5796</td>\n",
       "      <td id=\"T_02e00_row2_col2\" class=\"data row2 col2\" >8,287.3701</td>\n",
       "      <td id=\"T_02e00_row2_col3\" class=\"data row2 col3\" >0.4277</td>\n",
       "    </tr>\n",
       "  </tbody>\n",
       "</table>\n"
      ],
      "text/plain": [
       "<pandas.io.formats.style.Styler at 0x12aa21d10>"
      ]
     },
     "execution_count": 84,
     "metadata": {},
     "output_type": "execute_result"
    }
   ],
   "source": [
    "results_baseline_df = pd.DataFrame(results_baseline, \n",
    "                                   columns=['Model','MAE', 'MSE', 'RMSE', 'Score']\n",
    "                                  ).set_index('Model')\n",
    "results_baseline_df.style.format('{:,.4f}')"
   ]
  },
  {
   "cell_type": "code",
   "execution_count": 85,
   "id": "0313742b-a833-4ea5-81fa-ab06c4bd2ab6",
   "metadata": {},
   "outputs": [],
   "source": [
    "import dataframe_image as dfi\n",
    "\n",
    "dfi.export(results_baseline_df.style.format('{:,.2f}'), 'images/results_baseline_table.png')"
   ]
  },
  {
   "cell_type": "code",
   "execution_count": null,
   "id": "8a8731d5-baaa-4fd0-b7ba-766a06090c4d",
   "metadata": {},
   "outputs": [],
   "source": []
  }
 ],
 "metadata": {
  "kernelspec": {
   "display_name": "Python 3 (ipykernel)",
   "language": "python",
   "name": "python3"
  },
  "language_info": {
   "codemirror_mode": {
    "name": "ipython",
    "version": 3
   },
   "file_extension": ".py",
   "mimetype": "text/x-python",
   "name": "python",
   "nbconvert_exporter": "python",
   "pygments_lexer": "ipython3",
   "version": "3.11.9"
  },
  "widgets": {
   "application/vnd.jupyter.widget-state+json": {
    "state": {},
    "version_major": 2,
    "version_minor": 0
   }
  }
 },
 "nbformat": 4,
 "nbformat_minor": 5
}
