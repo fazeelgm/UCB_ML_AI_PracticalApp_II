{
 "cells": [
  {
   "cell_type": "code",
   "execution_count": 1,
   "id": "a7a424e3-7cfb-441e-8016-0b424d63d736",
   "metadata": {},
   "outputs": [],
   "source": [
    "import matplotlib.pyplot as plt\n",
    "import seaborn as sns\n",
    "import numpy as np\n",
    "import pandas as pd\n",
    "\n",
    "sns.set_theme(style='darkgrid')"
   ]
  },
  {
   "cell_type": "markdown",
   "id": "34d10eb8-a216-4254-9ec0-2ff21f54f306",
   "metadata": {},
   "source": [
    "# Utilities: Internal supporting functions"
   ]
  },
  {
   "cell_type": "markdown",
   "id": "0fbd8def-4378-45fc-9a9d-3b9a2d2f5320",
   "metadata": {
    "jp-MarkdownHeadingCollapsed": true
   },
   "source": [
    "## ```remove_outliers_modz```\n",
    "Source: https://medium.com/towards-data-science/3-simple-statistical-methods-for-outlier-detection-db762e86cd9d"
   ]
  },
  {
   "cell_type": "code",
   "execution_count": 4,
   "id": "be32b0a8-08fd-487d-8d86-186f44d62eaa",
   "metadata": {},
   "outputs": [],
   "source": [
    "# Calculate Mod-Z score\n",
    "# Converted to a funciton so I can call it from get_cleansed_data() to refresh the data repeatedly\n",
    "\n",
    "import time\n",
    "\n",
    "def remove_outliers_modz(df_with_outliers, indent_output=False):\n",
    "    \"\"\"\n",
    "    Removes outliers based on the Modified Z-score covered in the article\n",
    "\n",
    "    :param df_with_outliers: Raw data to be cleaned\n",
    "    :param indent_output: Set to true if you're embedding this inisde your print statements\n",
    "    :return: Returns DF with outliers removed\n",
    "    \"\"\"\n",
    "        \n",
    "    # Apply the above function to the entire column to get a modified\n",
    "    # z score for every data point.\n",
    "    # temp = vehicles_raw#[0:100000]\n",
    "    temp = df_with_outliers\n",
    "    modz = (np.abs(temp['price'] - temp['price'].median())).median()\n",
    "    med = temp['price'].median()\n",
    "    const = 0.6745\n",
    "    print('...', end='') if indent_output else None\n",
    "    print('ModZ: {}, med: {}, const: {}'.format(modz, med, const))\n",
    "    \n",
    "    start_time = time.time()\n",
    "    temp['mod_zscore'] = temp['price'].transform(lambda x: (const * (x - med) / modz))\n",
    "    end_time = time.time()\n",
    "    print('...', end='') if indent_output else None\n",
    "    print('Time: {}'.format(end_time - start_time))\n",
    "    \n",
    "    return temp[(temp['mod_zscore'] >= -3.5) & (temp['mod_zscore'] <= 3.5)]"
   ]
  },
  {
   "cell_type": "markdown",
   "id": "7ccb4c0a-0942-4dbe-a299-ca1d90c6144a",
   "metadata": {
    "jp-MarkdownHeadingCollapsed": true
   },
   "source": [
    "## ```value_counts_2df```"
   ]
  },
  {
   "cell_type": "code",
   "execution_count": 6,
   "id": "08fdba2c-752e-495b-99a3-106ddc9cb22d",
   "metadata": {},
   "outputs": [],
   "source": [
    "def value_counts_2df(df1, df2, df1_label, df2_label, column, dropna=True):\n",
    "    \"\"\"\n",
    "    Returns the value_counts of two DataFrames that have a common column\n",
    "\n",
    "    :param df1: First DF\n",
    "    :param df2: Second DF\n",
    "    :param df1_label: Label for the counts of DF1\n",
    "    :param df2_label: Label for the counts of DF2\n",
    "    :param column: Column to count the values\n",
    "    :param dropna: Default is true, over-ride to get NaN counts also\n",
    "    \"\"\"\n",
    "        \n",
    "    # Count the occurrences of each key in both DataFrames separately\n",
    "    count_df1 = df1[column].value_counts(dropna=dropna).reset_index()\n",
    "    count_df1.columns = [column, df1_label]\n",
    "    \n",
    "    count_df2 = df2[column].value_counts(dropna=dropna).reset_index()\n",
    "    count_df2.columns = [column, df2_label]\n",
    "    \n",
    "    # Merge the counts into a single DataFrame\n",
    "    result = pd.merge(count_df1, count_df2, on=column, how='outer').fillna(0)\n",
    "    \n",
    "    # Convert counts to integers\n",
    "    result[df1_label] = result[df1_label].astype(int)\n",
    "    result[df2_label] = result[df2_label].astype(int)\n",
    "\n",
    "    return result"
   ]
  },
  {
   "cell_type": "markdown",
   "id": "38bfefb2-d6fa-4187-9fa0-d48226c506c3",
   "metadata": {},
   "source": [
    "## ```get_cleansed_data```"
   ]
  },
  {
   "cell_type": "code",
   "execution_count": 8,
   "id": "723b234c-1177-45c7-be93-f3758e31dd76",
   "metadata": {},
   "outputs": [],
   "source": [
    "def get_cleansed_data():\n",
    "\n",
    "    raw = pd.DataFrame()\n",
    "\n",
    "    # Read input file\n",
    "    file = 'data/vehicles.csv'\n",
    "    print('Reading {} ... '.format(file), end='')\n",
    "    raw = pd.read_csv(file)\n",
    "    print('Done: {}'.format(raw.shape))\n",
    "\n",
    "    # make a copy of raw data and start to cleanse it\n",
    "    cleansed = raw.copy()\n",
    "\n",
    "    # Handle price: remove outliers, mod-zscore column will be dropped later\n",
    "    print('\\nRemoving price outliers using ModZ method ... ')\n",
    "    before = cleansed.shape\n",
    "    cleansed = remove_outliers_modz(raw, indent_output=True)\n",
    "    after = cleansed.shape\n",
    "    print('Done: {} -> {}'.format(before, after))\n",
    "\n",
    "    # Handle dropna() columns\n",
    "    dropna_cols = ['year', 'manufacturer', 'fuel', 'title_status']\n",
    "\n",
    "    before_t = cleansed.shape\n",
    "    print('\\nDropNA from columns: ')\n",
    "    null_cnt = 0\n",
    "    for col in dropna_cols:\n",
    "        before = cleansed.shape[0]\n",
    "        null_cnt += cleansed[col].isnull().sum()\n",
    "        print('... {}: {:,d} rows ({:,.2f}% of total): {:,d} -> {:,d}'\n",
    "              .format(col, null_cnt, (1 - (before - null_cnt) / before) * 100, before, before - null_cnt))\n",
    "\n",
    "    cleansed = cleansed.dropna(subset=dropna_cols)\n",
    "    print('Done: {} -> {}'.format(before_t, cleansed.shape))\n",
    "\n",
    "    # print('Dropping column: ID ... ', end='')\n",
    "    # before = cleansed.shape\n",
    "    # cleansed = cleansed.drop('id', axis=1)\n",
    "    # after = cleansed.shape\n",
    "    # print('Done: {} -> {}'.format(before, after))\n",
    "\n",
    "    # print('Dropping column: model ... ', end='')\n",
    "    # before = cleansed.shape\n",
    "    # cleansed = cleansed.drop('model', axis=1)\n",
    "    # after = cleansed.shape\n",
    "    # print('Done: {} -> {}'.format(before, after))\n",
    "\n",
    "    # handle columns to be dropped\n",
    "    drop_cols = ['mod_zscore', 'id', 'model']\n",
    "    before = cleansed.shape\n",
    "    print('\\nDropping columns: ' + str(drop_cols))\n",
    "    for col in drop_cols:\n",
    "        print('... {}'.format(col))\n",
    "    cleansed = cleansed.drop(columns=drop_cols)\n",
    "    after = cleansed.shape\n",
    "    print('Done: {} -> {}'.format(before, after))\n",
    "    \n",
    "    print('\\nReturned Raw({:,d}x{}) and Cleansed({:,d}x{}) data'.format(raw.shape[0], raw.shape[1], \n",
    "                                                                        cleansed.shape[0], cleansed.shape[1]))\n",
    "    print('Dataset reduced by {:,d} rows (preserved {:,.2f} of total)'.format(raw.shape[0] - cleansed.shape[0],\n",
    "                                                                              (cleansed.shape[0] / raw.shape[0]) * 100))\n",
    "    \n",
    "    return raw, cleansed"
   ]
  },
  {
   "cell_type": "code",
   "execution_count": 9,
   "id": "67c24eff-c8b3-40fb-9e94-d52a2c8a65ad",
   "metadata": {},
   "outputs": [],
   "source": [
    "# r, c = get_cleansed_data()"
   ]
  },
  {
   "cell_type": "markdown",
   "id": "13713c24-cae3-4b7c-9635-3bd9090667cb",
   "metadata": {},
   "source": [
    "# Data Inspection"
   ]
  },
  {
   "cell_type": "code",
   "execution_count": 169,
   "id": "1ddb1e90-81ef-4676-a460-18636ca9c2e8",
   "metadata": {},
   "outputs": [
    {
     "name": "stdout",
     "output_type": "stream",
     "text": [
      "Reading data/vehicles.csv ... Done: (426880, 18)\n",
      "\n",
      "Removing price outliers using ModZ method ... \n",
      "...ModZ: 9450.0, med: 13950.0, const: 0.6745\n",
      "...Time: 0.35662174224853516\n",
      "Done: (426880, 18) -> (421090, 19)\n",
      "\n",
      "DropNA from columns: \n",
      "... year: 1,061 rows (0.25% of total): 421,090 -> 420,029\n",
      "... manufacturer: 18,102 rows (4.30% of total): 421,090 -> 402,988\n",
      "... fuel: 21,085 rows (5.01% of total): 421,090 -> 400,005\n",
      "... title_status: 29,150 rows (6.92% of total): 421,090 -> 391,940\n",
      "Done: (421090, 19) -> (394902, 19)\n",
      "\n",
      "Dropping columns: ['mod_zscore', 'id', 'model']\n",
      "... mod_zscore\n",
      "... id\n",
      "... model\n",
      "Done: (394902, 19) -> (394902, 16)\n",
      "\n",
      "Returned Raw(426,880x19) and Cleansed(394,902x16) data\n",
      "Dataset reduced by 31,978 rows (preserved 92.51 of total)\n"
     ]
    }
   ],
   "source": [
    "# Read the data - we use the get_cleansed_data() function, which returns the finalized data,\n",
    "# but will continue to use the vehicles_raw during the data investigation - this way, we do the\n",
    "# reading and cleansing of the data in the same place\n",
    "\n",
    "vehicles_raw, vehicles_cleansed = get_cleansed_data()"
   ]
  },
  {
   "cell_type": "code",
   "execution_count": 12,
   "id": "007ef362-ecc2-441f-b2e0-ba6785d5aeaa",
   "metadata": {},
   "outputs": [
    {
     "data": {
      "text/html": [
       "<div>\n",
       "<style scoped>\n",
       "    .dataframe tbody tr th:only-of-type {\n",
       "        vertical-align: middle;\n",
       "    }\n",
       "\n",
       "    .dataframe tbody tr th {\n",
       "        vertical-align: top;\n",
       "    }\n",
       "\n",
       "    .dataframe thead th {\n",
       "        text-align: right;\n",
       "    }\n",
       "</style>\n",
       "<table border=\"1\" class=\"dataframe\">\n",
       "  <thead>\n",
       "    <tr style=\"text-align: right;\">\n",
       "      <th></th>\n",
       "      <th>id</th>\n",
       "      <th>region</th>\n",
       "      <th>price</th>\n",
       "      <th>year</th>\n",
       "      <th>manufacturer</th>\n",
       "      <th>model</th>\n",
       "      <th>condition</th>\n",
       "      <th>cylinders</th>\n",
       "      <th>fuel</th>\n",
       "      <th>odometer</th>\n",
       "      <th>title_status</th>\n",
       "      <th>transmission</th>\n",
       "      <th>VIN</th>\n",
       "      <th>drive</th>\n",
       "      <th>size</th>\n",
       "      <th>type</th>\n",
       "      <th>paint_color</th>\n",
       "      <th>state</th>\n",
       "      <th>mod_zscore</th>\n",
       "    </tr>\n",
       "  </thead>\n",
       "  <tbody>\n",
       "    <tr>\n",
       "      <th>0</th>\n",
       "      <td>7222695916</td>\n",
       "      <td>prescott</td>\n",
       "      <td>6000</td>\n",
       "      <td>NaN</td>\n",
       "      <td>NaN</td>\n",
       "      <td>NaN</td>\n",
       "      <td>NaN</td>\n",
       "      <td>NaN</td>\n",
       "      <td>NaN</td>\n",
       "      <td>NaN</td>\n",
       "      <td>NaN</td>\n",
       "      <td>NaN</td>\n",
       "      <td>NaN</td>\n",
       "      <td>NaN</td>\n",
       "      <td>NaN</td>\n",
       "      <td>NaN</td>\n",
       "      <td>NaN</td>\n",
       "      <td>az</td>\n",
       "      <td>-0.567437</td>\n",
       "    </tr>\n",
       "    <tr>\n",
       "      <th>1</th>\n",
       "      <td>7218891961</td>\n",
       "      <td>fayetteville</td>\n",
       "      <td>11900</td>\n",
       "      <td>NaN</td>\n",
       "      <td>NaN</td>\n",
       "      <td>NaN</td>\n",
       "      <td>NaN</td>\n",
       "      <td>NaN</td>\n",
       "      <td>NaN</td>\n",
       "      <td>NaN</td>\n",
       "      <td>NaN</td>\n",
       "      <td>NaN</td>\n",
       "      <td>NaN</td>\n",
       "      <td>NaN</td>\n",
       "      <td>NaN</td>\n",
       "      <td>NaN</td>\n",
       "      <td>NaN</td>\n",
       "      <td>ar</td>\n",
       "      <td>-0.146320</td>\n",
       "    </tr>\n",
       "  </tbody>\n",
       "</table>\n",
       "</div>"
      ],
      "text/plain": [
       "           id        region  price  year manufacturer model condition  \\\n",
       "0  7222695916      prescott   6000   NaN          NaN   NaN       NaN   \n",
       "1  7218891961  fayetteville  11900   NaN          NaN   NaN       NaN   \n",
       "\n",
       "  cylinders fuel  odometer title_status transmission  VIN drive size type  \\\n",
       "0       NaN  NaN       NaN          NaN          NaN  NaN   NaN  NaN  NaN   \n",
       "1       NaN  NaN       NaN          NaN          NaN  NaN   NaN  NaN  NaN   \n",
       "\n",
       "  paint_color state  mod_zscore  \n",
       "0         NaN    az   -0.567437  \n",
       "1         NaN    ar   -0.146320  "
      ]
     },
     "execution_count": 12,
     "metadata": {},
     "output_type": "execute_result"
    }
   ],
   "source": [
    "vehicles_raw.head(2)"
   ]
  },
  {
   "cell_type": "code",
   "execution_count": 13,
   "id": "a665ac84-0448-4e9f-b483-522af1d38dd5",
   "metadata": {},
   "outputs": [
    {
     "name": "stdout",
     "output_type": "stream",
     "text": [
      "<class 'pandas.core.frame.DataFrame'>\n",
      "RangeIndex: 426880 entries, 0 to 426879\n",
      "Data columns (total 19 columns):\n",
      " #   Column        Non-Null Count   Dtype  \n",
      "---  ------        --------------   -----  \n",
      " 0   id            426880 non-null  int64  \n",
      " 1   region        426880 non-null  object \n",
      " 2   price         426880 non-null  int64  \n",
      " 3   year          425675 non-null  float64\n",
      " 4   manufacturer  409234 non-null  object \n",
      " 5   model         421603 non-null  object \n",
      " 6   condition     252776 non-null  object \n",
      " 7   cylinders     249202 non-null  object \n",
      " 8   fuel          423867 non-null  object \n",
      " 9   odometer      422480 non-null  float64\n",
      " 10  title_status  418638 non-null  object \n",
      " 11  transmission  424324 non-null  object \n",
      " 12  VIN           265838 non-null  object \n",
      " 13  drive         296313 non-null  object \n",
      " 14  size          120519 non-null  object \n",
      " 15  type          334022 non-null  object \n",
      " 16  paint_color   296677 non-null  object \n",
      " 17  state         426880 non-null  object \n",
      " 18  mod_zscore    426880 non-null  float64\n",
      "dtypes: float64(3), int64(2), object(14)\n",
      "memory usage: 61.9+ MB\n"
     ]
    }
   ],
   "source": [
    "vehicles_raw.info()"
   ]
  },
  {
   "cell_type": "markdown",
   "id": "2e3999e0-7a3a-408f-9876-5506d3c18c4b",
   "metadata": {},
   "source": [
    "## Inspect: Nulls"
   ]
  },
  {
   "cell_type": "code",
   "execution_count": 15,
   "id": "b0d24968-d27b-44f8-bf04-bbe92770d1dd",
   "metadata": {},
   "outputs": [
    {
     "name": "stdout",
     "output_type": "stream",
     "text": [
      "Percent non-null values in each column\n"
     ]
    },
    {
     "data": {
      "text/plain": [
       "id              100.00\n",
       "region          100.00\n",
       "price           100.00\n",
       "year             99.72\n",
       "manufacturer     95.87\n",
       "model            98.76\n",
       "condition        59.21\n",
       "cylinders        58.38\n",
       "fuel             99.29\n",
       "odometer         98.97\n",
       "title_status     98.07\n",
       "transmission     99.40\n",
       "VIN              62.27\n",
       "drive            69.41\n",
       "size             28.23\n",
       "type             78.25\n",
       "paint_color      69.50\n",
       "state           100.00\n",
       "mod_zscore      100.00\n",
       "dtype: float64"
      ]
     },
     "execution_count": 15,
     "metadata": {},
     "output_type": "execute_result"
    }
   ],
   "source": [
    "print('Percent non-null values in each column')\n",
    "vehicles_raw.isnull().sum().transform(lambda x: (1 - (x / vehicles_raw.shape[0])) * 100).round(2)"
   ]
  },
  {
   "cell_type": "code",
   "execution_count": 16,
   "id": "75694d6d-63b3-4aac-9984-c7ef1fbd8fb9",
   "metadata": {},
   "outputs": [
    {
     "data": {
      "text/html": [
       "<div>\n",
       "<style scoped>\n",
       "    .dataframe tbody tr th:only-of-type {\n",
       "        vertical-align: middle;\n",
       "    }\n",
       "\n",
       "    .dataframe tbody tr th {\n",
       "        vertical-align: top;\n",
       "    }\n",
       "\n",
       "    .dataframe thead th {\n",
       "        text-align: right;\n",
       "    }\n",
       "</style>\n",
       "<table border=\"1\" class=\"dataframe\">\n",
       "  <thead>\n",
       "    <tr style=\"text-align: right;\">\n",
       "      <th></th>\n",
       "      <th>count</th>\n",
       "      <th>unique</th>\n",
       "      <th>top</th>\n",
       "      <th>freq</th>\n",
       "      <th>mean</th>\n",
       "      <th>std</th>\n",
       "      <th>min</th>\n",
       "      <th>25%</th>\n",
       "      <th>50%</th>\n",
       "      <th>75%</th>\n",
       "      <th>max</th>\n",
       "    </tr>\n",
       "  </thead>\n",
       "  <tbody>\n",
       "    <tr>\n",
       "      <th>id</th>\n",
       "      <td>426880.0</td>\n",
       "      <td>NaN</td>\n",
       "      <td>NaN</td>\n",
       "      <td>NaN</td>\n",
       "      <td>7311486634.224333</td>\n",
       "      <td>4473170.412559</td>\n",
       "      <td>7207408119.0</td>\n",
       "      <td>7308143339.25</td>\n",
       "      <td>7312620821.0</td>\n",
       "      <td>7315253543.5</td>\n",
       "      <td>7317101084.0</td>\n",
       "    </tr>\n",
       "    <tr>\n",
       "      <th>region</th>\n",
       "      <td>426880</td>\n",
       "      <td>404</td>\n",
       "      <td>columbus</td>\n",
       "      <td>3608</td>\n",
       "      <td>NaN</td>\n",
       "      <td>NaN</td>\n",
       "      <td>NaN</td>\n",
       "      <td>NaN</td>\n",
       "      <td>NaN</td>\n",
       "      <td>NaN</td>\n",
       "      <td>NaN</td>\n",
       "    </tr>\n",
       "    <tr>\n",
       "      <th>price</th>\n",
       "      <td>426880.0</td>\n",
       "      <td>NaN</td>\n",
       "      <td>NaN</td>\n",
       "      <td>NaN</td>\n",
       "      <td>75199.033187</td>\n",
       "      <td>12182282.173604</td>\n",
       "      <td>0.0</td>\n",
       "      <td>5900.0</td>\n",
       "      <td>13950.0</td>\n",
       "      <td>26485.75</td>\n",
       "      <td>3736928711.0</td>\n",
       "    </tr>\n",
       "    <tr>\n",
       "      <th>year</th>\n",
       "      <td>425675.0</td>\n",
       "      <td>NaN</td>\n",
       "      <td>NaN</td>\n",
       "      <td>NaN</td>\n",
       "      <td>2011.235191</td>\n",
       "      <td>9.45212</td>\n",
       "      <td>1900.0</td>\n",
       "      <td>2008.0</td>\n",
       "      <td>2013.0</td>\n",
       "      <td>2017.0</td>\n",
       "      <td>2022.0</td>\n",
       "    </tr>\n",
       "    <tr>\n",
       "      <th>manufacturer</th>\n",
       "      <td>409234</td>\n",
       "      <td>42</td>\n",
       "      <td>ford</td>\n",
       "      <td>70985</td>\n",
       "      <td>NaN</td>\n",
       "      <td>NaN</td>\n",
       "      <td>NaN</td>\n",
       "      <td>NaN</td>\n",
       "      <td>NaN</td>\n",
       "      <td>NaN</td>\n",
       "      <td>NaN</td>\n",
       "    </tr>\n",
       "    <tr>\n",
       "      <th>model</th>\n",
       "      <td>421603</td>\n",
       "      <td>29649</td>\n",
       "      <td>f-150</td>\n",
       "      <td>8009</td>\n",
       "      <td>NaN</td>\n",
       "      <td>NaN</td>\n",
       "      <td>NaN</td>\n",
       "      <td>NaN</td>\n",
       "      <td>NaN</td>\n",
       "      <td>NaN</td>\n",
       "      <td>NaN</td>\n",
       "    </tr>\n",
       "    <tr>\n",
       "      <th>condition</th>\n",
       "      <td>252776</td>\n",
       "      <td>6</td>\n",
       "      <td>good</td>\n",
       "      <td>121456</td>\n",
       "      <td>NaN</td>\n",
       "      <td>NaN</td>\n",
       "      <td>NaN</td>\n",
       "      <td>NaN</td>\n",
       "      <td>NaN</td>\n",
       "      <td>NaN</td>\n",
       "      <td>NaN</td>\n",
       "    </tr>\n",
       "    <tr>\n",
       "      <th>cylinders</th>\n",
       "      <td>249202</td>\n",
       "      <td>8</td>\n",
       "      <td>6 cylinders</td>\n",
       "      <td>94169</td>\n",
       "      <td>NaN</td>\n",
       "      <td>NaN</td>\n",
       "      <td>NaN</td>\n",
       "      <td>NaN</td>\n",
       "      <td>NaN</td>\n",
       "      <td>NaN</td>\n",
       "      <td>NaN</td>\n",
       "    </tr>\n",
       "    <tr>\n",
       "      <th>fuel</th>\n",
       "      <td>423867</td>\n",
       "      <td>5</td>\n",
       "      <td>gas</td>\n",
       "      <td>356209</td>\n",
       "      <td>NaN</td>\n",
       "      <td>NaN</td>\n",
       "      <td>NaN</td>\n",
       "      <td>NaN</td>\n",
       "      <td>NaN</td>\n",
       "      <td>NaN</td>\n",
       "      <td>NaN</td>\n",
       "    </tr>\n",
       "    <tr>\n",
       "      <th>odometer</th>\n",
       "      <td>422480.0</td>\n",
       "      <td>NaN</td>\n",
       "      <td>NaN</td>\n",
       "      <td>NaN</td>\n",
       "      <td>98043.331443</td>\n",
       "      <td>213881.500798</td>\n",
       "      <td>0.0</td>\n",
       "      <td>37704.0</td>\n",
       "      <td>85548.0</td>\n",
       "      <td>133542.5</td>\n",
       "      <td>10000000.0</td>\n",
       "    </tr>\n",
       "    <tr>\n",
       "      <th>title_status</th>\n",
       "      <td>418638</td>\n",
       "      <td>6</td>\n",
       "      <td>clean</td>\n",
       "      <td>405117</td>\n",
       "      <td>NaN</td>\n",
       "      <td>NaN</td>\n",
       "      <td>NaN</td>\n",
       "      <td>NaN</td>\n",
       "      <td>NaN</td>\n",
       "      <td>NaN</td>\n",
       "      <td>NaN</td>\n",
       "    </tr>\n",
       "    <tr>\n",
       "      <th>transmission</th>\n",
       "      <td>424324</td>\n",
       "      <td>3</td>\n",
       "      <td>automatic</td>\n",
       "      <td>336524</td>\n",
       "      <td>NaN</td>\n",
       "      <td>NaN</td>\n",
       "      <td>NaN</td>\n",
       "      <td>NaN</td>\n",
       "      <td>NaN</td>\n",
       "      <td>NaN</td>\n",
       "      <td>NaN</td>\n",
       "    </tr>\n",
       "    <tr>\n",
       "      <th>VIN</th>\n",
       "      <td>265838</td>\n",
       "      <td>118246</td>\n",
       "      <td>1FMJU1JT1HEA52352</td>\n",
       "      <td>261</td>\n",
       "      <td>NaN</td>\n",
       "      <td>NaN</td>\n",
       "      <td>NaN</td>\n",
       "      <td>NaN</td>\n",
       "      <td>NaN</td>\n",
       "      <td>NaN</td>\n",
       "      <td>NaN</td>\n",
       "    </tr>\n",
       "    <tr>\n",
       "      <th>drive</th>\n",
       "      <td>296313</td>\n",
       "      <td>3</td>\n",
       "      <td>4wd</td>\n",
       "      <td>131904</td>\n",
       "      <td>NaN</td>\n",
       "      <td>NaN</td>\n",
       "      <td>NaN</td>\n",
       "      <td>NaN</td>\n",
       "      <td>NaN</td>\n",
       "      <td>NaN</td>\n",
       "      <td>NaN</td>\n",
       "    </tr>\n",
       "    <tr>\n",
       "      <th>size</th>\n",
       "      <td>120519</td>\n",
       "      <td>4</td>\n",
       "      <td>full-size</td>\n",
       "      <td>63465</td>\n",
       "      <td>NaN</td>\n",
       "      <td>NaN</td>\n",
       "      <td>NaN</td>\n",
       "      <td>NaN</td>\n",
       "      <td>NaN</td>\n",
       "      <td>NaN</td>\n",
       "      <td>NaN</td>\n",
       "    </tr>\n",
       "    <tr>\n",
       "      <th>type</th>\n",
       "      <td>334022</td>\n",
       "      <td>13</td>\n",
       "      <td>sedan</td>\n",
       "      <td>87056</td>\n",
       "      <td>NaN</td>\n",
       "      <td>NaN</td>\n",
       "      <td>NaN</td>\n",
       "      <td>NaN</td>\n",
       "      <td>NaN</td>\n",
       "      <td>NaN</td>\n",
       "      <td>NaN</td>\n",
       "    </tr>\n",
       "    <tr>\n",
       "      <th>paint_color</th>\n",
       "      <td>296677</td>\n",
       "      <td>12</td>\n",
       "      <td>white</td>\n",
       "      <td>79285</td>\n",
       "      <td>NaN</td>\n",
       "      <td>NaN</td>\n",
       "      <td>NaN</td>\n",
       "      <td>NaN</td>\n",
       "      <td>NaN</td>\n",
       "      <td>NaN</td>\n",
       "      <td>NaN</td>\n",
       "    </tr>\n",
       "    <tr>\n",
       "      <th>state</th>\n",
       "      <td>426880</td>\n",
       "      <td>51</td>\n",
       "      <td>ca</td>\n",
       "      <td>50614</td>\n",
       "      <td>NaN</td>\n",
       "      <td>NaN</td>\n",
       "      <td>NaN</td>\n",
       "      <td>NaN</td>\n",
       "      <td>NaN</td>\n",
       "      <td>NaN</td>\n",
       "      <td>NaN</td>\n",
       "    </tr>\n",
       "    <tr>\n",
       "      <th>mod_zscore</th>\n",
       "      <td>426880.0</td>\n",
       "      <td>NaN</td>\n",
       "      <td>NaN</td>\n",
       "      <td>NaN</td>\n",
       "      <td>4.37169</td>\n",
       "      <td>869.518447</td>\n",
       "      <td>-0.99569</td>\n",
       "      <td>-0.574574</td>\n",
       "      <td>0.0</td>\n",
       "      <td>0.894747</td>\n",
       "      <td>266724.762571</td>\n",
       "    </tr>\n",
       "  </tbody>\n",
       "</table>\n",
       "</div>"
      ],
      "text/plain": [
       "                 count  unique                top    freq               mean  \\\n",
       "id            426880.0     NaN                NaN     NaN  7311486634.224333   \n",
       "region          426880     404           columbus    3608                NaN   \n",
       "price         426880.0     NaN                NaN     NaN       75199.033187   \n",
       "year          425675.0     NaN                NaN     NaN        2011.235191   \n",
       "manufacturer    409234      42               ford   70985                NaN   \n",
       "model           421603   29649              f-150    8009                NaN   \n",
       "condition       252776       6               good  121456                NaN   \n",
       "cylinders       249202       8        6 cylinders   94169                NaN   \n",
       "fuel            423867       5                gas  356209                NaN   \n",
       "odometer      422480.0     NaN                NaN     NaN       98043.331443   \n",
       "title_status    418638       6              clean  405117                NaN   \n",
       "transmission    424324       3          automatic  336524                NaN   \n",
       "VIN             265838  118246  1FMJU1JT1HEA52352     261                NaN   \n",
       "drive           296313       3                4wd  131904                NaN   \n",
       "size            120519       4          full-size   63465                NaN   \n",
       "type            334022      13              sedan   87056                NaN   \n",
       "paint_color     296677      12              white   79285                NaN   \n",
       "state           426880      51                 ca   50614                NaN   \n",
       "mod_zscore    426880.0     NaN                NaN     NaN            4.37169   \n",
       "\n",
       "                          std           min            25%           50%  \\\n",
       "id             4473170.412559  7207408119.0  7308143339.25  7312620821.0   \n",
       "region                    NaN           NaN            NaN           NaN   \n",
       "price         12182282.173604           0.0         5900.0       13950.0   \n",
       "year                  9.45212        1900.0         2008.0        2013.0   \n",
       "manufacturer              NaN           NaN            NaN           NaN   \n",
       "model                     NaN           NaN            NaN           NaN   \n",
       "condition                 NaN           NaN            NaN           NaN   \n",
       "cylinders                 NaN           NaN            NaN           NaN   \n",
       "fuel                      NaN           NaN            NaN           NaN   \n",
       "odometer        213881.500798           0.0        37704.0       85548.0   \n",
       "title_status              NaN           NaN            NaN           NaN   \n",
       "transmission              NaN           NaN            NaN           NaN   \n",
       "VIN                       NaN           NaN            NaN           NaN   \n",
       "drive                     NaN           NaN            NaN           NaN   \n",
       "size                      NaN           NaN            NaN           NaN   \n",
       "type                      NaN           NaN            NaN           NaN   \n",
       "paint_color               NaN           NaN            NaN           NaN   \n",
       "state                     NaN           NaN            NaN           NaN   \n",
       "mod_zscore         869.518447      -0.99569      -0.574574           0.0   \n",
       "\n",
       "                       75%            max  \n",
       "id            7315253543.5   7317101084.0  \n",
       "region                 NaN            NaN  \n",
       "price             26485.75   3736928711.0  \n",
       "year                2017.0         2022.0  \n",
       "manufacturer           NaN            NaN  \n",
       "model                  NaN            NaN  \n",
       "condition              NaN            NaN  \n",
       "cylinders              NaN            NaN  \n",
       "fuel                   NaN            NaN  \n",
       "odometer          133542.5     10000000.0  \n",
       "title_status           NaN            NaN  \n",
       "transmission           NaN            NaN  \n",
       "VIN                    NaN            NaN  \n",
       "drive                  NaN            NaN  \n",
       "size                   NaN            NaN  \n",
       "type                   NaN            NaN  \n",
       "paint_color            NaN            NaN  \n",
       "state                  NaN            NaN  \n",
       "mod_zscore        0.894747  266724.762571  "
      ]
     },
     "execution_count": 16,
     "metadata": {},
     "output_type": "execute_result"
    }
   ],
   "source": [
    "vehicles_raw.describe(include='all').T"
   ]
  },
  {
   "cell_type": "code",
   "execution_count": 17,
   "id": "8421727a-9943-4887-a3b3-804625d74bef",
   "metadata": {},
   "outputs": [
    {
     "data": {
      "text/html": [
       "<style type=\"text/css\">\n",
       "</style>\n",
       "<table id=\"T_a6aac\">\n",
       "  <thead>\n",
       "    <tr>\n",
       "      <th class=\"blank level0\" >&nbsp;</th>\n",
       "      <th id=\"T_a6aac_level0_col0\" class=\"col_heading level0 col0\" >id</th>\n",
       "      <th id=\"T_a6aac_level0_col1\" class=\"col_heading level0 col1\" >price</th>\n",
       "      <th id=\"T_a6aac_level0_col2\" class=\"col_heading level0 col2\" >year</th>\n",
       "      <th id=\"T_a6aac_level0_col3\" class=\"col_heading level0 col3\" >odometer</th>\n",
       "      <th id=\"T_a6aac_level0_col4\" class=\"col_heading level0 col4\" >mod_zscore</th>\n",
       "    </tr>\n",
       "  </thead>\n",
       "  <tbody>\n",
       "    <tr>\n",
       "      <th id=\"T_a6aac_level0_row0\" class=\"row_heading level0 row0\" >count</th>\n",
       "      <td id=\"T_a6aac_row0_col0\" class=\"data row0 col0\" >426,880.00</td>\n",
       "      <td id=\"T_a6aac_row0_col1\" class=\"data row0 col1\" >426,880.00</td>\n",
       "      <td id=\"T_a6aac_row0_col2\" class=\"data row0 col2\" >425,675.00</td>\n",
       "      <td id=\"T_a6aac_row0_col3\" class=\"data row0 col3\" >422,480.00</td>\n",
       "      <td id=\"T_a6aac_row0_col4\" class=\"data row0 col4\" >426,880.00</td>\n",
       "    </tr>\n",
       "    <tr>\n",
       "      <th id=\"T_a6aac_level0_row1\" class=\"row_heading level0 row1\" >mean</th>\n",
       "      <td id=\"T_a6aac_row1_col0\" class=\"data row1 col0\" >7,311,486,634.22</td>\n",
       "      <td id=\"T_a6aac_row1_col1\" class=\"data row1 col1\" >75,199.03</td>\n",
       "      <td id=\"T_a6aac_row1_col2\" class=\"data row1 col2\" >2,011.24</td>\n",
       "      <td id=\"T_a6aac_row1_col3\" class=\"data row1 col3\" >98,043.33</td>\n",
       "      <td id=\"T_a6aac_row1_col4\" class=\"data row1 col4\" >4.37</td>\n",
       "    </tr>\n",
       "    <tr>\n",
       "      <th id=\"T_a6aac_level0_row2\" class=\"row_heading level0 row2\" >std</th>\n",
       "      <td id=\"T_a6aac_row2_col0\" class=\"data row2 col0\" >4,473,170.41</td>\n",
       "      <td id=\"T_a6aac_row2_col1\" class=\"data row2 col1\" >12,182,282.17</td>\n",
       "      <td id=\"T_a6aac_row2_col2\" class=\"data row2 col2\" >9.45</td>\n",
       "      <td id=\"T_a6aac_row2_col3\" class=\"data row2 col3\" >213,881.50</td>\n",
       "      <td id=\"T_a6aac_row2_col4\" class=\"data row2 col4\" >869.52</td>\n",
       "    </tr>\n",
       "    <tr>\n",
       "      <th id=\"T_a6aac_level0_row3\" class=\"row_heading level0 row3\" >min</th>\n",
       "      <td id=\"T_a6aac_row3_col0\" class=\"data row3 col0\" >7,207,408,119.00</td>\n",
       "      <td id=\"T_a6aac_row3_col1\" class=\"data row3 col1\" >0.00</td>\n",
       "      <td id=\"T_a6aac_row3_col2\" class=\"data row3 col2\" >1,900.00</td>\n",
       "      <td id=\"T_a6aac_row3_col3\" class=\"data row3 col3\" >0.00</td>\n",
       "      <td id=\"T_a6aac_row3_col4\" class=\"data row3 col4\" >-1.00</td>\n",
       "    </tr>\n",
       "    <tr>\n",
       "      <th id=\"T_a6aac_level0_row4\" class=\"row_heading level0 row4\" >25%</th>\n",
       "      <td id=\"T_a6aac_row4_col0\" class=\"data row4 col0\" >7,308,143,339.25</td>\n",
       "      <td id=\"T_a6aac_row4_col1\" class=\"data row4 col1\" >5,900.00</td>\n",
       "      <td id=\"T_a6aac_row4_col2\" class=\"data row4 col2\" >2,008.00</td>\n",
       "      <td id=\"T_a6aac_row4_col3\" class=\"data row4 col3\" >37,704.00</td>\n",
       "      <td id=\"T_a6aac_row4_col4\" class=\"data row4 col4\" >-0.57</td>\n",
       "    </tr>\n",
       "    <tr>\n",
       "      <th id=\"T_a6aac_level0_row5\" class=\"row_heading level0 row5\" >50%</th>\n",
       "      <td id=\"T_a6aac_row5_col0\" class=\"data row5 col0\" >7,312,620,821.00</td>\n",
       "      <td id=\"T_a6aac_row5_col1\" class=\"data row5 col1\" >13,950.00</td>\n",
       "      <td id=\"T_a6aac_row5_col2\" class=\"data row5 col2\" >2,013.00</td>\n",
       "      <td id=\"T_a6aac_row5_col3\" class=\"data row5 col3\" >85,548.00</td>\n",
       "      <td id=\"T_a6aac_row5_col4\" class=\"data row5 col4\" >0.00</td>\n",
       "    </tr>\n",
       "    <tr>\n",
       "      <th id=\"T_a6aac_level0_row6\" class=\"row_heading level0 row6\" >75%</th>\n",
       "      <td id=\"T_a6aac_row6_col0\" class=\"data row6 col0\" >7,315,253,543.50</td>\n",
       "      <td id=\"T_a6aac_row6_col1\" class=\"data row6 col1\" >26,485.75</td>\n",
       "      <td id=\"T_a6aac_row6_col2\" class=\"data row6 col2\" >2,017.00</td>\n",
       "      <td id=\"T_a6aac_row6_col3\" class=\"data row6 col3\" >133,542.50</td>\n",
       "      <td id=\"T_a6aac_row6_col4\" class=\"data row6 col4\" >0.89</td>\n",
       "    </tr>\n",
       "    <tr>\n",
       "      <th id=\"T_a6aac_level0_row7\" class=\"row_heading level0 row7\" >max</th>\n",
       "      <td id=\"T_a6aac_row7_col0\" class=\"data row7 col0\" >7,317,101,084.00</td>\n",
       "      <td id=\"T_a6aac_row7_col1\" class=\"data row7 col1\" >3,736,928,711.00</td>\n",
       "      <td id=\"T_a6aac_row7_col2\" class=\"data row7 col2\" >2,022.00</td>\n",
       "      <td id=\"T_a6aac_row7_col3\" class=\"data row7 col3\" >10,000,000.00</td>\n",
       "      <td id=\"T_a6aac_row7_col4\" class=\"data row7 col4\" >266,724.76</td>\n",
       "    </tr>\n",
       "  </tbody>\n",
       "</table>\n"
      ],
      "text/plain": [
       "<pandas.io.formats.style.Styler at 0x13160d0d0>"
      ]
     },
     "execution_count": 17,
     "metadata": {},
     "output_type": "execute_result"
    }
   ],
   "source": [
    "vehicles_raw.describe().style.format('{:,.2f}')"
   ]
  },
  {
   "cell_type": "markdown",
   "id": "391f4205-2d45-4593-972c-26bea5b87ccc",
   "metadata": {},
   "source": [
    "## Inspect: price\n",
    "\n",
    "Since price will be our target parameter for models, let's check it first"
   ]
  },
  {
   "cell_type": "markdown",
   "id": "be4ba53d-ae9f-47b7-b5a5-e2cd4d0d8974",
   "metadata": {},
   "source": [
    "### Price = 0 case"
   ]
  },
  {
   "cell_type": "code",
   "execution_count": 20,
   "id": "cdb5f1c8-c6ac-47cb-85a2-2942940db33b",
   "metadata": {},
   "outputs": [
    {
     "data": {
      "text/plain": [
       "price\n",
       "0    32895\n",
       "Name: count, dtype: int64"
      ]
     },
     "execution_count": 20,
     "metadata": {},
     "output_type": "execute_result"
    }
   ],
   "source": [
    "veh_zero_price = vehicles_raw.query('price == 0')\n",
    "veh_zero_price.price.value_counts()"
   ]
  },
  {
   "cell_type": "code",
   "execution_count": 21,
   "id": "a184f58e-5f3c-4a82-b3ba-94c70ab2ad6a",
   "metadata": {},
   "outputs": [
    {
     "data": {
      "text/html": [
       "<style type=\"text/css\">\n",
       "</style>\n",
       "<table id=\"T_b90d1\">\n",
       "  <thead>\n",
       "    <tr>\n",
       "      <th class=\"blank level0\" >&nbsp;</th>\n",
       "      <th id=\"T_b90d1_level0_col0\" class=\"col_heading level0 col0\" >id</th>\n",
       "      <th id=\"T_b90d1_level0_col1\" class=\"col_heading level0 col1\" >price</th>\n",
       "      <th id=\"T_b90d1_level0_col2\" class=\"col_heading level0 col2\" >year</th>\n",
       "      <th id=\"T_b90d1_level0_col3\" class=\"col_heading level0 col3\" >odometer</th>\n",
       "      <th id=\"T_b90d1_level0_col4\" class=\"col_heading level0 col4\" >mod_zscore</th>\n",
       "    </tr>\n",
       "  </thead>\n",
       "  <tbody>\n",
       "    <tr>\n",
       "      <th id=\"T_b90d1_level0_row0\" class=\"row_heading level0 row0\" >count</th>\n",
       "      <td id=\"T_b90d1_row0_col0\" class=\"data row0 col0\" >32,895.00</td>\n",
       "      <td id=\"T_b90d1_row0_col1\" class=\"data row0 col1\" >32,895.00</td>\n",
       "      <td id=\"T_b90d1_row0_col2\" class=\"data row0 col2\" >32,863.00</td>\n",
       "      <td id=\"T_b90d1_row0_col3\" class=\"data row0 col3\" >30,785.00</td>\n",
       "      <td id=\"T_b90d1_row0_col4\" class=\"data row0 col4\" >32,895.00</td>\n",
       "    </tr>\n",
       "    <tr>\n",
       "      <th id=\"T_b90d1_level0_row1\" class=\"row_heading level0 row1\" >mean</th>\n",
       "      <td id=\"T_b90d1_row1_col0\" class=\"data row1 col0\" >7,311,551,883.13</td>\n",
       "      <td id=\"T_b90d1_row1_col1\" class=\"data row1 col1\" >0.00</td>\n",
       "      <td id=\"T_b90d1_row1_col2\" class=\"data row1 col2\" >2,013.97</td>\n",
       "      <td id=\"T_b90d1_row1_col3\" class=\"data row1 col3\" >89,312.68</td>\n",
       "      <td id=\"T_b90d1_row1_col4\" class=\"data row1 col4\" >-1.00</td>\n",
       "    </tr>\n",
       "    <tr>\n",
       "      <th id=\"T_b90d1_level0_row2\" class=\"row_heading level0 row2\" >std</th>\n",
       "      <td id=\"T_b90d1_row2_col0\" class=\"data row2 col0\" >4,484,307.42</td>\n",
       "      <td id=\"T_b90d1_row2_col1\" class=\"data row2 col1\" >0.00</td>\n",
       "      <td id=\"T_b90d1_row2_col2\" class=\"data row2 col2\" >6.36</td>\n",
       "      <td id=\"T_b90d1_row2_col3\" class=\"data row2 col3\" >297,007.17</td>\n",
       "      <td id=\"T_b90d1_row2_col4\" class=\"data row2 col4\" >0.00</td>\n",
       "    </tr>\n",
       "    <tr>\n",
       "      <th id=\"T_b90d1_level0_row3\" class=\"row_heading level0 row3\" >min</th>\n",
       "      <td id=\"T_b90d1_row3_col0\" class=\"data row3 col0\" >7,209,027,818.00</td>\n",
       "      <td id=\"T_b90d1_row3_col1\" class=\"data row3 col1\" >0.00</td>\n",
       "      <td id=\"T_b90d1_row3_col2\" class=\"data row3 col2\" >1,903.00</td>\n",
       "      <td id=\"T_b90d1_row3_col3\" class=\"data row3 col3\" >0.00</td>\n",
       "      <td id=\"T_b90d1_row3_col4\" class=\"data row3 col4\" >-1.00</td>\n",
       "    </tr>\n",
       "    <tr>\n",
       "      <th id=\"T_b90d1_level0_row4\" class=\"row_heading level0 row4\" >25%</th>\n",
       "      <td id=\"T_b90d1_row4_col0\" class=\"data row4 col0\" >7,308,226,344.00</td>\n",
       "      <td id=\"T_b90d1_row4_col1\" class=\"data row4 col1\" >0.00</td>\n",
       "      <td id=\"T_b90d1_row4_col2\" class=\"data row4 col2\" >2,012.00</td>\n",
       "      <td id=\"T_b90d1_row4_col3\" class=\"data row4 col3\" >34,908.00</td>\n",
       "      <td id=\"T_b90d1_row4_col4\" class=\"data row4 col4\" >-1.00</td>\n",
       "    </tr>\n",
       "    <tr>\n",
       "      <th id=\"T_b90d1_level0_row5\" class=\"row_heading level0 row5\" >50%</th>\n",
       "      <td id=\"T_b90d1_row5_col0\" class=\"data row5 col0\" >7,312,520,029.00</td>\n",
       "      <td id=\"T_b90d1_row5_col1\" class=\"data row5 col1\" >0.00</td>\n",
       "      <td id=\"T_b90d1_row5_col2\" class=\"data row5 col2\" >2,015.00</td>\n",
       "      <td id=\"T_b90d1_row5_col3\" class=\"data row5 col3\" >72,000.00</td>\n",
       "      <td id=\"T_b90d1_row5_col4\" class=\"data row5 col4\" >-1.00</td>\n",
       "    </tr>\n",
       "    <tr>\n",
       "      <th id=\"T_b90d1_level0_row6\" class=\"row_heading level0 row6\" >75%</th>\n",
       "      <td id=\"T_b90d1_row6_col0\" class=\"data row6 col0\" >7,315,315,941.00</td>\n",
       "      <td id=\"T_b90d1_row6_col1\" class=\"data row6 col1\" >0.00</td>\n",
       "      <td id=\"T_b90d1_row6_col2\" class=\"data row6 col2\" >2,017.00</td>\n",
       "      <td id=\"T_b90d1_row6_col3\" class=\"data row6 col3\" >110,000.00</td>\n",
       "      <td id=\"T_b90d1_row6_col4\" class=\"data row6 col4\" >-1.00</td>\n",
       "    </tr>\n",
       "    <tr>\n",
       "      <th id=\"T_b90d1_level0_row7\" class=\"row_heading level0 row7\" >max</th>\n",
       "      <td id=\"T_b90d1_row7_col0\" class=\"data row7 col0\" >7,317,080,869.00</td>\n",
       "      <td id=\"T_b90d1_row7_col1\" class=\"data row7 col1\" >0.00</td>\n",
       "      <td id=\"T_b90d1_row7_col2\" class=\"data row7 col2\" >2,022.00</td>\n",
       "      <td id=\"T_b90d1_row7_col3\" class=\"data row7 col3\" >10,000,000.00</td>\n",
       "      <td id=\"T_b90d1_row7_col4\" class=\"data row7 col4\" >-1.00</td>\n",
       "    </tr>\n",
       "  </tbody>\n",
       "</table>\n"
      ],
      "text/plain": [
       "<pandas.io.formats.style.Styler at 0x131221c50>"
      ]
     },
     "execution_count": 21,
     "metadata": {},
     "output_type": "execute_result"
    }
   ],
   "source": [
    "veh_zero_price.describe().style.format('{:,.2f}')"
   ]
  },
  {
   "cell_type": "code",
   "execution_count": 22,
   "id": "5bd083e5-98f2-4ac9-bae6-83b8325529d1",
   "metadata": {},
   "outputs": [
    {
     "data": {
      "text/plain": [
       "7.7059126686656665"
      ]
     },
     "execution_count": 22,
     "metadata": {},
     "output_type": "execute_result"
    }
   ],
   "source": [
    "veh_zero_price_pct = (veh_zero_price.shape[0] / vehicles_raw.shape[0]) * 100\n",
    "veh_zero_price_pct"
   ]
  },
  {
   "cell_type": "markdown",
   "id": "980ef3db-1fe6-4c5b-a96c-45095ea1f830",
   "metadata": {},
   "source": [
    "There are 32,895 cars with a zero price, 7.71% of the total - reasonable candidates for exclusion!"
   ]
  },
  {
   "cell_type": "markdown",
   "id": "bc07233f-5cac-45c8-a213-e5570b4115bd",
   "metadata": {},
   "source": [
    "### Price Distribution"
   ]
  },
  {
   "cell_type": "markdown",
   "id": "c319e9ff-0c52-4b86-9443-fa7c281ddbcb",
   "metadata": {},
   "source": [
    "Let's look at the price distribution of cars with non-zero prices"
   ]
  },
  {
   "cell_type": "code",
   "execution_count": 26,
   "id": "33750468-6778-4cce-93c5-c82ffbab1d92",
   "metadata": {},
   "outputs": [],
   "source": [
    "veh_priced = vehicles_raw.query('price > 0')"
   ]
  },
  {
   "cell_type": "code",
   "execution_count": 27,
   "id": "0658af60-5ce8-4eb9-b0c2-17c319c244bd",
   "metadata": {},
   "outputs": [
    {
     "data": {
      "text/plain": [
       "<Axes: >"
      ]
     },
     "execution_count": 27,
     "metadata": {},
     "output_type": "execute_result"
    },
    {
     "data": {
      "image/png": "[encoded data removed]",
      "text/plain": [
       "<Figure size 400x100 with 1 Axes>"
      ]
     },
     "metadata": {},
     "output_type": "display_data"
    }
   ],
   "source": [
    "veh_priced.price.plot.box(vert=False, figsize=(4,1))"
   ]
  },
  {
   "cell_type": "code",
   "execution_count": 28,
   "id": "80b08532-bb19-4c34-8b0b-4083dee298c0",
   "metadata": {},
   "outputs": [
    {
     "data": {
      "text/html": [
       "<style type=\"text/css\">\n",
       "</style>\n",
       "<table id=\"T_797dc\">\n",
       "  <thead>\n",
       "    <tr>\n",
       "      <th class=\"blank level0\" >&nbsp;</th>\n",
       "      <th id=\"T_797dc_level0_col0\" class=\"col_heading level0 col0\" >count</th>\n",
       "      <th id=\"T_797dc_level0_col1\" class=\"col_heading level0 col1\" >mean</th>\n",
       "      <th id=\"T_797dc_level0_col2\" class=\"col_heading level0 col2\" >std</th>\n",
       "      <th id=\"T_797dc_level0_col3\" class=\"col_heading level0 col3\" >min</th>\n",
       "      <th id=\"T_797dc_level0_col4\" class=\"col_heading level0 col4\" >25%</th>\n",
       "      <th id=\"T_797dc_level0_col5\" class=\"col_heading level0 col5\" >50%</th>\n",
       "      <th id=\"T_797dc_level0_col6\" class=\"col_heading level0 col6\" >75%</th>\n",
       "      <th id=\"T_797dc_level0_col7\" class=\"col_heading level0 col7\" >max</th>\n",
       "    </tr>\n",
       "  </thead>\n",
       "  <tbody>\n",
       "    <tr>\n",
       "      <th id=\"T_797dc_level0_row0\" class=\"row_heading level0 row0\" >id</th>\n",
       "      <td id=\"T_797dc_row0_col0\" class=\"data row0 col0\" >393,985.00</td>\n",
       "      <td id=\"T_797dc_row0_col1\" class=\"data row0 col1\" >7,311,481,186.40</td>\n",
       "      <td id=\"T_797dc_row0_col2\" class=\"data row0 col2\" >4,472,201.94</td>\n",
       "      <td id=\"T_797dc_row0_col3\" class=\"data row0 col3\" >7,207,408,119.00</td>\n",
       "      <td id=\"T_797dc_row0_col4\" class=\"data row0 col4\" >7,308,131,294.00</td>\n",
       "      <td id=\"T_797dc_row0_col5\" class=\"data row0 col5\" >7,312,625,769.00</td>\n",
       "      <td id=\"T_797dc_row0_col6\" class=\"data row0 col6\" >7,315,249,600.00</td>\n",
       "      <td id=\"T_797dc_row0_col7\" class=\"data row0 col7\" >7,317,101,084.00</td>\n",
       "    </tr>\n",
       "    <tr>\n",
       "      <th id=\"T_797dc_level0_row1\" class=\"row_heading level0 row1\" >price</th>\n",
       "      <td id=\"T_797dc_row1_col0\" class=\"data row1 col0\" >393,985.00</td>\n",
       "      <td id=\"T_797dc_row1_col1\" class=\"data row1 col1\" >81,477.63</td>\n",
       "      <td id=\"T_797dc_row1_col2\" class=\"data row1 col2\" >12,680,636.89</td>\n",
       "      <td id=\"T_797dc_row1_col3\" class=\"data row1 col3\" >1.00</td>\n",
       "      <td id=\"T_797dc_row1_col4\" class=\"data row1 col4\" >7,000.00</td>\n",
       "      <td id=\"T_797dc_row1_col5\" class=\"data row1 col5\" >15,000.00</td>\n",
       "      <td id=\"T_797dc_row1_col6\" class=\"data row1 col6\" >27,590.00</td>\n",
       "      <td id=\"T_797dc_row1_col7\" class=\"data row1 col7\" >3,736,928,711.00</td>\n",
       "    </tr>\n",
       "    <tr>\n",
       "      <th id=\"T_797dc_level0_row2\" class=\"row_heading level0 row2\" >year</th>\n",
       "      <td id=\"T_797dc_row2_col0\" class=\"data row2 col0\" >392,812.00</td>\n",
       "      <td id=\"T_797dc_row2_col1\" class=\"data row2 col1\" >2,011.01</td>\n",
       "      <td id=\"T_797dc_row2_col2\" class=\"data row2 col2\" >9.63</td>\n",
       "      <td id=\"T_797dc_row2_col3\" class=\"data row2 col3\" >1,900.00</td>\n",
       "      <td id=\"T_797dc_row2_col4\" class=\"data row2 col4\" >2,008.00</td>\n",
       "      <td id=\"T_797dc_row2_col5\" class=\"data row2 col5\" >2,013.00</td>\n",
       "      <td id=\"T_797dc_row2_col6\" class=\"data row2 col6\" >2,017.00</td>\n",
       "      <td id=\"T_797dc_row2_col7\" class=\"data row2 col7\" >2,022.00</td>\n",
       "    </tr>\n",
       "    <tr>\n",
       "      <th id=\"T_797dc_level0_row3\" class=\"row_heading level0 row3\" >odometer</th>\n",
       "      <td id=\"T_797dc_row3_col0\" class=\"data row3 col0\" >391,695.00</td>\n",
       "      <td id=\"T_797dc_row3_col1\" class=\"data row3 col1\" >98,729.51</td>\n",
       "      <td id=\"T_797dc_row3_col2\" class=\"data row3 col2\" >205,915.79</td>\n",
       "      <td id=\"T_797dc_row3_col3\" class=\"data row3 col3\" >0.00</td>\n",
       "      <td id=\"T_797dc_row3_col4\" class=\"data row3 col4\" >38,000.00</td>\n",
       "      <td id=\"T_797dc_row3_col5\" class=\"data row3 col5\" >87,000.00</td>\n",
       "      <td id=\"T_797dc_row3_col6\" class=\"data row3 col6\" >135,334.00</td>\n",
       "      <td id=\"T_797dc_row3_col7\" class=\"data row3 col7\" >10,000,000.00</td>\n",
       "    </tr>\n",
       "    <tr>\n",
       "      <th id=\"T_797dc_level0_row4\" class=\"row_heading level0 row4\" >mod_zscore</th>\n",
       "      <td id=\"T_797dc_row4_col0\" class=\"data row4 col0\" >393,985.00</td>\n",
       "      <td id=\"T_797dc_row4_col1\" class=\"data row4 col1\" >4.82</td>\n",
       "      <td id=\"T_797dc_row4_col2\" class=\"data row4 col2\" >905.09</td>\n",
       "      <td id=\"T_797dc_row4_col3\" class=\"data row4 col3\" >-1.00</td>\n",
       "      <td id=\"T_797dc_row4_col4\" class=\"data row4 col4\" >-0.50</td>\n",
       "      <td id=\"T_797dc_row4_col5\" class=\"data row4 col5\" >0.07</td>\n",
       "      <td id=\"T_797dc_row4_col6\" class=\"data row4 col6\" >0.97</td>\n",
       "      <td id=\"T_797dc_row4_col7\" class=\"data row4 col7\" >266,724.76</td>\n",
       "    </tr>\n",
       "  </tbody>\n",
       "</table>\n"
      ],
      "text/plain": [
       "<pandas.io.formats.style.Styler at 0x13124a790>"
      ]
     },
     "execution_count": 28,
     "metadata": {},
     "output_type": "execute_result"
    }
   ],
   "source": [
    "veh_priced.describe().T.style.format('{:,.2f}')"
   ]
  },
  {
   "cell_type": "markdown",
   "id": "9aa42686-109a-4e6b-88ce-04f68c9bb604",
   "metadata": {},
   "source": [
    "The price min/max is all over the place and the quartile distribution is strange - let's dig deeper into this when we look at outliers later\n",
    "\n",
    "Let's look at cars under 100K"
   ]
  },
  {
   "cell_type": "code",
   "execution_count": 30,
   "id": "6caf8776-3f8b-468a-8b0c-a20572d16cfa",
   "metadata": {},
   "outputs": [
    {
     "data": {
      "text/plain": [
       "<Axes: ylabel='Count'>"
      ]
     },
     "execution_count": 30,
     "metadata": {},
     "output_type": "execute_result"
    },
    {
     "data": {
      "image/png": "[encoded data removed]",
      "text/plain": [
       "<Figure size 640x480 with 1 Axes>"
      ]
     },
     "metadata": {},
     "output_type": "display_data"
    }
   ],
   "source": [
    "price_cap = 100000\n",
    "sns.histplot(vehicles_raw.query('price > 0 and price <= @price_cap')[['price']], bins=100, kde=True)"
   ]
  },
  {
   "cell_type": "markdown",
   "id": "ccc17b30-fb53-4c2d-8de6-e4b6a68b16b6",
   "metadata": {},
   "source": [
    "Massive skew - let's play with outliers now"
   ]
  },
  {
   "cell_type": "markdown",
   "id": "5bd452b6-3348-4ea1-a842-47712b81294a",
   "metadata": {},
   "source": [
    "### Price Outliers"
   ]
  },
  {
   "cell_type": "markdown",
   "id": "90699efb-d899-4b23-ad51-449c2a9ebd9a",
   "metadata": {},
   "source": [
    "#### Outliers Method 1: Simple quartile analysis"
   ]
  },
  {
   "cell_type": "code",
   "execution_count": 34,
   "id": "b0f16281-87fb-4e86-95ca-cf58942a2e0d",
   "metadata": {},
   "outputs": [],
   "source": [
    "# Calculate IQR\n",
    "Q1 = vehicles_raw['price'].quantile(0.25)\n",
    "Q3 = vehicles_raw['price'].quantile(0.75)\n",
    "IQR = Q3 - Q1\n",
    "\n",
    "# Define the lower and upper bounds\n",
    "lower_bound = Q1 - 1.5 * IQR\n",
    "upper_bound = Q3 + 1.5 * IQR\n",
    "\n",
    "# Filter out outliers\n",
    "vehicles_iqr = vehicles_raw[(vehicles_raw['price'] >= lower_bound) & (vehicles_raw['price'] <= upper_bound)]\n",
    "\n",
    "# Plot the distribution again\n",
    "# plt.figure(figsize=(10, 6))\n",
    "# sns.histplot(vehicles_iqr['price'], bins=30, kde=True)\n",
    "# plt.title('Price Distribution After IQR [#Orig: {:,}; Removed: {:,}]'.\n",
    "#           format(vehicles_raw.shape[0], vehicles_raw.shape[0] - vehicles_iqr.shape[0]))\n",
    "# plt.xlabel('Price')\n",
    "# plt.ylabel('Frequency')\n",
    "# plt.show()"
   ]
  },
  {
   "cell_type": "markdown",
   "id": "d412f794-5c0c-40a7-938f-86da6bb8b1ff",
   "metadata": {},
   "source": [
    "#### Outliers Method 2: Modified z-score\n",
    "\n",
    "Refer to the Utilities section for the remove_outliers_modz() function"
   ]
  },
  {
   "cell_type": "code",
   "execution_count": 36,
   "id": "eeea407e-9f80-4baf-92b6-e40eaf8941ab",
   "metadata": {},
   "outputs": [
    {
     "name": "stdout",
     "output_type": "stream",
     "text": [
      "ModZ: 9450.0, med: 13950.0, const: 0.6745\n",
      "Time: 0.16364312171936035\n"
     ]
    }
   ],
   "source": [
    "vehicles_modZ = remove_outliers_modz(vehicles_raw)\n",
    "# vehicles_modZ"
   ]
  },
  {
   "cell_type": "code",
   "execution_count": 37,
   "id": "b15d99ae-2cf0-4b12-b115-e945bab02151",
   "metadata": {},
   "outputs": [
    {
     "data": {
      "image/png": "[encoded data removed]",
      "text/plain": [
       "<Figure size 1000x600 with 1 Axes>"
      ]
     },
     "metadata": {},
     "output_type": "display_data"
    }
   ],
   "source": [
    "# Plot the distribution again\n",
    "plt.figure(figsize=(10, 6))\n",
    "sns.histplot(vehicles_modZ['price'], bins=100, kde=True, color='green', alpha=0.5, label='ModZ')\n",
    "sns.histplot(vehicles_iqr['price'], bins=100, kde=True, color='red', alpha=0.5, label='IRQ')\n",
    "\n",
    "plt.title('Price Distribution after outlier removal')\n",
    "plt.xlabel('Price')\n",
    "plt.ylabel('Frequency')\n",
    "plt.legend()\n",
    "plt.show()"
   ]
  },
  {
   "cell_type": "code",
   "execution_count": 38,
   "id": "1e1a79c5-297e-4ab5-91ee-6149aac03a18",
   "metadata": {},
   "outputs": [
    {
     "name": "stdout",
     "output_type": "stream",
     "text": [
      "vehicles_raw: shape: (426880, 19), min: 0.00, max: 3,736,928,711.00\n",
      "vehicles_iqr: shape: (418703, 19), min: 0.00, max: 57,341.00, Removed: 8,177\n",
      "vehicles_modZ: shape: (421090, 19), min: 0.00, max: 62,981.00, Removed: 5,790\n"
     ]
    }
   ],
   "source": [
    "print('vehicles_raw: shape: {}, min: {:,.2f}, max: {:,.2f}'.\n",
    "      format(vehicles_raw.shape, vehicles_raw.price.min(), vehicles_raw.price.max()))\n",
    "print('vehicles_iqr: shape: {}, min: {:,.2f}, max: {:,.2f}, Removed: {:,d}'.\n",
    "      format(vehicles_iqr.shape, vehicles_iqr.price.min(), vehicles_iqr.price.max(), vehicles_raw.shape[0] - vehicles_iqr.shape[0]))\n",
    "print('vehicles_modZ: shape: {}, min: {:,.2f}, max: {:,.2f}, Removed: {:,d}'.\n",
    "      format(vehicles_modZ.shape, vehicles_modZ.price.min(), vehicles_modZ.price.max(), vehicles_raw.shape[0] - vehicles_modZ.shape[0]))"
   ]
  },
  {
   "cell_type": "markdown",
   "id": "9666c0cd-60a8-46eb-a433-cadc09564cb2",
   "metadata": {},
   "source": [
    "Based on the above distribution ModZ did preserved more data samples, i.e. removed only 5,790 instead of 8,177 priced vehicles, so let's analyze this further."
   ]
  },
  {
   "cell_type": "code",
   "execution_count": 40,
   "id": "7059c152-f9cf-4603-b613-367844503929",
   "metadata": {},
   "outputs": [],
   "source": [
    "# Which set of vehicles are we looking at ...\n",
    "# vehicles_sel = vehicles_raw\n",
    "vehicles_sel = vehicles_modZ"
   ]
  },
  {
   "cell_type": "code",
   "execution_count": 41,
   "id": "da17b553-0ed0-4f68-91aa-991e6f7fd521",
   "metadata": {},
   "outputs": [
    {
     "data": {
      "text/html": [
       "<style type=\"text/css\">\n",
       "</style>\n",
       "<table id=\"T_6eb52\">\n",
       "  <thead>\n",
       "    <tr>\n",
       "      <th class=\"blank level0\" >&nbsp;</th>\n",
       "      <th id=\"T_6eb52_level0_col0\" class=\"col_heading level0 col0\" >count</th>\n",
       "      <th id=\"T_6eb52_level0_col1\" class=\"col_heading level0 col1\" >mean</th>\n",
       "      <th id=\"T_6eb52_level0_col2\" class=\"col_heading level0 col2\" >std</th>\n",
       "      <th id=\"T_6eb52_level0_col3\" class=\"col_heading level0 col3\" >min</th>\n",
       "      <th id=\"T_6eb52_level0_col4\" class=\"col_heading level0 col4\" >25%</th>\n",
       "      <th id=\"T_6eb52_level0_col5\" class=\"col_heading level0 col5\" >50%</th>\n",
       "      <th id=\"T_6eb52_level0_col6\" class=\"col_heading level0 col6\" >75%</th>\n",
       "      <th id=\"T_6eb52_level0_col7\" class=\"col_heading level0 col7\" >max</th>\n",
       "    </tr>\n",
       "  </thead>\n",
       "  <tbody>\n",
       "    <tr>\n",
       "      <th id=\"T_6eb52_level0_row0\" class=\"row_heading level0 row0\" >id</th>\n",
       "      <td id=\"T_6eb52_row0_col0\" class=\"data row0 col0\" >421,090.00</td>\n",
       "      <td id=\"T_6eb52_row0_col1\" class=\"data row0 col1\" >7,311,485,749.33</td>\n",
       "      <td id=\"T_6eb52_row0_col2\" class=\"data row0 col2\" >4,473,251.79</td>\n",
       "      <td id=\"T_6eb52_row0_col3\" class=\"data row0 col3\" >7,207,408,119.00</td>\n",
       "      <td id=\"T_6eb52_row0_col4\" class=\"data row0 col4\" >7,308,145,995.25</td>\n",
       "      <td id=\"T_6eb52_row0_col5\" class=\"data row0 col5\" >7,312,617,063.00</td>\n",
       "      <td id=\"T_6eb52_row0_col6\" class=\"data row0 col6\" >7,315,252,755.50</td>\n",
       "      <td id=\"T_6eb52_row0_col7\" class=\"data row0 col7\" >7,317,101,084.00</td>\n",
       "    </tr>\n",
       "    <tr>\n",
       "      <th id=\"T_6eb52_level0_row1\" class=\"row_heading level0 row1\" >price</th>\n",
       "      <td id=\"T_6eb52_row1_col0\" class=\"data row1 col0\" >421,090.00</td>\n",
       "      <td id=\"T_6eb52_row1_col1\" class=\"data row1 col1\" >16,588.75</td>\n",
       "      <td id=\"T_6eb52_row1_col2\" class=\"data row1 col2\" >13,510.01</td>\n",
       "      <td id=\"T_6eb52_row1_col3\" class=\"data row1 col3\" >0.00</td>\n",
       "      <td id=\"T_6eb52_row1_col4\" class=\"data row1 col4\" >5,800.00</td>\n",
       "      <td id=\"T_6eb52_row1_col5\" class=\"data row1 col5\" >13,500.00</td>\n",
       "      <td id=\"T_6eb52_row1_col6\" class=\"data row1 col6\" >25,988.00</td>\n",
       "      <td id=\"T_6eb52_row1_col7\" class=\"data row1 col7\" >62,981.00</td>\n",
       "    </tr>\n",
       "    <tr>\n",
       "      <th id=\"T_6eb52_level0_row2\" class=\"row_heading level0 row2\" >year</th>\n",
       "      <td id=\"T_6eb52_row2_col0\" class=\"data row2 col0\" >420,029.00</td>\n",
       "      <td id=\"T_6eb52_row2_col1\" class=\"data row2 col1\" >2,011.19</td>\n",
       "      <td id=\"T_6eb52_row2_col2\" class=\"data row2 col2\" >9.38</td>\n",
       "      <td id=\"T_6eb52_row2_col3\" class=\"data row2 col3\" >1,900.00</td>\n",
       "      <td id=\"T_6eb52_row2_col4\" class=\"data row2 col4\" >2,008.00</td>\n",
       "      <td id=\"T_6eb52_row2_col5\" class=\"data row2 col5\" >2,013.00</td>\n",
       "      <td id=\"T_6eb52_row2_col6\" class=\"data row2 col6\" >2,017.00</td>\n",
       "      <td id=\"T_6eb52_row2_col7\" class=\"data row2 col7\" >2,022.00</td>\n",
       "    </tr>\n",
       "    <tr>\n",
       "      <th id=\"T_6eb52_level0_row3\" class=\"row_heading level0 row3\" >odometer</th>\n",
       "      <td id=\"T_6eb52_row3_col0\" class=\"data row3 col0\" >416,750.00</td>\n",
       "      <td id=\"T_6eb52_row3_col1\" class=\"data row3 col1\" >98,859.49</td>\n",
       "      <td id=\"T_6eb52_row3_col2\" class=\"data row3 col2\" >214,470.24</td>\n",
       "      <td id=\"T_6eb52_row3_col3\" class=\"data row3 col3\" >0.00</td>\n",
       "      <td id=\"T_6eb52_row3_col4\" class=\"data row3 col4\" >38,922.00</td>\n",
       "      <td id=\"T_6eb52_row3_col5\" class=\"data row3 col5\" >86,830.00</td>\n",
       "      <td id=\"T_6eb52_row3_col6\" class=\"data row3 col6\" >134,231.00</td>\n",
       "      <td id=\"T_6eb52_row3_col7\" class=\"data row3 col7\" >10,000,000.00</td>\n",
       "    </tr>\n",
       "    <tr>\n",
       "      <th id=\"T_6eb52_level0_row4\" class=\"row_heading level0 row4\" >mod_zscore</th>\n",
       "      <td id=\"T_6eb52_row4_col0\" class=\"data row4 col0\" >421,090.00</td>\n",
       "      <td id=\"T_6eb52_row4_col1\" class=\"data row4 col1\" >0.19</td>\n",
       "      <td id=\"T_6eb52_row4_col2\" class=\"data row4 col2\" >0.96</td>\n",
       "      <td id=\"T_6eb52_row4_col3\" class=\"data row4 col3\" >-1.00</td>\n",
       "      <td id=\"T_6eb52_row4_col4\" class=\"data row4 col4\" >-0.58</td>\n",
       "      <td id=\"T_6eb52_row4_col5\" class=\"data row4 col5\" >-0.03</td>\n",
       "      <td id=\"T_6eb52_row4_col6\" class=\"data row4 col6\" >0.86</td>\n",
       "      <td id=\"T_6eb52_row4_col7\" class=\"data row4 col7\" >3.50</td>\n",
       "    </tr>\n",
       "  </tbody>\n",
       "</table>\n"
      ],
      "text/plain": [
       "<pandas.io.formats.style.Styler at 0x13310d590>"
      ]
     },
     "execution_count": 41,
     "metadata": {},
     "output_type": "execute_result"
    }
   ],
   "source": [
    "vehicles_sel.describe().T.style.format('{:,.2f}')"
   ]
  },
  {
   "cell_type": "code",
   "execution_count": 42,
   "id": "db4ba7bc-d76a-48bc-9662-21020eede4e5",
   "metadata": {},
   "outputs": [
    {
     "data": {
      "image/png": "[encoded data removed]",
      "text/plain": [
       "<Figure size 600x400 with 1 Axes>"
      ]
     },
     "metadata": {},
     "output_type": "display_data"
    }
   ],
   "source": [
    "plt.figure(figsize=(6,4))\n",
    "sns.boxenplot(data=vehicles_iqr, x='price', alpha=0.5, color='cyan')\n",
    "sns.boxenplot(data=vehicles_modZ, x='price', alpha=0.5, color='yellow')\n",
    "plt.show()"
   ]
  },
  {
   "cell_type": "code",
   "execution_count": 43,
   "id": "5b1778d7-919b-4e37-bd6f-3112a7b7e44c",
   "metadata": {},
   "outputs": [
    {
     "data": {
      "image/png": "[encoded data removed]",
      "text/plain": [
       "<Figure size 600x200 with 1 Axes>"
      ]
     },
     "metadata": {},
     "output_type": "display_data"
    }
   ],
   "source": [
    "plt.figure(figsize=(6,2))\n",
    "sns.violinplot(data=vehicles_sel, x='price')\n",
    "plt.show()"
   ]
  },
  {
   "cell_type": "markdown",
   "id": "4afc87b6-0186-4833-becf-b4885ef9a271",
   "metadata": {},
   "source": [
    "### Price segmentation analysis\n",
    "\n",
    "Looking at the above violin plot, let's look at price-based segments, **there seems to be at least a low- and mid-price band with a long tail that can be high-priced autos**\n",
    "\n",
    "#### Market Research Resources \n",
    "\n",
    "1. [Auto Remarketing, July 2023: Mid-Year Market Report: Dissecting used-car pricing, segment trends, CPO sales & more](http://digital.autoremarketing.com/publication/frame.php?i=794065&p=&pn=&ver=html5&view=articleBrowser&article_id=4594802)\n",
    "\n",
    "    * \"Avearge used vehicle transaction price in the first quaretr actually dipped by 6.4% year-over-year to \\\\$28,381, compared to \\\\$30,329 in Q1 2022\""
   ]
  },
  {
   "cell_type": "code",
   "execution_count": 45,
   "id": "e36c32a8-4c56-4fd4-9223-b278f85b4456",
   "metadata": {},
   "outputs": [
    {
     "data": {
      "text/plain": [
       "<Axes: xlabel='price', ylabel='Count'>"
      ]
     },
     "execution_count": 45,
     "metadata": {},
     "output_type": "execute_result"
    },
    {
     "data": {
      "image/png": "[encoded data removed]",
      "text/plain": [
       "<Figure size 640x480 with 1 Axes>"
      ]
     },
     "metadata": {},
     "output_type": "display_data"
    }
   ],
   "source": [
    "low_price_max = 5000\n",
    "veh_low_priced = vehicles_sel.query('price > 0 and price <= @low_price_max')\n",
    "sns.histplot(veh_low_priced.price, bins=100, kde=True)"
   ]
  },
  {
   "cell_type": "code",
   "execution_count": 46,
   "id": "8d239db7-3963-4a3b-a606-6b85c0af4a1c",
   "metadata": {},
   "outputs": [],
   "source": [
    "veh_low_price_upto_1000 = vehicles_sel.query('price > 0 and price <= 1000')\n",
    "veh_low_price_upto_2000 = vehicles_sel.query('price > 1000 and price <= 2000')\n",
    "veh_low_price_upto_3000 = vehicles_sel.query('price > 2000 and price <= 3000')\n",
    "veh_low_price_upto_4000 = vehicles_sel.query('price > 3000 and price <= 4000')\n",
    "veh_low_price_upto_5000 = vehicles_sel.query('price > 4000 and price <= 5000')"
   ]
  },
  {
   "cell_type": "code",
   "execution_count": 47,
   "id": "c992cf63-9d48-483e-8476-f30ae0a98c04",
   "metadata": {},
   "outputs": [
    {
     "data": {
      "image/png": "[encoded data removed]",
      "text/plain": [
       "<Figure size 800x400 with 1 Axes>"
      ]
     },
     "metadata": {},
     "output_type": "display_data"
    }
   ],
   "source": [
    "# Plot the distribution again\n",
    "plt.figure(figsize=(8, 4), layout='constrained')\n",
    "sns.histplot(veh_low_price_upto_1000.price, bins=100, kde=True, label='Under 1K', multiple='dodge')\n",
    "sns.histplot(veh_low_price_upto_2000.price, bins=100, kde=True, label='Under 2K', multiple='dodge')\n",
    "sns.histplot(veh_low_price_upto_3000.price, bins=100, kde=True, label='Under 3K', multiple='dodge')\n",
    "sns.histplot(veh_low_price_upto_4000.price, bins=100, kde=True, label='Under 4K', multiple='dodge')\n",
    "sns.histplot(veh_low_price_upto_5000.price, bins=100, kde=True, label='Under 5K', multiple='dodge')\n",
    "\n",
    "plt.title('Price Distribution for low-priced cars')\n",
    "plt.xlabel('Price')\n",
    "plt.ylabel('Frequency')\n",
    "plt.legend()\n",
    "plt.show()"
   ]
  },
  {
   "cell_type": "markdown",
   "id": "767331bf-39ee-4a72-a034-ef09cba48768",
   "metadata": {},
   "source": [
    "### Pricing Findings\n",
    "\n",
    "* There are 32,895 cars with a zero price, 7.71% of the total (426,880) - these are candidates for exclusion pending further analysis\n",
    "* The price distribution shows an extreme right-skew with a long-tail with a few outliers beyond \\\\$100K price point\n",
    "* Analyzed outliers using two separate methods (quantile analysis and Modified z-score)\n",
    "    * ModZ performed better, i.e. preserved more data samples - removing only 5,790 instead of 8,177 priced vehicles\n",
    "* Looking at the distribution of priced cars:\n",
    "    * There seems to be at least a low- and mid-price band with a long tail that can be high-priced autos**\n",
    "    * Market research on used-car prices showed an average Q12023 price of \\\\$28,381\n",
    "\n",
    "**Candidate Dataset**: Based on the above findings, these are three potential price-based segments of cars with prices:\n",
    "\n",
    "* Low-priced cars: Under \\\\$5K\n",
    "* Mid-priced cars: \\\\$5K - \\\\$50K\n",
    "* High-priced cars: ABove \\\\$50K\n",
    "\n",
    "![](images/candidate-price-segments.png)\n"
   ]
  },
  {
   "cell_type": "code",
   "execution_count": 49,
   "id": "240cdcdd-cac7-4ccd-8784-7d300dff02eb",
   "metadata": {},
   "outputs": [
    {
     "data": {
      "image/png": "[encoded data removed]",
      "text/plain": [
       "<Figure size 600x200 with 1 Axes>"
      ]
     },
     "metadata": {},
     "output_type": "display_data"
    }
   ],
   "source": [
    "plt.figure(figsize=(6,2), layout='constrained')\n",
    "plt.axvline(x=5000, color='orange', linestyle='--', linewidth=2, label='Mid-priced (5K-50K)')\n",
    "plt.axvline(x=50000, color='orange', linestyle='--', linewidth=2)\n",
    "sns.violinplot(data=vehicles_sel, x='price')\n",
    "plt.show()"
   ]
  },
  {
   "cell_type": "code",
   "execution_count": 50,
   "id": "c6481dd5-4dcc-4869-a862-465e4adf0edf",
   "metadata": {},
   "outputs": [],
   "source": [
    "# Final candidate: Priced cars (price > 0) with outliers removed\n",
    "veh_priced_no_outliers = vehicles_sel.query('price > 0')"
   ]
  },
  {
   "cell_type": "code",
   "execution_count": 51,
   "id": "5ddfbbb2-8e5e-4cd2-a3c3-bbd653160ee9",
   "metadata": {},
   "outputs": [
    {
     "data": {
      "image/png": "[encoded data removed]",
      "text/plain": [
       "<Figure size 600x200 with 1 Axes>"
      ]
     },
     "metadata": {},
     "output_type": "display_data"
    }
   ],
   "source": [
    "plt.figure(figsize=(6,2), layout='constrained')\n",
    "plt.axvline(x=5000, color='orange', linestyle='--', linewidth=2, label='Mid-priced (5K-50K)')\n",
    "plt.axvline(x=50000, color='orange', linestyle='--', linewidth=2)\n",
    "sns.violinplot(data=veh_priced_no_outliers, x='price')\n",
    "\n",
    "plt.title('Pricing Analysis: Low-, Mid- and High-priced segments')\n",
    "plt.xlabel('Pricing segments at \\\\$5K and \\\\$50K boundaries')\n",
    "plt.savefig('images/candidate-price-segments.png')\n",
    "plt.show()"
   ]
  },
  {
   "cell_type": "code",
   "execution_count": 52,
   "id": "150d1f4a-50a7-4844-864c-ff8795096d83",
   "metadata": {},
   "outputs": [
    {
     "data": {
      "text/html": [
       "<div>\n",
       "<style scoped>\n",
       "    .dataframe tbody tr th:only-of-type {\n",
       "        vertical-align: middle;\n",
       "    }\n",
       "\n",
       "    .dataframe tbody tr th {\n",
       "        vertical-align: top;\n",
       "    }\n",
       "\n",
       "    .dataframe thead th {\n",
       "        text-align: right;\n",
       "    }\n",
       "</style>\n",
       "<table border=\"1\" class=\"dataframe\">\n",
       "  <thead>\n",
       "    <tr style=\"text-align: right;\">\n",
       "      <th></th>\n",
       "      <th>id</th>\n",
       "      <th>region</th>\n",
       "      <th>price</th>\n",
       "      <th>year</th>\n",
       "      <th>manufacturer</th>\n",
       "      <th>model</th>\n",
       "      <th>condition</th>\n",
       "      <th>cylinders</th>\n",
       "      <th>fuel</th>\n",
       "      <th>odometer</th>\n",
       "      <th>title_status</th>\n",
       "      <th>transmission</th>\n",
       "      <th>VIN</th>\n",
       "      <th>drive</th>\n",
       "      <th>size</th>\n",
       "      <th>type</th>\n",
       "      <th>paint_color</th>\n",
       "      <th>state</th>\n",
       "      <th>mod_zscore</th>\n",
       "    </tr>\n",
       "  </thead>\n",
       "  <tbody>\n",
       "    <tr>\n",
       "      <th>396833</th>\n",
       "      <td>7310432605</td>\n",
       "      <td>richmond</td>\n",
       "      <td>25500</td>\n",
       "      <td>2016.0</td>\n",
       "      <td>lincoln</td>\n",
       "      <td>mkx</td>\n",
       "      <td>like new</td>\n",
       "      <td>6 cylinders</td>\n",
       "      <td>gas</td>\n",
       "      <td>27000.0</td>\n",
       "      <td>lien</td>\n",
       "      <td>automatic</td>\n",
       "      <td>NaN</td>\n",
       "      <td>4wd</td>\n",
       "      <td>mid-size</td>\n",
       "      <td>SUV</td>\n",
       "      <td>black</td>\n",
       "      <td>va</td>\n",
       "      <td>0.824389</td>\n",
       "    </tr>\n",
       "    <tr>\n",
       "      <th>360798</th>\n",
       "      <td>7311822521</td>\n",
       "      <td>nashville</td>\n",
       "      <td>12995</td>\n",
       "      <td>2015.0</td>\n",
       "      <td>nissan</td>\n",
       "      <td>rogue</td>\n",
       "      <td>NaN</td>\n",
       "      <td>NaN</td>\n",
       "      <td>gas</td>\n",
       "      <td>122806.0</td>\n",
       "      <td>clean</td>\n",
       "      <td>automatic</td>\n",
       "      <td>5N1AT2MT0FC830220</td>\n",
       "      <td>NaN</td>\n",
       "      <td>NaN</td>\n",
       "      <td>NaN</td>\n",
       "      <td>white</td>\n",
       "      <td>tn</td>\n",
       "      <td>-0.068164</td>\n",
       "    </tr>\n",
       "  </tbody>\n",
       "</table>\n",
       "</div>"
      ],
      "text/plain": [
       "                id     region  price    year manufacturer  model condition  \\\n",
       "396833  7310432605   richmond  25500  2016.0      lincoln    mkx  like new   \n",
       "360798  7311822521  nashville  12995  2015.0       nissan  rogue       NaN   \n",
       "\n",
       "          cylinders fuel  odometer title_status transmission  \\\n",
       "396833  6 cylinders  gas   27000.0         lien    automatic   \n",
       "360798          NaN  gas  122806.0        clean    automatic   \n",
       "\n",
       "                      VIN drive      size type paint_color state  mod_zscore  \n",
       "396833                NaN   4wd  mid-size  SUV       black    va    0.824389  \n",
       "360798  5N1AT2MT0FC830220   NaN       NaN  NaN       white    tn   -0.068164  "
      ]
     },
     "execution_count": 52,
     "metadata": {},
     "output_type": "execute_result"
    }
   ],
   "source": [
    "# Create some small datasets to speed up debugging\n",
    "veh_sample_25K = veh_priced_no_outliers.sample(n=25000, random_state=42)\n",
    "veh_sample_50K = veh_priced_no_outliers.sample(n=50000, random_state=42)\n",
    "veh_sample_25K.head(2)"
   ]
  },
  {
   "cell_type": "markdown",
   "id": "29bdb2e1-de4e-4124-be1c-6eee03ed59d6",
   "metadata": {},
   "source": [
    "## Inspect: id\n",
    "\n",
    "Analyzing the candidate dataset up to this point, showed NO null or duplicated data as it is a **unique ID** column\n",
    "\n",
    "**We will _remove this column_ as it would affect the data modeling. We may come back to this after initial modeling**"
   ]
  },
  {
   "cell_type": "code",
   "execution_count": 54,
   "id": "250c25cd-0926-4e24-8914-a74d1869adcd",
   "metadata": {},
   "outputs": [
    {
     "name": "stdout",
     "output_type": "stream",
     "text": [
      "NULL - id: raw: 0 sel: 0 => pct: 0.00%\n"
     ]
    }
   ],
   "source": [
    "col='id'\n",
    "raw_null_c = vehicles_raw[col].isnull().sum()\n",
    "sel_null_c = vehicles_sel[col].isnull().sum()\n",
    "print('NULL - {}: raw: {:,d} sel: {:,d} => pct: {:,.2f}%'\n",
    "      .format(col, raw_null_c, sel_null_c, (sel_null_c / vehicles_sel.shape[0]) * 100))"
   ]
  },
  {
   "cell_type": "code",
   "execution_count": 55,
   "id": "11755e29-7b97-460d-b0fe-a55a7b9dbc3a",
   "metadata": {},
   "outputs": [
    {
     "name": "stdout",
     "output_type": "stream",
     "text": [
      "DUPES - id: raw: 0 sel: 0 => pct: 0.00%\n"
     ]
    }
   ],
   "source": [
    "col='id'\n",
    "raw_null_c = vehicles_raw[col].duplicated().sum()\n",
    "sel_null_c = vehicles_sel[col].duplicated().sum()\n",
    "print('DUPES - {}: raw: {:,d} sel: {:,d} => pct: {:,.2f}%'\n",
    "      .format(col, raw_null_c, sel_null_c, (sel_null_c / vehicles_sel.shape[0]) * 100))"
   ]
  },
  {
   "cell_type": "code",
   "execution_count": 56,
   "id": "9873dcd6-f11e-4964-bdf6-1d08d234cefd",
   "metadata": {},
   "outputs": [
    {
     "data": {
      "text/plain": [
       "(421090, 18)"
      ]
     },
     "execution_count": 56,
     "metadata": {},
     "output_type": "execute_result"
    }
   ],
   "source": [
    "vehicles_sel = vehicles_sel.drop('id', axis=1)\n",
    "vehicles_sel.shape"
   ]
  },
  {
   "cell_type": "markdown",
   "id": "afb8b3e6-6920-48b4-8a1d-3cbe66405282",
   "metadata": {},
   "source": [
    "## Inspect: condition\n",
    "\n",
    "1. There are 163,851 null values (40.55% of total)\n",
    "2. This is a very high percentage, so we cannot simply remove these rows\n",
    "\n",
    "**Intuitively, condition is likely a large determinant of final price, so we will leave all these values and take this into consideration during modeling**"
   ]
  },
  {
   "cell_type": "code",
   "execution_count": 58,
   "id": "43ab9bb5-4a80-44b3-b5b4-1ba9a7128c1c",
   "metadata": {},
   "outputs": [
    {
     "name": "stdout",
     "output_type": "stream",
     "text": [
      "condition.isnull(): raw: 174,104 sel: 170,352\n"
     ]
    }
   ],
   "source": [
    "print('condition.isnull(): raw: {:,d} sel: {:,d}'.format(vehicles_raw.condition.isnull().sum(), vehicles_sel.condition.isnull().sum()))"
   ]
  },
  {
   "cell_type": "code",
   "execution_count": 59,
   "id": "1f2f492f-3f58-4655-a463-b6bbb59d0ad2",
   "metadata": {},
   "outputs": [
    {
     "name": "stdout",
     "output_type": "stream",
     "text": [
      "NULL - condition: raw: 174,104 sel: 170,352 => pct: 40.46%\n"
     ]
    }
   ],
   "source": [
    "col='condition'\n",
    "raw_null_c = vehicles_raw[col].isnull().sum()\n",
    "sel_null_c = vehicles_sel[col].isnull().sum()\n",
    "print('NULL - {}: raw: {:,d} sel: {:,d} => pct: {:,.2f}%'\n",
    "      .format(col, raw_null_c, sel_null_c, (sel_null_c / vehicles_sel.shape[0]) * 100))"
   ]
  },
  {
   "cell_type": "code",
   "execution_count": 60,
   "id": "95f6049b-f5a4-465a-83a9-49b5d9747916",
   "metadata": {},
   "outputs": [
    {
     "data": {
      "text/html": [
       "<div>\n",
       "<style scoped>\n",
       "    .dataframe tbody tr th:only-of-type {\n",
       "        vertical-align: middle;\n",
       "    }\n",
       "\n",
       "    .dataframe tbody tr th {\n",
       "        vertical-align: top;\n",
       "    }\n",
       "\n",
       "    .dataframe thead th {\n",
       "        text-align: right;\n",
       "    }\n",
       "</style>\n",
       "<table border=\"1\" class=\"dataframe\">\n",
       "  <thead>\n",
       "    <tr style=\"text-align: right;\">\n",
       "      <th></th>\n",
       "      <th>condition</th>\n",
       "      <th>Raw#</th>\n",
       "      <th>Sel#</th>\n",
       "    </tr>\n",
       "  </thead>\n",
       "  <tbody>\n",
       "    <tr>\n",
       "      <th>0</th>\n",
       "      <td>excellent</td>\n",
       "      <td>101467</td>\n",
       "      <td>100439</td>\n",
       "    </tr>\n",
       "    <tr>\n",
       "      <th>1</th>\n",
       "      <td>fair</td>\n",
       "      <td>6769</td>\n",
       "      <td>6755</td>\n",
       "    </tr>\n",
       "    <tr>\n",
       "      <th>2</th>\n",
       "      <td>good</td>\n",
       "      <td>121456</td>\n",
       "      <td>121062</td>\n",
       "    </tr>\n",
       "    <tr>\n",
       "      <th>3</th>\n",
       "      <td>like new</td>\n",
       "      <td>21178</td>\n",
       "      <td>20694</td>\n",
       "    </tr>\n",
       "    <tr>\n",
       "      <th>4</th>\n",
       "      <td>new</td>\n",
       "      <td>1305</td>\n",
       "      <td>1187</td>\n",
       "    </tr>\n",
       "    <tr>\n",
       "      <th>5</th>\n",
       "      <td>salvage</td>\n",
       "      <td>601</td>\n",
       "      <td>601</td>\n",
       "    </tr>\n",
       "    <tr>\n",
       "      <th>6</th>\n",
       "      <td>0</td>\n",
       "      <td>174104</td>\n",
       "      <td>170352</td>\n",
       "    </tr>\n",
       "  </tbody>\n",
       "</table>\n",
       "</div>"
      ],
      "text/plain": [
       "   condition    Raw#    Sel#\n",
       "0  excellent  101467  100439\n",
       "1       fair    6769    6755\n",
       "2       good  121456  121062\n",
       "3   like new   21178   20694\n",
       "4        new    1305    1187\n",
       "5    salvage     601     601\n",
       "6          0  174104  170352"
      ]
     },
     "execution_count": 60,
     "metadata": {},
     "output_type": "execute_result"
    }
   ],
   "source": [
    "value_counts_2df(vehicles_raw, vehicles_sel, 'Raw#', 'Sel#', 'condition', dropna=False)"
   ]
  },
  {
   "cell_type": "code",
   "execution_count": 61,
   "id": "3e1e924e-2509-4236-a64d-832007c32c0a",
   "metadata": {},
   "outputs": [
    {
     "data": {
      "text/plain": [
       "<Axes: xlabel='price', ylabel='year'>"
      ]
     },
     "execution_count": 61,
     "metadata": {},
     "output_type": "execute_result"
    },
    {
     "data": {
      "image/png": "[encoded data removed]",
      "text/plain": [
       "<Figure size 640x480 with 1 Axes>"
      ]
     },
     "metadata": {},
     "output_type": "display_data"
    }
   ],
   "source": [
    "sns.scatterplot(data=veh_sample_25K, x='price', y='year', hue='condition')"
   ]
  },
  {
   "cell_type": "markdown",
   "id": "26a5467f-0588-436f-81cd-940fb1f519ab",
   "metadata": {},
   "source": [
    "## Inspect: VIN\n",
    "\n",
    "Analyzing the candidate dataset up to this point, showed a large number of null and duplicated data:\n",
    "\n",
    "* Nulls: 159,512 representing 37.88% of samples\n",
    "* Duplicates: 304,422 representing 72.29% of samples\n",
    "\n",
    "**Given this, we will _not remove nulls or duplicates at this time_ as it would remove a large percentage of training data. We may come back to this after initial modeling**"
   ]
  },
  {
   "cell_type": "code",
   "execution_count": 63,
   "id": "333ccb12-4f5e-4c05-b232-e2c15e285261",
   "metadata": {},
   "outputs": [
    {
     "name": "stdout",
     "output_type": "stream",
     "text": [
      "NULL - VIN: raw: 161,042 sel: 159,512 => pct: 37.88%\n"
     ]
    }
   ],
   "source": [
    "col='VIN'\n",
    "raw_null_c = vehicles_raw[col].isnull().sum()\n",
    "sel_null_c = vehicles_sel[col].isnull().sum()\n",
    "print('NULL - {}: raw: {:,d} sel: {:,d} => pct: {:,.2f}%'\n",
    "      .format(col, raw_null_c, sel_null_c, (sel_null_c / vehicles_sel.shape[0]) * 100))"
   ]
  },
  {
   "cell_type": "code",
   "execution_count": 64,
   "id": "70db7996-c10b-4bdb-9ba8-7d6aa10c6d8f",
   "metadata": {},
   "outputs": [
    {
     "name": "stdout",
     "output_type": "stream",
     "text": [
      "DUPES - VIN: raw: 308,633 sel: 304,422 => pct: 72.29%\n"
     ]
    }
   ],
   "source": [
    "col='VIN'\n",
    "raw_null_c = vehicles_raw[col].duplicated().sum()\n",
    "sel_null_c = vehicles_sel[col].duplicated().sum()\n",
    "print('DUPES - {}: raw: {:,d} sel: {:,d} => pct: {:,.2f}%'\n",
    "      .format(col, raw_null_c, sel_null_c, (sel_null_c / vehicles_sel.shape[0]) * 100))"
   ]
  },
  {
   "cell_type": "markdown",
   "id": "9389a5f3-37a9-4a8d-a869-a0aec8901846",
   "metadata": {},
   "source": [
    "## Inspect: year\n",
    "\n",
    "1. There are 1,061 null values (0.25% of total)\n",
    "\n",
    "**Let's drop the nulls to get a clean data set**"
   ]
  },
  {
   "cell_type": "code",
   "execution_count": 66,
   "id": "57cc2732-00c9-4ca5-b486-81427dbbcaf5",
   "metadata": {},
   "outputs": [
    {
     "name": "stdout",
     "output_type": "stream",
     "text": [
      "NULL - year: raw: 1,205 sel: 1,061 => pct: 0.25%\n"
     ]
    }
   ],
   "source": [
    "col='year'\n",
    "raw_null_c = vehicles_raw[col].isnull().sum()\n",
    "sel_null_c = vehicles_sel[col].isnull().sum()\n",
    "print('NULL - {}: raw: {:,d} sel: {:,d} => pct: {:,.2f}%'\n",
    "      .format(col, raw_null_c, sel_null_c, (sel_null_c / vehicles_sel.shape[0]) * 100))"
   ]
  },
  {
   "cell_type": "code",
   "execution_count": 67,
   "id": "654c51f9-ded1-4c79-81e7-e729f3bf9153",
   "metadata": {},
   "outputs": [
    {
     "data": {
      "image/png": "[encoded data removed]",
      "text/plain": [
       "<Figure size 600x200 with 1 Axes>"
      ]
     },
     "metadata": {},
     "output_type": "display_data"
    }
   ],
   "source": [
    "plt.figure(figsize=(6,2))\n",
    "sns.boxenplot(data=vehicles_sel, x='year')\n",
    "plt.show()"
   ]
  },
  {
   "cell_type": "code",
   "execution_count": 68,
   "id": "b4af6ab9-090a-42b8-874e-6a5d5eddbdd9",
   "metadata": {},
   "outputs": [
    {
     "data": {
      "text/plain": [
       "(420029, 18)"
      ]
     },
     "execution_count": 68,
     "metadata": {},
     "output_type": "execute_result"
    }
   ],
   "source": [
    "# Removing null values from column\n",
    "vehicles_sel.dropna(subset=['year'], axis='index', inplace=True)\n",
    "vehicles_sel.shape"
   ]
  },
  {
   "cell_type": "markdown",
   "id": "9c34825f-b862-42f6-ae18-c63d602595b9",
   "metadata": {},
   "source": [
    "## Inspect: manufacturer\n",
    "\n",
    "1. There are 15,983 null values (3.81% of total)\n",
    "\n",
    "**Let's drop the nulls to get a clean data set**"
   ]
  },
  {
   "cell_type": "code",
   "execution_count": 70,
   "id": "9c6889b3-95b3-47e0-a98a-5edbd4d00539",
   "metadata": {},
   "outputs": [
    {
     "name": "stdout",
     "output_type": "stream",
     "text": [
      "NULL - manufacturer: raw: 17,646 sel: 15,983 => pct: 3.81%\n"
     ]
    }
   ],
   "source": [
    "col='manufacturer'\n",
    "raw_null_c = vehicles_raw[col].isnull().sum()\n",
    "sel_null_c = vehicles_sel[col].isnull().sum()\n",
    "print('NULL - {}: raw: {:,d} sel: {:,d} => pct: {:,.2f}%'\n",
    "      .format(col, raw_null_c, sel_null_c, (sel_null_c / vehicles_sel.shape[0]) * 100))"
   ]
  },
  {
   "cell_type": "code",
   "execution_count": 71,
   "id": "1932e176-016c-4d63-98c1-5b14f78cf6ae",
   "metadata": {},
   "outputs": [
    {
     "data": {
      "text/html": [
       "<div>\n",
       "<style scoped>\n",
       "    .dataframe tbody tr th:only-of-type {\n",
       "        vertical-align: middle;\n",
       "    }\n",
       "\n",
       "    .dataframe tbody tr th {\n",
       "        vertical-align: top;\n",
       "    }\n",
       "\n",
       "    .dataframe thead th {\n",
       "        text-align: right;\n",
       "    }\n",
       "</style>\n",
       "<table border=\"1\" class=\"dataframe\">\n",
       "  <thead>\n",
       "    <tr style=\"text-align: right;\">\n",
       "      <th></th>\n",
       "      <th>manufacturer</th>\n",
       "      <th>Raw#</th>\n",
       "      <th>Sel#</th>\n",
       "    </tr>\n",
       "  </thead>\n",
       "  <tbody>\n",
       "    <tr>\n",
       "      <th>0</th>\n",
       "      <td>acura</td>\n",
       "      <td>5978</td>\n",
       "      <td>5965</td>\n",
       "    </tr>\n",
       "    <tr>\n",
       "      <th>1</th>\n",
       "      <td>alfa-romeo</td>\n",
       "      <td>897</td>\n",
       "      <td>897</td>\n",
       "    </tr>\n",
       "    <tr>\n",
       "      <th>2</th>\n",
       "      <td>aston-martin</td>\n",
       "      <td>24</td>\n",
       "      <td>14</td>\n",
       "    </tr>\n",
       "    <tr>\n",
       "      <th>3</th>\n",
       "      <td>audi</td>\n",
       "      <td>7573</td>\n",
       "      <td>7437</td>\n",
       "    </tr>\n",
       "    <tr>\n",
       "      <th>4</th>\n",
       "      <td>bmw</td>\n",
       "      <td>14699</td>\n",
       "      <td>14595</td>\n",
       "    </tr>\n",
       "  </tbody>\n",
       "</table>\n",
       "</div>"
      ],
      "text/plain": [
       "   manufacturer   Raw#   Sel#\n",
       "0         acura   5978   5965\n",
       "1    alfa-romeo    897    897\n",
       "2  aston-martin     24     14\n",
       "3          audi   7573   7437\n",
       "4           bmw  14699  14595"
      ]
     },
     "execution_count": 71,
     "metadata": {},
     "output_type": "execute_result"
    }
   ],
   "source": [
    "value_counts_2df(vehicles_raw, vehicles_sel, 'Raw#', 'Sel#', col, dropna=False).head()"
   ]
  },
  {
   "cell_type": "code",
   "execution_count": 72,
   "id": "c2813faa-ef6f-431e-81fe-5fa7abfd9447",
   "metadata": {},
   "outputs": [
    {
     "data": {
      "text/plain": [
       "(404046, 18)"
      ]
     },
     "execution_count": 72,
     "metadata": {},
     "output_type": "execute_result"
    }
   ],
   "source": [
    "# Removing null values from column\n",
    "vehicles_sel.dropna(subset=['manufacturer'], axis='index', inplace=True)\n",
    "vehicles_sel.shape"
   ]
  },
  {
   "cell_type": "markdown",
   "id": "a43adcb9-beda-443d-93fa-e61b3a728174",
   "metadata": {},
   "source": [
    "## Inspect: model\n",
    "\n",
    "1. Null count is 4,943 (1.22% of total)\n",
    "2. This is a string field, but has a lot of noise - we should not use it during modeling\n",
    "\n",
    "**We will _remove this column_ as it would affect the data modeling. We may come back to this after initial modeling**"
   ]
  },
  {
   "cell_type": "code",
   "execution_count": 74,
   "id": "f04fdf7f-71d1-4c2e-ba64-162ff32e1879",
   "metadata": {},
   "outputs": [
    {
     "name": "stdout",
     "output_type": "stream",
     "text": [
      "NULL - model: raw: 5,277 sel: 4,943 => pct: 1.22%\n"
     ]
    }
   ],
   "source": [
    "col='model'\n",
    "raw_null_c = vehicles_raw[col].isnull().sum()\n",
    "sel_null_c = vehicles_sel[col].isnull().sum()\n",
    "print('NULL - {}: raw: {:,d} sel: {:,d} => pct: {:,.2f}%'\n",
    "      .format(col, raw_null_c, sel_null_c, (sel_null_c / vehicles_sel.shape[0]) * 100))"
   ]
  },
  {
   "cell_type": "code",
   "execution_count": 75,
   "id": "1a9d7569-f111-4d1f-b61e-bc9b5c8f0685",
   "metadata": {},
   "outputs": [
    {
     "data": {
      "text/html": [
       "<div>\n",
       "<style scoped>\n",
       "    .dataframe tbody tr th:only-of-type {\n",
       "        vertical-align: middle;\n",
       "    }\n",
       "\n",
       "    .dataframe tbody tr th {\n",
       "        vertical-align: top;\n",
       "    }\n",
       "\n",
       "    .dataframe thead th {\n",
       "        text-align: right;\n",
       "    }\n",
       "</style>\n",
       "<table border=\"1\" class=\"dataframe\">\n",
       "  <thead>\n",
       "    <tr style=\"text-align: right;\">\n",
       "      <th></th>\n",
       "      <th>model</th>\n",
       "      <th>Raw#</th>\n",
       "      <th>Sel#</th>\n",
       "    </tr>\n",
       "  </thead>\n",
       "  <tbody>\n",
       "    <tr>\n",
       "      <th>0</th>\n",
       "      <td>\"t\"</td>\n",
       "      <td>1</td>\n",
       "      <td>1</td>\n",
       "    </tr>\n",
       "    <tr>\n",
       "      <th>1</th>\n",
       "      <td>#NAME?</td>\n",
       "      <td>41</td>\n",
       "      <td>10</td>\n",
       "    </tr>\n",
       "    <tr>\n",
       "      <th>2</th>\n",
       "      <td>$362.47, $1000 down, oac, 2.9%apr $362.47,luxu...</td>\n",
       "      <td>1</td>\n",
       "      <td>1</td>\n",
       "    </tr>\n",
       "    <tr>\n",
       "      <th>3</th>\n",
       "      <td>%</td>\n",
       "      <td>1</td>\n",
       "      <td>0</td>\n",
       "    </tr>\n",
       "    <tr>\n",
       "      <th>4</th>\n",
       "      <td>&amp; altima</td>\n",
       "      <td>1</td>\n",
       "      <td>1</td>\n",
       "    </tr>\n",
       "  </tbody>\n",
       "</table>\n",
       "</div>"
      ],
      "text/plain": [
       "                                               model  Raw#  Sel#\n",
       "0                                                \"t\"     1     1\n",
       "1                                             #NAME?    41    10\n",
       "2  $362.47, $1000 down, oac, 2.9%apr $362.47,luxu...     1     1\n",
       "3                                                  %     1     0\n",
       "4                                           & altima     1     1"
      ]
     },
     "execution_count": 75,
     "metadata": {},
     "output_type": "execute_result"
    }
   ],
   "source": [
    "value_counts_2df(vehicles_raw, vehicles_sel, 'Raw#', 'Sel#', col, dropna=False).head()"
   ]
  },
  {
   "cell_type": "code",
   "execution_count": 76,
   "id": "e2b50845-13e3-42d5-8db2-7c2ebac134cd",
   "metadata": {},
   "outputs": [
    {
     "data": {
      "text/plain": [
       "(404046, 17)"
      ]
     },
     "execution_count": 76,
     "metadata": {},
     "output_type": "execute_result"
    }
   ],
   "source": [
    "vehicles_sel = vehicles_sel.drop('model', axis='columns')\n",
    "vehicles_sel.shape"
   ]
  },
  {
   "cell_type": "markdown",
   "id": "17075b5d-d12a-46bf-837e-5defa7025d75",
   "metadata": {},
   "source": [
    "## Inspect: cylinders\n",
    "\n",
    "1. Null count is 166,981 (41.33% of total)\n",
    "2. There are also 1,002 rows with a value of 'other'\n",
    "3. This is a string field, but has a lot of noise - we should not use it during modeling\n",
    "\n",
    "**Intuitively, cylinders is likely a large determinant of final price, so we will leave all these values and take this into consideration during modeling**\n"
   ]
  },
  {
   "cell_type": "code",
   "execution_count": 78,
   "id": "418f11f0-b88f-4493-ac31-fcac7456264b",
   "metadata": {},
   "outputs": [
    {
     "name": "stdout",
     "output_type": "stream",
     "text": [
      "NULL - cylinders: raw: 177,678 sel: 166,981 => pct: 41.33%\n"
     ]
    }
   ],
   "source": [
    "col='cylinders'\n",
    "raw_null_c = vehicles_raw[col].isnull().sum()\n",
    "sel_null_c = vehicles_sel[col].isnull().sum()\n",
    "print('NULL - {}: raw: {:,d} sel: {:,d} => pct: {:,.2f}%'\n",
    "      .format(col, raw_null_c, sel_null_c, (sel_null_c / vehicles_sel.shape[0]) * 100))"
   ]
  },
  {
   "cell_type": "code",
   "execution_count": 79,
   "id": "367954e5-74b0-455f-83e3-f448735b6860",
   "metadata": {},
   "outputs": [
    {
     "data": {
      "text/html": [
       "<div>\n",
       "<style scoped>\n",
       "    .dataframe tbody tr th:only-of-type {\n",
       "        vertical-align: middle;\n",
       "    }\n",
       "\n",
       "    .dataframe tbody tr th {\n",
       "        vertical-align: top;\n",
       "    }\n",
       "\n",
       "    .dataframe thead th {\n",
       "        text-align: right;\n",
       "    }\n",
       "</style>\n",
       "<table border=\"1\" class=\"dataframe\">\n",
       "  <thead>\n",
       "    <tr style=\"text-align: right;\">\n",
       "      <th></th>\n",
       "      <th>cylinders</th>\n",
       "      <th>Raw#</th>\n",
       "      <th>Sel#</th>\n",
       "    </tr>\n",
       "  </thead>\n",
       "  <tbody>\n",
       "    <tr>\n",
       "      <th>0</th>\n",
       "      <td>10 cylinders</td>\n",
       "      <td>1455</td>\n",
       "      <td>1334</td>\n",
       "    </tr>\n",
       "    <tr>\n",
       "      <th>1</th>\n",
       "      <td>12 cylinders</td>\n",
       "      <td>209</td>\n",
       "      <td>105</td>\n",
       "    </tr>\n",
       "    <tr>\n",
       "      <th>2</th>\n",
       "      <td>3 cylinders</td>\n",
       "      <td>655</td>\n",
       "      <td>554</td>\n",
       "    </tr>\n",
       "    <tr>\n",
       "      <th>3</th>\n",
       "      <td>4 cylinders</td>\n",
       "      <td>77642</td>\n",
       "      <td>74801</td>\n",
       "    </tr>\n",
       "    <tr>\n",
       "      <th>4</th>\n",
       "      <td>5 cylinders</td>\n",
       "      <td>1712</td>\n",
       "      <td>1574</td>\n",
       "    </tr>\n",
       "    <tr>\n",
       "      <th>5</th>\n",
       "      <td>6 cylinders</td>\n",
       "      <td>94169</td>\n",
       "      <td>90230</td>\n",
       "    </tr>\n",
       "    <tr>\n",
       "      <th>6</th>\n",
       "      <td>8 cylinders</td>\n",
       "      <td>72062</td>\n",
       "      <td>67465</td>\n",
       "    </tr>\n",
       "    <tr>\n",
       "      <th>7</th>\n",
       "      <td>other</td>\n",
       "      <td>1298</td>\n",
       "      <td>1002</td>\n",
       "    </tr>\n",
       "    <tr>\n",
       "      <th>8</th>\n",
       "      <td>0</td>\n",
       "      <td>177678</td>\n",
       "      <td>166981</td>\n",
       "    </tr>\n",
       "  </tbody>\n",
       "</table>\n",
       "</div>"
      ],
      "text/plain": [
       "      cylinders    Raw#    Sel#\n",
       "0  10 cylinders    1455    1334\n",
       "1  12 cylinders     209     105\n",
       "2   3 cylinders     655     554\n",
       "3   4 cylinders   77642   74801\n",
       "4   5 cylinders    1712    1574\n",
       "5   6 cylinders   94169   90230\n",
       "6   8 cylinders   72062   67465\n",
       "7         other    1298    1002\n",
       "8             0  177678  166981"
      ]
     },
     "execution_count": 79,
     "metadata": {},
     "output_type": "execute_result"
    }
   ],
   "source": [
    "value_counts_2df(vehicles_raw, vehicles_sel, 'Raw#', 'Sel#', col, dropna=False)"
   ]
  },
  {
   "cell_type": "markdown",
   "id": "2e7ac4f9-db3e-4f87-80aa-8d264366a204",
   "metadata": {},
   "source": [
    "## Inspect: fuel\n",
    "\n",
    "1. Null count is 2,532 (0.63% of total)\n",
    "2. This is a string field and could contribute to the price models once the nulls are removed\n",
    "\n",
    "**Let's drop the nulls to get a clean data set**"
   ]
  },
  {
   "cell_type": "code",
   "execution_count": 81,
   "id": "2420e97a-2db8-46f6-9bbc-753231ebc0ef",
   "metadata": {},
   "outputs": [
    {
     "name": "stdout",
     "output_type": "stream",
     "text": [
      "NULL - fuel: raw: 3,013 sel: 2,532 => pct: 0.63%\n"
     ]
    }
   ],
   "source": [
    "col='fuel'\n",
    "raw_null_c = vehicles_raw[col].isnull().sum()\n",
    "sel_null_c = vehicles_sel[col].isnull().sum()\n",
    "print('NULL - {}: raw: {:,d} sel: {:,d} => pct: {:,.2f}%'\n",
    "      .format(col, raw_null_c, sel_null_c, (sel_null_c / vehicles_sel.shape[0]) * 100))"
   ]
  },
  {
   "cell_type": "code",
   "execution_count": 82,
   "id": "01684f07-aa1f-47f7-91de-8b02d3e07e3e",
   "metadata": {},
   "outputs": [
    {
     "data": {
      "text/html": [
       "<div>\n",
       "<style scoped>\n",
       "    .dataframe tbody tr th:only-of-type {\n",
       "        vertical-align: middle;\n",
       "    }\n",
       "\n",
       "    .dataframe tbody tr th {\n",
       "        vertical-align: top;\n",
       "    }\n",
       "\n",
       "    .dataframe thead th {\n",
       "        text-align: right;\n",
       "    }\n",
       "</style>\n",
       "<table border=\"1\" class=\"dataframe\">\n",
       "  <thead>\n",
       "    <tr style=\"text-align: right;\">\n",
       "      <th></th>\n",
       "      <th>fuel</th>\n",
       "      <th>Raw#</th>\n",
       "      <th>Sel#</th>\n",
       "    </tr>\n",
       "  </thead>\n",
       "  <tbody>\n",
       "    <tr>\n",
       "      <th>0</th>\n",
       "      <td>diesel</td>\n",
       "      <td>30062</td>\n",
       "      <td>23997</td>\n",
       "    </tr>\n",
       "    <tr>\n",
       "      <th>1</th>\n",
       "      <td>electric</td>\n",
       "      <td>1698</td>\n",
       "      <td>1565</td>\n",
       "    </tr>\n",
       "    <tr>\n",
       "      <th>2</th>\n",
       "      <td>gas</td>\n",
       "      <td>356209</td>\n",
       "      <td>342137</td>\n",
       "    </tr>\n",
       "    <tr>\n",
       "      <th>3</th>\n",
       "      <td>hybrid</td>\n",
       "      <td>5170</td>\n",
       "      <td>5093</td>\n",
       "    </tr>\n",
       "    <tr>\n",
       "      <th>4</th>\n",
       "      <td>other</td>\n",
       "      <td>30728</td>\n",
       "      <td>28722</td>\n",
       "    </tr>\n",
       "    <tr>\n",
       "      <th>5</th>\n",
       "      <td>0</td>\n",
       "      <td>3013</td>\n",
       "      <td>2532</td>\n",
       "    </tr>\n",
       "  </tbody>\n",
       "</table>\n",
       "</div>"
      ],
      "text/plain": [
       "       fuel    Raw#    Sel#\n",
       "0    diesel   30062   23997\n",
       "1  electric    1698    1565\n",
       "2       gas  356209  342137\n",
       "3    hybrid    5170    5093\n",
       "4     other   30728   28722\n",
       "5         0    3013    2532"
      ]
     },
     "execution_count": 82,
     "metadata": {},
     "output_type": "execute_result"
    }
   ],
   "source": [
    "value_counts_2df(vehicles_raw, vehicles_sel, 'Raw#', 'Sel#', col, dropna=False)"
   ]
  },
  {
   "cell_type": "code",
   "execution_count": 83,
   "id": "d3408828-8868-41dd-9712-77aa702437b4",
   "metadata": {},
   "outputs": [
    {
     "data": {
      "text/plain": [
       "(401514, 17)"
      ]
     },
     "execution_count": 83,
     "metadata": {},
     "output_type": "execute_result"
    }
   ],
   "source": [
    "# Removing null values from column\n",
    "vehicles_sel.dropna(subset=['fuel'], axis='index', inplace=True)\n",
    "vehicles_sel.shape"
   ]
  },
  {
   "cell_type": "markdown",
   "id": "ba9e8ae6-04e1-4f9a-8ba1-df50389acfb0",
   "metadata": {},
   "source": [
    "## Inspect: title_status\n",
    "\n",
    "1. Null count is 6,612 (1.65% of total)\n",
    "2. This is a string field and could contribute to the price models once the nulls are removed\n",
    "\n",
    "**Let's drop the nulls to get a clean data set**"
   ]
  },
  {
   "cell_type": "code",
   "execution_count": 85,
   "id": "76bbe39f-09b3-4ae7-af27-8cd08f8bcf72",
   "metadata": {},
   "outputs": [
    {
     "name": "stdout",
     "output_type": "stream",
     "text": [
      "NULL - title_status: raw: 8,242 sel: 6,612 => pct: 1.65%\n"
     ]
    }
   ],
   "source": [
    "col='title_status'\n",
    "raw_null_c = vehicles_raw[col].isnull().sum()\n",
    "sel_null_c = vehicles_sel[col].isnull().sum()\n",
    "print('NULL - {}: raw: {:,d} sel: {:,d} => pct: {:,.2f}%'\n",
    "      .format(col, raw_null_c, sel_null_c, (sel_null_c / vehicles_sel.shape[0]) * 100))"
   ]
  },
  {
   "cell_type": "code",
   "execution_count": 86,
   "id": "89f4022f-e601-4aea-b37e-683947abd568",
   "metadata": {},
   "outputs": [
    {
     "data": {
      "text/html": [
       "<div>\n",
       "<style scoped>\n",
       "    .dataframe tbody tr th:only-of-type {\n",
       "        vertical-align: middle;\n",
       "    }\n",
       "\n",
       "    .dataframe tbody tr th {\n",
       "        vertical-align: top;\n",
       "    }\n",
       "\n",
       "    .dataframe thead th {\n",
       "        text-align: right;\n",
       "    }\n",
       "</style>\n",
       "<table border=\"1\" class=\"dataframe\">\n",
       "  <thead>\n",
       "    <tr style=\"text-align: right;\">\n",
       "      <th></th>\n",
       "      <th>title_status</th>\n",
       "      <th>Raw#</th>\n",
       "      <th>Sel#</th>\n",
       "    </tr>\n",
       "  </thead>\n",
       "  <tbody>\n",
       "    <tr>\n",
       "      <th>0</th>\n",
       "      <td>clean</td>\n",
       "      <td>405117</td>\n",
       "      <td>382195</td>\n",
       "    </tr>\n",
       "    <tr>\n",
       "      <th>1</th>\n",
       "      <td>lien</td>\n",
       "      <td>1422</td>\n",
       "      <td>1308</td>\n",
       "    </tr>\n",
       "    <tr>\n",
       "      <th>2</th>\n",
       "      <td>missing</td>\n",
       "      <td>814</td>\n",
       "      <td>636</td>\n",
       "    </tr>\n",
       "    <tr>\n",
       "      <th>3</th>\n",
       "      <td>parts only</td>\n",
       "      <td>198</td>\n",
       "      <td>150</td>\n",
       "    </tr>\n",
       "    <tr>\n",
       "      <th>4</th>\n",
       "      <td>rebuilt</td>\n",
       "      <td>7219</td>\n",
       "      <td>6918</td>\n",
       "    </tr>\n",
       "    <tr>\n",
       "      <th>5</th>\n",
       "      <td>salvage</td>\n",
       "      <td>3868</td>\n",
       "      <td>3695</td>\n",
       "    </tr>\n",
       "    <tr>\n",
       "      <th>6</th>\n",
       "      <td>0</td>\n",
       "      <td>8242</td>\n",
       "      <td>6612</td>\n",
       "    </tr>\n",
       "  </tbody>\n",
       "</table>\n",
       "</div>"
      ],
      "text/plain": [
       "  title_status    Raw#    Sel#\n",
       "0        clean  405117  382195\n",
       "1         lien    1422    1308\n",
       "2      missing     814     636\n",
       "3   parts only     198     150\n",
       "4      rebuilt    7219    6918\n",
       "5      salvage    3868    3695\n",
       "6            0    8242    6612"
      ]
     },
     "execution_count": 86,
     "metadata": {},
     "output_type": "execute_result"
    }
   ],
   "source": [
    "value_counts_2df(vehicles_raw, vehicles_sel, 'Raw#', 'Sel#', col, dropna=False)"
   ]
  },
  {
   "cell_type": "code",
   "execution_count": 87,
   "id": "0355b8be-db29-401f-87f2-df8a83984d5d",
   "metadata": {},
   "outputs": [
    {
     "data": {
      "text/plain": [
       "(394902, 17)"
      ]
     },
     "execution_count": 87,
     "metadata": {},
     "output_type": "execute_result"
    }
   ],
   "source": [
    "# Removing null values from column\n",
    "vehicles_sel.dropna(subset=['title_status'], axis='index', inplace=True)\n",
    "vehicles_sel.shape"
   ]
  },
  {
   "cell_type": "code",
   "execution_count": 88,
   "id": "e73d58f3-6f3f-484b-8f69-bf022e46dbc9",
   "metadata": {},
   "outputs": [
    {
     "data": {
      "text/html": [
       "<div>\n",
       "<style scoped>\n",
       "    .dataframe tbody tr th:only-of-type {\n",
       "        vertical-align: middle;\n",
       "    }\n",
       "\n",
       "    .dataframe tbody tr th {\n",
       "        vertical-align: top;\n",
       "    }\n",
       "\n",
       "    .dataframe thead th {\n",
       "        text-align: right;\n",
       "    }\n",
       "</style>\n",
       "<table border=\"1\" class=\"dataframe\">\n",
       "  <thead>\n",
       "    <tr style=\"text-align: right;\">\n",
       "      <th></th>\n",
       "      <th>count</th>\n",
       "      <th>unique</th>\n",
       "      <th>top</th>\n",
       "      <th>freq</th>\n",
       "      <th>mean</th>\n",
       "      <th>std</th>\n",
       "      <th>min</th>\n",
       "      <th>25%</th>\n",
       "      <th>50%</th>\n",
       "      <th>75%</th>\n",
       "      <th>max</th>\n",
       "    </tr>\n",
       "  </thead>\n",
       "  <tbody>\n",
       "    <tr>\n",
       "      <th>region</th>\n",
       "      <td>394902</td>\n",
       "      <td>404</td>\n",
       "      <td>columbus</td>\n",
       "      <td>3389</td>\n",
       "      <td>NaN</td>\n",
       "      <td>NaN</td>\n",
       "      <td>NaN</td>\n",
       "      <td>NaN</td>\n",
       "      <td>NaN</td>\n",
       "      <td>NaN</td>\n",
       "      <td>NaN</td>\n",
       "    </tr>\n",
       "    <tr>\n",
       "      <th>price</th>\n",
       "      <td>394902.0</td>\n",
       "      <td>NaN</td>\n",
       "      <td>NaN</td>\n",
       "      <td>NaN</td>\n",
       "      <td>16675.515318</td>\n",
       "      <td>13459.596058</td>\n",
       "      <td>0.0</td>\n",
       "      <td>5900.0</td>\n",
       "      <td>13829.5</td>\n",
       "      <td>25990.0</td>\n",
       "      <td>62981.0</td>\n",
       "    </tr>\n",
       "    <tr>\n",
       "      <th>year</th>\n",
       "      <td>394902.0</td>\n",
       "      <td>NaN</td>\n",
       "      <td>NaN</td>\n",
       "      <td>NaN</td>\n",
       "      <td>2011.415842</td>\n",
       "      <td>8.932878</td>\n",
       "      <td>1900.0</td>\n",
       "      <td>2008.0</td>\n",
       "      <td>2013.0</td>\n",
       "      <td>2017.0</td>\n",
       "      <td>2022.0</td>\n",
       "    </tr>\n",
       "    <tr>\n",
       "      <th>manufacturer</th>\n",
       "      <td>394902</td>\n",
       "      <td>42</td>\n",
       "      <td>ford</td>\n",
       "      <td>67939</td>\n",
       "      <td>NaN</td>\n",
       "      <td>NaN</td>\n",
       "      <td>NaN</td>\n",
       "      <td>NaN</td>\n",
       "      <td>NaN</td>\n",
       "      <td>NaN</td>\n",
       "      <td>NaN</td>\n",
       "    </tr>\n",
       "    <tr>\n",
       "      <th>condition</th>\n",
       "      <td>234845</td>\n",
       "      <td>6</td>\n",
       "      <td>good</td>\n",
       "      <td>115775</td>\n",
       "      <td>NaN</td>\n",
       "      <td>NaN</td>\n",
       "      <td>NaN</td>\n",
       "      <td>NaN</td>\n",
       "      <td>NaN</td>\n",
       "      <td>NaN</td>\n",
       "      <td>NaN</td>\n",
       "    </tr>\n",
       "    <tr>\n",
       "      <th>cylinders</th>\n",
       "      <td>230014</td>\n",
       "      <td>8</td>\n",
       "      <td>6 cylinders</td>\n",
       "      <td>87510</td>\n",
       "      <td>NaN</td>\n",
       "      <td>NaN</td>\n",
       "      <td>NaN</td>\n",
       "      <td>NaN</td>\n",
       "      <td>NaN</td>\n",
       "      <td>NaN</td>\n",
       "      <td>NaN</td>\n",
       "    </tr>\n",
       "    <tr>\n",
       "      <th>fuel</th>\n",
       "      <td>394902</td>\n",
       "      <td>5</td>\n",
       "      <td>gas</td>\n",
       "      <td>336076</td>\n",
       "      <td>NaN</td>\n",
       "      <td>NaN</td>\n",
       "      <td>NaN</td>\n",
       "      <td>NaN</td>\n",
       "      <td>NaN</td>\n",
       "      <td>NaN</td>\n",
       "      <td>NaN</td>\n",
       "    </tr>\n",
       "    <tr>\n",
       "      <th>odometer</th>\n",
       "      <td>391360.0</td>\n",
       "      <td>NaN</td>\n",
       "      <td>NaN</td>\n",
       "      <td>NaN</td>\n",
       "      <td>97761.893809</td>\n",
       "      <td>202410.094322</td>\n",
       "      <td>0.0</td>\n",
       "      <td>39122.75</td>\n",
       "      <td>87000.0</td>\n",
       "      <td>134200.0</td>\n",
       "      <td>10000000.0</td>\n",
       "    </tr>\n",
       "    <tr>\n",
       "      <th>title_status</th>\n",
       "      <td>394902</td>\n",
       "      <td>6</td>\n",
       "      <td>clean</td>\n",
       "      <td>382195</td>\n",
       "      <td>NaN</td>\n",
       "      <td>NaN</td>\n",
       "      <td>NaN</td>\n",
       "      <td>NaN</td>\n",
       "      <td>NaN</td>\n",
       "      <td>NaN</td>\n",
       "      <td>NaN</td>\n",
       "    </tr>\n",
       "    <tr>\n",
       "      <th>transmission</th>\n",
       "      <td>393256</td>\n",
       "      <td>3</td>\n",
       "      <td>automatic</td>\n",
       "      <td>312136</td>\n",
       "      <td>NaN</td>\n",
       "      <td>NaN</td>\n",
       "      <td>NaN</td>\n",
       "      <td>NaN</td>\n",
       "      <td>NaN</td>\n",
       "      <td>NaN</td>\n",
       "      <td>NaN</td>\n",
       "    </tr>\n",
       "    <tr>\n",
       "      <th>VIN</th>\n",
       "      <td>245126</td>\n",
       "      <td>109548</td>\n",
       "      <td>1FMJU1JT1HEA52352</td>\n",
       "      <td>261</td>\n",
       "      <td>NaN</td>\n",
       "      <td>NaN</td>\n",
       "      <td>NaN</td>\n",
       "      <td>NaN</td>\n",
       "      <td>NaN</td>\n",
       "      <td>NaN</td>\n",
       "      <td>NaN</td>\n",
       "    </tr>\n",
       "    <tr>\n",
       "      <th>drive</th>\n",
       "      <td>277071</td>\n",
       "      <td>3</td>\n",
       "      <td>4wd</td>\n",
       "      <td>123195</td>\n",
       "      <td>NaN</td>\n",
       "      <td>NaN</td>\n",
       "      <td>NaN</td>\n",
       "      <td>NaN</td>\n",
       "      <td>NaN</td>\n",
       "      <td>NaN</td>\n",
       "      <td>NaN</td>\n",
       "    </tr>\n",
       "    <tr>\n",
       "      <th>size</th>\n",
       "      <td>114238</td>\n",
       "      <td>4</td>\n",
       "      <td>full-size</td>\n",
       "      <td>59803</td>\n",
       "      <td>NaN</td>\n",
       "      <td>NaN</td>\n",
       "      <td>NaN</td>\n",
       "      <td>NaN</td>\n",
       "      <td>NaN</td>\n",
       "      <td>NaN</td>\n",
       "      <td>NaN</td>\n",
       "    </tr>\n",
       "    <tr>\n",
       "      <th>type</th>\n",
       "      <td>310677</td>\n",
       "      <td>13</td>\n",
       "      <td>sedan</td>\n",
       "      <td>82533</td>\n",
       "      <td>NaN</td>\n",
       "      <td>NaN</td>\n",
       "      <td>NaN</td>\n",
       "      <td>NaN</td>\n",
       "      <td>NaN</td>\n",
       "      <td>NaN</td>\n",
       "      <td>NaN</td>\n",
       "    </tr>\n",
       "    <tr>\n",
       "      <th>paint_color</th>\n",
       "      <td>279188</td>\n",
       "      <td>12</td>\n",
       "      <td>white</td>\n",
       "      <td>73624</td>\n",
       "      <td>NaN</td>\n",
       "      <td>NaN</td>\n",
       "      <td>NaN</td>\n",
       "      <td>NaN</td>\n",
       "      <td>NaN</td>\n",
       "      <td>NaN</td>\n",
       "      <td>NaN</td>\n",
       "    </tr>\n",
       "    <tr>\n",
       "      <th>state</th>\n",
       "      <td>394902</td>\n",
       "      <td>51</td>\n",
       "      <td>ca</td>\n",
       "      <td>46239</td>\n",
       "      <td>NaN</td>\n",
       "      <td>NaN</td>\n",
       "      <td>NaN</td>\n",
       "      <td>NaN</td>\n",
       "      <td>NaN</td>\n",
       "      <td>NaN</td>\n",
       "      <td>NaN</td>\n",
       "    </tr>\n",
       "    <tr>\n",
       "      <th>mod_zscore</th>\n",
       "      <td>394902.0</td>\n",
       "      <td>NaN</td>\n",
       "      <td>NaN</td>\n",
       "      <td>NaN</td>\n",
       "      <td>0.194535</td>\n",
       "      <td>0.960688</td>\n",
       "      <td>-0.99569</td>\n",
       "      <td>-0.574574</td>\n",
       "      <td>-0.008601</td>\n",
       "      <td>0.859363</td>\n",
       "      <td>3.49962</td>\n",
       "    </tr>\n",
       "  </tbody>\n",
       "</table>\n",
       "</div>"
      ],
      "text/plain": [
       "                 count  unique                top    freq          mean  \\\n",
       "region          394902     404           columbus    3389           NaN   \n",
       "price         394902.0     NaN                NaN     NaN  16675.515318   \n",
       "year          394902.0     NaN                NaN     NaN   2011.415842   \n",
       "manufacturer    394902      42               ford   67939           NaN   \n",
       "condition       234845       6               good  115775           NaN   \n",
       "cylinders       230014       8        6 cylinders   87510           NaN   \n",
       "fuel            394902       5                gas  336076           NaN   \n",
       "odometer      391360.0     NaN                NaN     NaN  97761.893809   \n",
       "title_status    394902       6              clean  382195           NaN   \n",
       "transmission    393256       3          automatic  312136           NaN   \n",
       "VIN             245126  109548  1FMJU1JT1HEA52352     261           NaN   \n",
       "drive           277071       3                4wd  123195           NaN   \n",
       "size            114238       4          full-size   59803           NaN   \n",
       "type            310677      13              sedan   82533           NaN   \n",
       "paint_color     279188      12              white   73624           NaN   \n",
       "state           394902      51                 ca   46239           NaN   \n",
       "mod_zscore    394902.0     NaN                NaN     NaN      0.194535   \n",
       "\n",
       "                        std      min       25%       50%       75%         max  \n",
       "region                  NaN      NaN       NaN       NaN       NaN         NaN  \n",
       "price          13459.596058      0.0    5900.0   13829.5   25990.0     62981.0  \n",
       "year               8.932878   1900.0    2008.0    2013.0    2017.0      2022.0  \n",
       "manufacturer            NaN      NaN       NaN       NaN       NaN         NaN  \n",
       "condition               NaN      NaN       NaN       NaN       NaN         NaN  \n",
       "cylinders               NaN      NaN       NaN       NaN       NaN         NaN  \n",
       "fuel                    NaN      NaN       NaN       NaN       NaN         NaN  \n",
       "odometer      202410.094322      0.0  39122.75   87000.0  134200.0  10000000.0  \n",
       "title_status            NaN      NaN       NaN       NaN       NaN         NaN  \n",
       "transmission            NaN      NaN       NaN       NaN       NaN         NaN  \n",
       "VIN                     NaN      NaN       NaN       NaN       NaN         NaN  \n",
       "drive                   NaN      NaN       NaN       NaN       NaN         NaN  \n",
       "size                    NaN      NaN       NaN       NaN       NaN         NaN  \n",
       "type                    NaN      NaN       NaN       NaN       NaN         NaN  \n",
       "paint_color             NaN      NaN       NaN       NaN       NaN         NaN  \n",
       "state                   NaN      NaN       NaN       NaN       NaN         NaN  \n",
       "mod_zscore         0.960688 -0.99569 -0.574574 -0.008601  0.859363     3.49962  "
      ]
     },
     "execution_count": 88,
     "metadata": {},
     "output_type": "execute_result"
    }
   ],
   "source": [
    "vehicles_sel.describe(include='all').T"
   ]
  },
  {
   "cell_type": "markdown",
   "id": "c5bcb580-e1a4-4743-8712-afdc0af9ebf5",
   "metadata": {},
   "source": [
    "# Multi-variate analysis"
   ]
  },
  {
   "cell_type": "markdown",
   "id": "e9f6e566-9e6b-4e3a-9b45-c64dfabc6be9",
   "metadata": {
    "jp-MarkdownHeadingCollapsed": true
   },
   "source": [
    "### Price"
   ]
  },
  {
   "cell_type": "code",
   "execution_count": 91,
   "id": "5a1f6ec9-306f-4160-a4b3-c94b174a451e",
   "metadata": {},
   "outputs": [],
   "source": [
    "# sns.pairplot(veh_sample_25K, hue='year')"
   ]
  },
  {
   "cell_type": "code",
   "execution_count": 92,
   "id": "6b59dd50-66ba-4b66-b694-4f834d833575",
   "metadata": {},
   "outputs": [],
   "source": [
    "# sns.pairplot(veh_priced_no_outliers)"
   ]
  },
  {
   "cell_type": "code",
   "execution_count": 93,
   "id": "67ec1396-0cb3-4d48-b817-1461454bf4e5",
   "metadata": {},
   "outputs": [],
   "source": [
    "# sns.violinplot(data=veh_priced_no_outliers, x='year')"
   ]
  },
  {
   "cell_type": "code",
   "execution_count": 94,
   "id": "2f36a192-b343-4eb1-8a3b-af13a77fea67",
   "metadata": {},
   "outputs": [],
   "source": [
    "# sns.displot(data=veh_zero_price, x='year', y='odometer', kind='kde', hue='price')"
   ]
  },
  {
   "cell_type": "markdown",
   "id": "7d2ac314-83df-4d10-89f9-fbf744f3f42f",
   "metadata": {},
   "source": [
    "# Data Considerations\n",
    "\n",
    "## Goals\n",
    "\n",
    "* Clean the data to optimize data mining\n",
    "* Identify guidelines for data gathering for future work"
   ]
  },
  {
   "cell_type": "code",
   "execution_count": null,
   "id": "e3ecf010-d9b2-4f9c-9fe7-2e1e0e72e6aa",
   "metadata": {},
   "outputs": [],
   "source": []
  }
 ],
 "metadata": {
  "kernelspec": {
   "display_name": "Python 3 (ipykernel)",
   "language": "python",
   "name": "python3"
  },
  "language_info": {
   "codemirror_mode": {
    "name": "ipython",
    "version": 3
   },
   "file_extension": ".py",
   "mimetype": "text/x-python",
   "name": "python",
   "nbconvert_exporter": "python",
   "pygments_lexer": "ipython3",
   "version": "3.11.9"
  },
  "widgets": {
   "application/vnd.jupyter.widget-state+json": {
    "state": {},
    "version_major": 2,
    "version_minor": 0
   }
  }
 },
 "nbformat": 4,
 "nbformat_minor": 5
}
